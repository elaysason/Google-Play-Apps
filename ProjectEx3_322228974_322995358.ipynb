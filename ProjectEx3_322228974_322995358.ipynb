{
  "nbformat": 4,
  "nbformat_minor": 0,
  "metadata": {
    "colab": {
      "name": "ProjectEx3_322228974_322995358.ipynb",
      "provenance": [],
      "collapsed_sections": []
    },
    "kernelspec": {
      "name": "python3",
      "display_name": "Python 3"
    },
    "language_info": {
      "name": "python"
    }
  },
  "cells": [
    {
      "cell_type": "markdown",
      "metadata": {
        "id": "DNd4Dn8iDRVk"
      },
      "source": [
        "<div dir=rtl><h1>\n",
        "&emsp;\n",
        "&emsp;\n",
        "&emsp;\n",
        "&emsp;\n",
        "&emsp;\n",
        "<b>\n",
        "פרוייקט חלק 3\n",
        "</b>\n",
        "</h1>\n",
        "\n",
        "<h4>\n",
        "שמות: אריאל נובומינסקי, אילי ששון\n",
        "</br>\n",
        "ת.ז. : 322228974, 322995358\n",
        "</h4>\n",
        "\n",
        "\n",
        "</div>"
      ]
    },
    {
      "cell_type": "markdown",
      "metadata": {
        "id": "1HWN-3x5Dby6"
      },
      "source": [
        "<div dir=rtl>\n",
        "<h4>\n",
        "<br>\n",
        "<br>\n",
        "\n",
        "נטען את סט הנתונים ונבצע את הטרנספורמציות שביצענו בחלק הראשון:\n",
        "</h4>\n",
        "\n",
        "\n",
        "</div>"
      ]
    },
    {
      "cell_type": "code",
      "metadata": {
        "id": "ObEA8-etDPYP",
        "colab": {
          "base_uri": "https://localhost:8080/"
        },
        "outputId": "58c576f1-6cea-4895-f130-2039502ec499"
      },
      "source": [
        "import datetime\n",
        "import statsmodels.api as sm\n",
        "import scipy.stats as dist\n",
        "import pandas as pd\n",
        "import matplotlib.pyplot as plt\n",
        "import seaborn as sns\n",
        "import numpy as np, scipy.stats as st\n",
        "import math\n",
        "import matplotlib.patches as mpatches\n",
        "from tabulate import tabulate\n",
        "from sklearn import linear_model\n",
        "from sklearn.linear_model import LogisticRegression\n",
        "from scipy.linalg import fractional_matrix_power"
      ],
      "execution_count": 1,
      "outputs": [
        {
          "output_type": "stream",
          "name": "stderr",
          "text": [
            "/usr/local/lib/python3.7/dist-packages/statsmodels/tools/_testing.py:19: FutureWarning: pandas.util.testing is deprecated. Use the functions in the public API at pandas.testing instead.\n",
            "  import pandas.util.testing as tm\n"
          ]
        }
      ]
    },
    {
      "cell_type": "code",
      "metadata": {
        "colab": {
          "base_uri": "https://localhost:8080/",
          "height": 530
        },
        "id": "GBvZR0VoEmC0",
        "outputId": "cb9db0a7-79a0-45fd-937a-b3b577c2416e"
      },
      "source": [
        "df = pd.read_csv(\"/content/googleplaystore.csv\")\n",
        "df = df.drop(df[(df.Type !='Paid') & (df.Type !='Free')].index)\n",
        "df = df.dropna()\n",
        "isFree_Data = df.Type.apply(lambda x: True if x=='Free' else False)\n",
        "df.insert(7,'IsFree',isFree_Data)\n",
        "df = df.drop('Type', 1)\n",
        "df['Last Updated'] = df['Last Updated'].str.replace(',', '')\n",
        "Last_Updated=pd.to_datetime(df['Last Updated'], format='%B %d %Y')\n",
        "df = df.drop('Last Updated',axis=1)\n",
        "df.insert(9,'Last Updated',Last_Updated)\n",
        "recntly = df['Last Updated'].map(lambda x: True if x > datetime.date(2018,6,1) else False)\n",
        "df.insert(9,'Recntly Updated',recntly)\n",
        "df['Installs'] = df['Installs'].map(lambda s: int(s[:-1].replace(',', '')))\n",
        "df['Reviews'] = df['Reviews'].map(lambda s: int(s))\n",
        "df.head()"
      ],
      "execution_count": 2,
      "outputs": [
        {
          "output_type": "stream",
          "name": "stderr",
          "text": [
            "/usr/local/lib/python3.7/dist-packages/ipykernel_launcher.py:6: FutureWarning: In a future version of pandas all arguments of DataFrame.drop except for the argument 'labels' will be keyword-only\n",
            "  \n",
            "/usr/local/lib/python3.7/dist-packages/ipykernel_launcher.py:11: FutureWarning: Comparison of Timestamp with datetime.date is deprecated in order to match the standard library behavior.  In a future version these will be considered non-comparable.Use 'ts == pd.Timestamp(date)' or 'ts.date() == date' instead.\n",
            "  # This is added back by InteractiveShellApp.init_path()\n"
          ]
        },
        {
          "output_type": "execute_result",
          "data": {
            "text/html": [
              "\n",
              "  <div id=\"df-86b6bd4f-347f-4cd5-a3ef-3c65e1b7c11e\">\n",
              "    <div class=\"colab-df-container\">\n",
              "      <div>\n",
              "<style scoped>\n",
              "    .dataframe tbody tr th:only-of-type {\n",
              "        vertical-align: middle;\n",
              "    }\n",
              "\n",
              "    .dataframe tbody tr th {\n",
              "        vertical-align: top;\n",
              "    }\n",
              "\n",
              "    .dataframe thead th {\n",
              "        text-align: right;\n",
              "    }\n",
              "</style>\n",
              "<table border=\"1\" class=\"dataframe\">\n",
              "  <thead>\n",
              "    <tr style=\"text-align: right;\">\n",
              "      <th></th>\n",
              "      <th>App</th>\n",
              "      <th>Category</th>\n",
              "      <th>Rating</th>\n",
              "      <th>Reviews</th>\n",
              "      <th>Size</th>\n",
              "      <th>Installs</th>\n",
              "      <th>IsFree</th>\n",
              "      <th>Price</th>\n",
              "      <th>Content Rating</th>\n",
              "      <th>Recntly Updated</th>\n",
              "      <th>Last Updated</th>\n",
              "      <th>Genres</th>\n",
              "      <th>Current Ver</th>\n",
              "      <th>Android Ver</th>\n",
              "    </tr>\n",
              "  </thead>\n",
              "  <tbody>\n",
              "    <tr>\n",
              "      <th>0</th>\n",
              "      <td>Photo Editor &amp; Candy Camera &amp; Grid &amp; ScrapBook</td>\n",
              "      <td>ART_AND_DESIGN</td>\n",
              "      <td>4.1</td>\n",
              "      <td>159</td>\n",
              "      <td>19M</td>\n",
              "      <td>10000</td>\n",
              "      <td>True</td>\n",
              "      <td>0</td>\n",
              "      <td>Everyone</td>\n",
              "      <td>False</td>\n",
              "      <td>2018-01-07</td>\n",
              "      <td>Art &amp; Design</td>\n",
              "      <td>1.0.0</td>\n",
              "      <td>4.0.3 and up</td>\n",
              "    </tr>\n",
              "    <tr>\n",
              "      <th>1</th>\n",
              "      <td>Coloring book moana</td>\n",
              "      <td>ART_AND_DESIGN</td>\n",
              "      <td>3.9</td>\n",
              "      <td>967</td>\n",
              "      <td>14M</td>\n",
              "      <td>500000</td>\n",
              "      <td>True</td>\n",
              "      <td>0</td>\n",
              "      <td>Everyone</td>\n",
              "      <td>False</td>\n",
              "      <td>2018-01-15</td>\n",
              "      <td>Art &amp; Design;Pretend Play</td>\n",
              "      <td>2.0.0</td>\n",
              "      <td>4.0.3 and up</td>\n",
              "    </tr>\n",
              "    <tr>\n",
              "      <th>2</th>\n",
              "      <td>U Launcher Lite – FREE Live Cool Themes, Hide ...</td>\n",
              "      <td>ART_AND_DESIGN</td>\n",
              "      <td>4.7</td>\n",
              "      <td>87510</td>\n",
              "      <td>8.7M</td>\n",
              "      <td>5000000</td>\n",
              "      <td>True</td>\n",
              "      <td>0</td>\n",
              "      <td>Everyone</td>\n",
              "      <td>True</td>\n",
              "      <td>2018-08-01</td>\n",
              "      <td>Art &amp; Design</td>\n",
              "      <td>1.2.4</td>\n",
              "      <td>4.0.3 and up</td>\n",
              "    </tr>\n",
              "    <tr>\n",
              "      <th>3</th>\n",
              "      <td>Sketch - Draw &amp; Paint</td>\n",
              "      <td>ART_AND_DESIGN</td>\n",
              "      <td>4.5</td>\n",
              "      <td>215644</td>\n",
              "      <td>25M</td>\n",
              "      <td>50000000</td>\n",
              "      <td>True</td>\n",
              "      <td>0</td>\n",
              "      <td>Teen</td>\n",
              "      <td>True</td>\n",
              "      <td>2018-06-08</td>\n",
              "      <td>Art &amp; Design</td>\n",
              "      <td>Varies with device</td>\n",
              "      <td>4.2 and up</td>\n",
              "    </tr>\n",
              "    <tr>\n",
              "      <th>4</th>\n",
              "      <td>Pixel Draw - Number Art Coloring Book</td>\n",
              "      <td>ART_AND_DESIGN</td>\n",
              "      <td>4.3</td>\n",
              "      <td>967</td>\n",
              "      <td>2.8M</td>\n",
              "      <td>100000</td>\n",
              "      <td>True</td>\n",
              "      <td>0</td>\n",
              "      <td>Everyone</td>\n",
              "      <td>True</td>\n",
              "      <td>2018-06-20</td>\n",
              "      <td>Art &amp; Design;Creativity</td>\n",
              "      <td>1.1</td>\n",
              "      <td>4.4 and up</td>\n",
              "    </tr>\n",
              "  </tbody>\n",
              "</table>\n",
              "</div>\n",
              "      <button class=\"colab-df-convert\" onclick=\"convertToInteractive('df-86b6bd4f-347f-4cd5-a3ef-3c65e1b7c11e')\"\n",
              "              title=\"Convert this dataframe to an interactive table.\"\n",
              "              style=\"display:none;\">\n",
              "        \n",
              "  <svg xmlns=\"http://www.w3.org/2000/svg\" height=\"24px\"viewBox=\"0 0 24 24\"\n",
              "       width=\"24px\">\n",
              "    <path d=\"M0 0h24v24H0V0z\" fill=\"none\"/>\n",
              "    <path d=\"M18.56 5.44l.94 2.06.94-2.06 2.06-.94-2.06-.94-.94-2.06-.94 2.06-2.06.94zm-11 1L8.5 8.5l.94-2.06 2.06-.94-2.06-.94L8.5 2.5l-.94 2.06-2.06.94zm10 10l.94 2.06.94-2.06 2.06-.94-2.06-.94-.94-2.06-.94 2.06-2.06.94z\"/><path d=\"M17.41 7.96l-1.37-1.37c-.4-.4-.92-.59-1.43-.59-.52 0-1.04.2-1.43.59L10.3 9.45l-7.72 7.72c-.78.78-.78 2.05 0 2.83L4 21.41c.39.39.9.59 1.41.59.51 0 1.02-.2 1.41-.59l7.78-7.78 2.81-2.81c.8-.78.8-2.07 0-2.86zM5.41 20L4 18.59l7.72-7.72 1.47 1.35L5.41 20z\"/>\n",
              "  </svg>\n",
              "      </button>\n",
              "      \n",
              "  <style>\n",
              "    .colab-df-container {\n",
              "      display:flex;\n",
              "      flex-wrap:wrap;\n",
              "      gap: 12px;\n",
              "    }\n",
              "\n",
              "    .colab-df-convert {\n",
              "      background-color: #E8F0FE;\n",
              "      border: none;\n",
              "      border-radius: 50%;\n",
              "      cursor: pointer;\n",
              "      display: none;\n",
              "      fill: #1967D2;\n",
              "      height: 32px;\n",
              "      padding: 0 0 0 0;\n",
              "      width: 32px;\n",
              "    }\n",
              "\n",
              "    .colab-df-convert:hover {\n",
              "      background-color: #E2EBFA;\n",
              "      box-shadow: 0px 1px 2px rgba(60, 64, 67, 0.3), 0px 1px 3px 1px rgba(60, 64, 67, 0.15);\n",
              "      fill: #174EA6;\n",
              "    }\n",
              "\n",
              "    [theme=dark] .colab-df-convert {\n",
              "      background-color: #3B4455;\n",
              "      fill: #D2E3FC;\n",
              "    }\n",
              "\n",
              "    [theme=dark] .colab-df-convert:hover {\n",
              "      background-color: #434B5C;\n",
              "      box-shadow: 0px 1px 3px 1px rgba(0, 0, 0, 0.15);\n",
              "      filter: drop-shadow(0px 1px 2px rgba(0, 0, 0, 0.3));\n",
              "      fill: #FFFFFF;\n",
              "    }\n",
              "  </style>\n",
              "\n",
              "      <script>\n",
              "        const buttonEl =\n",
              "          document.querySelector('#df-86b6bd4f-347f-4cd5-a3ef-3c65e1b7c11e button.colab-df-convert');\n",
              "        buttonEl.style.display =\n",
              "          google.colab.kernel.accessAllowed ? 'block' : 'none';\n",
              "\n",
              "        async function convertToInteractive(key) {\n",
              "          const element = document.querySelector('#df-86b6bd4f-347f-4cd5-a3ef-3c65e1b7c11e');\n",
              "          const dataTable =\n",
              "            await google.colab.kernel.invokeFunction('convertToInteractive',\n",
              "                                                     [key], {});\n",
              "          if (!dataTable) return;\n",
              "\n",
              "          const docLinkHtml = 'Like what you see? Visit the ' +\n",
              "            '<a target=\"_blank\" href=https://colab.research.google.com/notebooks/data_table.ipynb>data table notebook</a>'\n",
              "            + ' to learn more about interactive tables.';\n",
              "          element.innerHTML = '';\n",
              "          dataTable['output_type'] = 'display_data';\n",
              "          await google.colab.output.renderOutput(dataTable, element);\n",
              "          const docLink = document.createElement('div');\n",
              "          docLink.innerHTML = docLinkHtml;\n",
              "          element.appendChild(docLink);\n",
              "        }\n",
              "      </script>\n",
              "    </div>\n",
              "  </div>\n",
              "  "
            ],
            "text/plain": [
              "                                                 App        Category  Rating  \\\n",
              "0     Photo Editor & Candy Camera & Grid & ScrapBook  ART_AND_DESIGN     4.1   \n",
              "1                                Coloring book moana  ART_AND_DESIGN     3.9   \n",
              "2  U Launcher Lite – FREE Live Cool Themes, Hide ...  ART_AND_DESIGN     4.7   \n",
              "3                              Sketch - Draw & Paint  ART_AND_DESIGN     4.5   \n",
              "4              Pixel Draw - Number Art Coloring Book  ART_AND_DESIGN     4.3   \n",
              "\n",
              "   Reviews  Size  Installs  IsFree Price Content Rating  Recntly Updated  \\\n",
              "0      159   19M     10000    True     0       Everyone            False   \n",
              "1      967   14M    500000    True     0       Everyone            False   \n",
              "2    87510  8.7M   5000000    True     0       Everyone             True   \n",
              "3   215644   25M  50000000    True     0           Teen             True   \n",
              "4      967  2.8M    100000    True     0       Everyone             True   \n",
              "\n",
              "  Last Updated                     Genres         Current Ver   Android Ver  \n",
              "0   2018-01-07               Art & Design               1.0.0  4.0.3 and up  \n",
              "1   2018-01-15  Art & Design;Pretend Play               2.0.0  4.0.3 and up  \n",
              "2   2018-08-01               Art & Design               1.2.4  4.0.3 and up  \n",
              "3   2018-06-08               Art & Design  Varies with device    4.2 and up  \n",
              "4   2018-06-20    Art & Design;Creativity                 1.1    4.4 and up  "
            ]
          },
          "metadata": {},
          "execution_count": 2
        }
      ]
    },
    {
      "cell_type": "markdown",
      "metadata": {
        "id": "ySRevgtvGo_h"
      },
      "source": [
        "<div dir=rtl>\n",
        "<h3>\n",
        "<b>חלק א' - ריגרסיה לינארית</b>\n",
        "</h3>\n",
        "</div>"
      ]
    },
    {
      "cell_type": "markdown",
      "source": [
        "<div dir=rtl>\n",
        "<h4>\n",
        "1. המשתנים המסבירים שלנו יהיו Rating, Reviews, ו -  Content Rating.\n",
        "</br>\n",
        "המשתנה המוסבר יהיה Installs.\n",
        "</br>\n",
        "שאלת המחקר שלנו כיצד משפיעים דירוג האפליקציה, מספר הביקורות שיש לה, ודירוג התוכן שלה, על מספר ההורדות שלה.\n",
        "</br>\n",
        "אנו משערים כי אפליקציות בעלות דירוג גבוה יותר תורד יותר פעמים וכי גם מספר רב יותר של ביקורות יגרור מספר הורדות גבוה יותר. בנוסף, אנו משערים כי דירוג תוכן המתאים לקהל רחב יותר יגרום למספר הורדות גבוה יותר.\n",
        "</br>\n",
        "</br>\n",
        "על מנת שיהיה לנו יותר קל לנתח את הנתונים להריץ רגרסיה עליהם נבצע מספר טרנספורמציות על הנתונים:  \n",
        "</h4>\n",
        "</div>"
      ],
      "metadata": {
        "id": "J9cWjZI_tqog"
      }
    },
    {
      "cell_type": "code",
      "source": [
        "ln_reg_df = df[['Rating', 'Reviews', 'Content Rating', 'Installs']]\n",
        "ln_reg_df.head()"
      ],
      "metadata": {
        "colab": {
          "base_uri": "https://localhost:8080/",
          "height": 206
        },
        "id": "_Okx1Wb48Tn4",
        "outputId": "2a75ece8-6d89-4f34-cbe8-432a2f3e81e9"
      },
      "execution_count": 3,
      "outputs": [
        {
          "output_type": "execute_result",
          "data": {
            "text/html": [
              "\n",
              "  <div id=\"df-fa681eb8-0d58-4e63-a817-b4a2a01cd526\">\n",
              "    <div class=\"colab-df-container\">\n",
              "      <div>\n",
              "<style scoped>\n",
              "    .dataframe tbody tr th:only-of-type {\n",
              "        vertical-align: middle;\n",
              "    }\n",
              "\n",
              "    .dataframe tbody tr th {\n",
              "        vertical-align: top;\n",
              "    }\n",
              "\n",
              "    .dataframe thead th {\n",
              "        text-align: right;\n",
              "    }\n",
              "</style>\n",
              "<table border=\"1\" class=\"dataframe\">\n",
              "  <thead>\n",
              "    <tr style=\"text-align: right;\">\n",
              "      <th></th>\n",
              "      <th>Rating</th>\n",
              "      <th>Reviews</th>\n",
              "      <th>Content Rating</th>\n",
              "      <th>Installs</th>\n",
              "    </tr>\n",
              "  </thead>\n",
              "  <tbody>\n",
              "    <tr>\n",
              "      <th>0</th>\n",
              "      <td>4.1</td>\n",
              "      <td>159</td>\n",
              "      <td>Everyone</td>\n",
              "      <td>10000</td>\n",
              "    </tr>\n",
              "    <tr>\n",
              "      <th>1</th>\n",
              "      <td>3.9</td>\n",
              "      <td>967</td>\n",
              "      <td>Everyone</td>\n",
              "      <td>500000</td>\n",
              "    </tr>\n",
              "    <tr>\n",
              "      <th>2</th>\n",
              "      <td>4.7</td>\n",
              "      <td>87510</td>\n",
              "      <td>Everyone</td>\n",
              "      <td>5000000</td>\n",
              "    </tr>\n",
              "    <tr>\n",
              "      <th>3</th>\n",
              "      <td>4.5</td>\n",
              "      <td>215644</td>\n",
              "      <td>Teen</td>\n",
              "      <td>50000000</td>\n",
              "    </tr>\n",
              "    <tr>\n",
              "      <th>4</th>\n",
              "      <td>4.3</td>\n",
              "      <td>967</td>\n",
              "      <td>Everyone</td>\n",
              "      <td>100000</td>\n",
              "    </tr>\n",
              "  </tbody>\n",
              "</table>\n",
              "</div>\n",
              "      <button class=\"colab-df-convert\" onclick=\"convertToInteractive('df-fa681eb8-0d58-4e63-a817-b4a2a01cd526')\"\n",
              "              title=\"Convert this dataframe to an interactive table.\"\n",
              "              style=\"display:none;\">\n",
              "        \n",
              "  <svg xmlns=\"http://www.w3.org/2000/svg\" height=\"24px\"viewBox=\"0 0 24 24\"\n",
              "       width=\"24px\">\n",
              "    <path d=\"M0 0h24v24H0V0z\" fill=\"none\"/>\n",
              "    <path d=\"M18.56 5.44l.94 2.06.94-2.06 2.06-.94-2.06-.94-.94-2.06-.94 2.06-2.06.94zm-11 1L8.5 8.5l.94-2.06 2.06-.94-2.06-.94L8.5 2.5l-.94 2.06-2.06.94zm10 10l.94 2.06.94-2.06 2.06-.94-2.06-.94-.94-2.06-.94 2.06-2.06.94z\"/><path d=\"M17.41 7.96l-1.37-1.37c-.4-.4-.92-.59-1.43-.59-.52 0-1.04.2-1.43.59L10.3 9.45l-7.72 7.72c-.78.78-.78 2.05 0 2.83L4 21.41c.39.39.9.59 1.41.59.51 0 1.02-.2 1.41-.59l7.78-7.78 2.81-2.81c.8-.78.8-2.07 0-2.86zM5.41 20L4 18.59l7.72-7.72 1.47 1.35L5.41 20z\"/>\n",
              "  </svg>\n",
              "      </button>\n",
              "      \n",
              "  <style>\n",
              "    .colab-df-container {\n",
              "      display:flex;\n",
              "      flex-wrap:wrap;\n",
              "      gap: 12px;\n",
              "    }\n",
              "\n",
              "    .colab-df-convert {\n",
              "      background-color: #E8F0FE;\n",
              "      border: none;\n",
              "      border-radius: 50%;\n",
              "      cursor: pointer;\n",
              "      display: none;\n",
              "      fill: #1967D2;\n",
              "      height: 32px;\n",
              "      padding: 0 0 0 0;\n",
              "      width: 32px;\n",
              "    }\n",
              "\n",
              "    .colab-df-convert:hover {\n",
              "      background-color: #E2EBFA;\n",
              "      box-shadow: 0px 1px 2px rgba(60, 64, 67, 0.3), 0px 1px 3px 1px rgba(60, 64, 67, 0.15);\n",
              "      fill: #174EA6;\n",
              "    }\n",
              "\n",
              "    [theme=dark] .colab-df-convert {\n",
              "      background-color: #3B4455;\n",
              "      fill: #D2E3FC;\n",
              "    }\n",
              "\n",
              "    [theme=dark] .colab-df-convert:hover {\n",
              "      background-color: #434B5C;\n",
              "      box-shadow: 0px 1px 3px 1px rgba(0, 0, 0, 0.15);\n",
              "      filter: drop-shadow(0px 1px 2px rgba(0, 0, 0, 0.3));\n",
              "      fill: #FFFFFF;\n",
              "    }\n",
              "  </style>\n",
              "\n",
              "      <script>\n",
              "        const buttonEl =\n",
              "          document.querySelector('#df-fa681eb8-0d58-4e63-a817-b4a2a01cd526 button.colab-df-convert');\n",
              "        buttonEl.style.display =\n",
              "          google.colab.kernel.accessAllowed ? 'block' : 'none';\n",
              "\n",
              "        async function convertToInteractive(key) {\n",
              "          const element = document.querySelector('#df-fa681eb8-0d58-4e63-a817-b4a2a01cd526');\n",
              "          const dataTable =\n",
              "            await google.colab.kernel.invokeFunction('convertToInteractive',\n",
              "                                                     [key], {});\n",
              "          if (!dataTable) return;\n",
              "\n",
              "          const docLinkHtml = 'Like what you see? Visit the ' +\n",
              "            '<a target=\"_blank\" href=https://colab.research.google.com/notebooks/data_table.ipynb>data table notebook</a>'\n",
              "            + ' to learn more about interactive tables.';\n",
              "          element.innerHTML = '';\n",
              "          dataTable['output_type'] = 'display_data';\n",
              "          await google.colab.output.renderOutput(dataTable, element);\n",
              "          const docLink = document.createElement('div');\n",
              "          docLink.innerHTML = docLinkHtml;\n",
              "          element.appendChild(docLink);\n",
              "        }\n",
              "      </script>\n",
              "    </div>\n",
              "  </div>\n",
              "  "
            ],
            "text/plain": [
              "   Rating  Reviews Content Rating  Installs\n",
              "0     4.1      159       Everyone     10000\n",
              "1     3.9      967       Everyone    500000\n",
              "2     4.7    87510       Everyone   5000000\n",
              "3     4.5   215644           Teen  50000000\n",
              "4     4.3      967       Everyone    100000"
            ]
          },
          "metadata": {},
          "execution_count": 3
        }
      ]
    },
    {
      "cell_type": "markdown",
      "source": [
        "<div dir=rtl>\n",
        "<h4>\n",
        "Content Rating:\n",
        "</h4>\n",
        "</div>"
      ],
      "metadata": {
        "id": "vDnZGlDT13af"
      }
    },
    {
      "cell_type": "markdown",
      "source": [
        "<div dir=rtl>\n",
        "<h4>\n",
        "הערכים במשתנה זה הם מחרוזות ולא ניתן לייצג אותם כערך מספרי ולכן לכל קטגורית דירוג תוכן ניצור עמודה בטבלה שתיהיה 1 אם הרשומה הגיעה מקטגוריה זו או 0 אחרת:</h4>\n",
        "</div>"
      ],
      "metadata": {
        "id": "kL1HFaDp2Fp4"
      }
    },
    {
      "cell_type": "code",
      "source": [
        "con_rat_vals = ln_reg_df['Content Rating'].unique()\n",
        "\n",
        "for v in con_rat_vals:\n",
        "  ln_reg_df[v] = np.where(ln_reg_df['Content Rating'] == v, 1, 0)\n",
        "\n",
        "ln_reg_df.head()  "
      ],
      "metadata": {
        "colab": {
          "base_uri": "https://localhost:8080/",
          "height": 310
        },
        "id": "5fOkwm-O7VVM",
        "outputId": "aad05866-991f-4f1f-fb74-ddbd5ed128ac"
      },
      "execution_count": 4,
      "outputs": [
        {
          "output_type": "stream",
          "name": "stderr",
          "text": [
            "/usr/local/lib/python3.7/dist-packages/ipykernel_launcher.py:4: SettingWithCopyWarning: \n",
            "A value is trying to be set on a copy of a slice from a DataFrame.\n",
            "Try using .loc[row_indexer,col_indexer] = value instead\n",
            "\n",
            "See the caveats in the documentation: https://pandas.pydata.org/pandas-docs/stable/user_guide/indexing.html#returning-a-view-versus-a-copy\n",
            "  after removing the cwd from sys.path.\n"
          ]
        },
        {
          "output_type": "execute_result",
          "data": {
            "text/html": [
              "\n",
              "  <div id=\"df-e0e61e34-bf3d-4e6d-98b9-1ca74b8a4bf1\">\n",
              "    <div class=\"colab-df-container\">\n",
              "      <div>\n",
              "<style scoped>\n",
              "    .dataframe tbody tr th:only-of-type {\n",
              "        vertical-align: middle;\n",
              "    }\n",
              "\n",
              "    .dataframe tbody tr th {\n",
              "        vertical-align: top;\n",
              "    }\n",
              "\n",
              "    .dataframe thead th {\n",
              "        text-align: right;\n",
              "    }\n",
              "</style>\n",
              "<table border=\"1\" class=\"dataframe\">\n",
              "  <thead>\n",
              "    <tr style=\"text-align: right;\">\n",
              "      <th></th>\n",
              "      <th>Rating</th>\n",
              "      <th>Reviews</th>\n",
              "      <th>Content Rating</th>\n",
              "      <th>Installs</th>\n",
              "      <th>Everyone</th>\n",
              "      <th>Teen</th>\n",
              "      <th>Everyone 10+</th>\n",
              "      <th>Mature 17+</th>\n",
              "      <th>Adults only 18+</th>\n",
              "      <th>Unrated</th>\n",
              "    </tr>\n",
              "  </thead>\n",
              "  <tbody>\n",
              "    <tr>\n",
              "      <th>0</th>\n",
              "      <td>4.1</td>\n",
              "      <td>159</td>\n",
              "      <td>Everyone</td>\n",
              "      <td>10000</td>\n",
              "      <td>1</td>\n",
              "      <td>0</td>\n",
              "      <td>0</td>\n",
              "      <td>0</td>\n",
              "      <td>0</td>\n",
              "      <td>0</td>\n",
              "    </tr>\n",
              "    <tr>\n",
              "      <th>1</th>\n",
              "      <td>3.9</td>\n",
              "      <td>967</td>\n",
              "      <td>Everyone</td>\n",
              "      <td>500000</td>\n",
              "      <td>1</td>\n",
              "      <td>0</td>\n",
              "      <td>0</td>\n",
              "      <td>0</td>\n",
              "      <td>0</td>\n",
              "      <td>0</td>\n",
              "    </tr>\n",
              "    <tr>\n",
              "      <th>2</th>\n",
              "      <td>4.7</td>\n",
              "      <td>87510</td>\n",
              "      <td>Everyone</td>\n",
              "      <td>5000000</td>\n",
              "      <td>1</td>\n",
              "      <td>0</td>\n",
              "      <td>0</td>\n",
              "      <td>0</td>\n",
              "      <td>0</td>\n",
              "      <td>0</td>\n",
              "    </tr>\n",
              "    <tr>\n",
              "      <th>3</th>\n",
              "      <td>4.5</td>\n",
              "      <td>215644</td>\n",
              "      <td>Teen</td>\n",
              "      <td>50000000</td>\n",
              "      <td>0</td>\n",
              "      <td>1</td>\n",
              "      <td>0</td>\n",
              "      <td>0</td>\n",
              "      <td>0</td>\n",
              "      <td>0</td>\n",
              "    </tr>\n",
              "    <tr>\n",
              "      <th>4</th>\n",
              "      <td>4.3</td>\n",
              "      <td>967</td>\n",
              "      <td>Everyone</td>\n",
              "      <td>100000</td>\n",
              "      <td>1</td>\n",
              "      <td>0</td>\n",
              "      <td>0</td>\n",
              "      <td>0</td>\n",
              "      <td>0</td>\n",
              "      <td>0</td>\n",
              "    </tr>\n",
              "  </tbody>\n",
              "</table>\n",
              "</div>\n",
              "      <button class=\"colab-df-convert\" onclick=\"convertToInteractive('df-e0e61e34-bf3d-4e6d-98b9-1ca74b8a4bf1')\"\n",
              "              title=\"Convert this dataframe to an interactive table.\"\n",
              "              style=\"display:none;\">\n",
              "        \n",
              "  <svg xmlns=\"http://www.w3.org/2000/svg\" height=\"24px\"viewBox=\"0 0 24 24\"\n",
              "       width=\"24px\">\n",
              "    <path d=\"M0 0h24v24H0V0z\" fill=\"none\"/>\n",
              "    <path d=\"M18.56 5.44l.94 2.06.94-2.06 2.06-.94-2.06-.94-.94-2.06-.94 2.06-2.06.94zm-11 1L8.5 8.5l.94-2.06 2.06-.94-2.06-.94L8.5 2.5l-.94 2.06-2.06.94zm10 10l.94 2.06.94-2.06 2.06-.94-2.06-.94-.94-2.06-.94 2.06-2.06.94z\"/><path d=\"M17.41 7.96l-1.37-1.37c-.4-.4-.92-.59-1.43-.59-.52 0-1.04.2-1.43.59L10.3 9.45l-7.72 7.72c-.78.78-.78 2.05 0 2.83L4 21.41c.39.39.9.59 1.41.59.51 0 1.02-.2 1.41-.59l7.78-7.78 2.81-2.81c.8-.78.8-2.07 0-2.86zM5.41 20L4 18.59l7.72-7.72 1.47 1.35L5.41 20z\"/>\n",
              "  </svg>\n",
              "      </button>\n",
              "      \n",
              "  <style>\n",
              "    .colab-df-container {\n",
              "      display:flex;\n",
              "      flex-wrap:wrap;\n",
              "      gap: 12px;\n",
              "    }\n",
              "\n",
              "    .colab-df-convert {\n",
              "      background-color: #E8F0FE;\n",
              "      border: none;\n",
              "      border-radius: 50%;\n",
              "      cursor: pointer;\n",
              "      display: none;\n",
              "      fill: #1967D2;\n",
              "      height: 32px;\n",
              "      padding: 0 0 0 0;\n",
              "      width: 32px;\n",
              "    }\n",
              "\n",
              "    .colab-df-convert:hover {\n",
              "      background-color: #E2EBFA;\n",
              "      box-shadow: 0px 1px 2px rgba(60, 64, 67, 0.3), 0px 1px 3px 1px rgba(60, 64, 67, 0.15);\n",
              "      fill: #174EA6;\n",
              "    }\n",
              "\n",
              "    [theme=dark] .colab-df-convert {\n",
              "      background-color: #3B4455;\n",
              "      fill: #D2E3FC;\n",
              "    }\n",
              "\n",
              "    [theme=dark] .colab-df-convert:hover {\n",
              "      background-color: #434B5C;\n",
              "      box-shadow: 0px 1px 3px 1px rgba(0, 0, 0, 0.15);\n",
              "      filter: drop-shadow(0px 1px 2px rgba(0, 0, 0, 0.3));\n",
              "      fill: #FFFFFF;\n",
              "    }\n",
              "  </style>\n",
              "\n",
              "      <script>\n",
              "        const buttonEl =\n",
              "          document.querySelector('#df-e0e61e34-bf3d-4e6d-98b9-1ca74b8a4bf1 button.colab-df-convert');\n",
              "        buttonEl.style.display =\n",
              "          google.colab.kernel.accessAllowed ? 'block' : 'none';\n",
              "\n",
              "        async function convertToInteractive(key) {\n",
              "          const element = document.querySelector('#df-e0e61e34-bf3d-4e6d-98b9-1ca74b8a4bf1');\n",
              "          const dataTable =\n",
              "            await google.colab.kernel.invokeFunction('convertToInteractive',\n",
              "                                                     [key], {});\n",
              "          if (!dataTable) return;\n",
              "\n",
              "          const docLinkHtml = 'Like what you see? Visit the ' +\n",
              "            '<a target=\"_blank\" href=https://colab.research.google.com/notebooks/data_table.ipynb>data table notebook</a>'\n",
              "            + ' to learn more about interactive tables.';\n",
              "          element.innerHTML = '';\n",
              "          dataTable['output_type'] = 'display_data';\n",
              "          await google.colab.output.renderOutput(dataTable, element);\n",
              "          const docLink = document.createElement('div');\n",
              "          docLink.innerHTML = docLinkHtml;\n",
              "          element.appendChild(docLink);\n",
              "        }\n",
              "      </script>\n",
              "    </div>\n",
              "  </div>\n",
              "  "
            ],
            "text/plain": [
              "   Rating  Reviews Content Rating  Installs  Everyone  Teen  Everyone 10+  \\\n",
              "0     4.1      159       Everyone     10000         1     0             0   \n",
              "1     3.9      967       Everyone    500000         1     0             0   \n",
              "2     4.7    87510       Everyone   5000000         1     0             0   \n",
              "3     4.5   215644           Teen  50000000         0     1             0   \n",
              "4     4.3      967       Everyone    100000         1     0             0   \n",
              "\n",
              "   Mature 17+  Adults only 18+  Unrated  \n",
              "0           0                0        0  \n",
              "1           0                0        0  \n",
              "2           0                0        0  \n",
              "3           0                0        0  \n",
              "4           0                0        0  "
            ]
          },
          "metadata": {},
          "execution_count": 4
        }
      ]
    },
    {
      "cell_type": "markdown",
      "source": [
        "<div dir=rtl>\n",
        "<h4>\n",
        "Installs:\n",
        "</h4>\n",
        "</div>"
      ],
      "metadata": {
        "id": "sfVdypVGFJG1"
      }
    },
    {
      "cell_type": "markdown",
      "source": [
        "<div dir=rtl>\n",
        "<h4>\n",
        "הערכים במשתנה זה הם בכפולות של 5 (5 הורדות, 100 הורדות, 10000 הורדות וכ'). עובדה זו גורמת לטווח הערכים במשתנה זה להיות מאוד דליל, למשל המרחק בין הערך השביעי (1000) לערך השמיני (5000) הוא הרבה יותר גדול מהמרחק בין הערך הערך הראשון (1) לערך השני (5). על מנת להדגים את הבעיה שנוצרת מהעובדה הנ\"ל נציג היסטוגרמה של הערכים במשתנה:\n",
        "</h4>\n",
        "</div>"
      ],
      "metadata": {
        "id": "aCpgHjKiFQ0e"
      }
    },
    {
      "cell_type": "code",
      "source": [
        "sns.set(rc={'figure.figsize':(11.7,8.27)})\n",
        "print('Histogram Of Installs Values:')\n",
        "sns.histplot(ln_reg_df['Installs'], kde = True)\n",
        "plt.show()\n"
      ],
      "metadata": {
        "colab": {
          "base_uri": "https://localhost:8080/",
          "height": 534
        },
        "id": "JC2W27FGcp2x",
        "outputId": "70712911-cede-4418-e4b7-751c4f19dd22"
      },
      "execution_count": 5,
      "outputs": [
        {
          "output_type": "stream",
          "name": "stdout",
          "text": [
            "Histogram Of Installs Values:\n"
          ]
        },
        {
          "output_type": "display_data",
          "data": {
            "image/png": "[encoded data removed]",
            "text/plain": [
              "<Figure size 842.4x595.44 with 1 Axes>"
            ]
          },
          "metadata": {}
        }
      ]
    },
    {
      "cell_type": "markdown",
      "source": [
        "<div dir=rtl>\n",
        "<h4>\n",
        "ניתן לראות כי ההיסטוגרמה <b>כלל לא</b> אינפורמטיבית.\n",
        "</br>\n",
        "על מנת להתמודד עם בעיה זו, נפעיל את פונקציה הלוג - 10 על הנתונים וכך נקבל תווך ערכים פחות דליל.\n",
        "</h4>\n",
        "</div>"
      ],
      "metadata": {
        "id": "V3r-27Dpc84s"
      }
    },
    {
      "cell_type": "code",
      "source": [
        "ln_reg_df['Installs'] = ln_reg_df['Installs'].map(lambda x: np.log10(x))\n",
        "ln_reg_df.head()"
      ],
      "metadata": {
        "colab": {
          "base_uri": "https://localhost:8080/",
          "height": 310
        },
        "id": "4Io5VFFmfVop",
        "outputId": "3457d7f5-eaf1-445c-aae4-90f5bde2fb3f"
      },
      "execution_count": 6,
      "outputs": [
        {
          "output_type": "stream",
          "name": "stderr",
          "text": [
            "/usr/local/lib/python3.7/dist-packages/ipykernel_launcher.py:1: SettingWithCopyWarning: \n",
            "A value is trying to be set on a copy of a slice from a DataFrame.\n",
            "Try using .loc[row_indexer,col_indexer] = value instead\n",
            "\n",
            "See the caveats in the documentation: https://pandas.pydata.org/pandas-docs/stable/user_guide/indexing.html#returning-a-view-versus-a-copy\n",
            "  \"\"\"Entry point for launching an IPython kernel.\n"
          ]
        },
        {
          "output_type": "execute_result",
          "data": {
            "text/html": [
              "\n",
              "  <div id=\"df-afebcabe-a212-43ec-b2de-7233b8c0e4e2\">\n",
              "    <div class=\"colab-df-container\">\n",
              "      <div>\n",
              "<style scoped>\n",
              "    .dataframe tbody tr th:only-of-type {\n",
              "        vertical-align: middle;\n",
              "    }\n",
              "\n",
              "    .dataframe tbody tr th {\n",
              "        vertical-align: top;\n",
              "    }\n",
              "\n",
              "    .dataframe thead th {\n",
              "        text-align: right;\n",
              "    }\n",
              "</style>\n",
              "<table border=\"1\" class=\"dataframe\">\n",
              "  <thead>\n",
              "    <tr style=\"text-align: right;\">\n",
              "      <th></th>\n",
              "      <th>Rating</th>\n",
              "      <th>Reviews</th>\n",
              "      <th>Content Rating</th>\n",
              "      <th>Installs</th>\n",
              "      <th>Everyone</th>\n",
              "      <th>Teen</th>\n",
              "      <th>Everyone 10+</th>\n",
              "      <th>Mature 17+</th>\n",
              "      <th>Adults only 18+</th>\n",
              "      <th>Unrated</th>\n",
              "    </tr>\n",
              "  </thead>\n",
              "  <tbody>\n",
              "    <tr>\n",
              "      <th>0</th>\n",
              "      <td>4.1</td>\n",
              "      <td>159</td>\n",
              "      <td>Everyone</td>\n",
              "      <td>4.00000</td>\n",
              "      <td>1</td>\n",
              "      <td>0</td>\n",
              "      <td>0</td>\n",
              "      <td>0</td>\n",
              "      <td>0</td>\n",
              "      <td>0</td>\n",
              "    </tr>\n",
              "    <tr>\n",
              "      <th>1</th>\n",
              "      <td>3.9</td>\n",
              "      <td>967</td>\n",
              "      <td>Everyone</td>\n",
              "      <td>5.69897</td>\n",
              "      <td>1</td>\n",
              "      <td>0</td>\n",
              "      <td>0</td>\n",
              "      <td>0</td>\n",
              "      <td>0</td>\n",
              "      <td>0</td>\n",
              "    </tr>\n",
              "    <tr>\n",
              "      <th>2</th>\n",
              "      <td>4.7</td>\n",
              "      <td>87510</td>\n",
              "      <td>Everyone</td>\n",
              "      <td>6.69897</td>\n",
              "      <td>1</td>\n",
              "      <td>0</td>\n",
              "      <td>0</td>\n",
              "      <td>0</td>\n",
              "      <td>0</td>\n",
              "      <td>0</td>\n",
              "    </tr>\n",
              "    <tr>\n",
              "      <th>3</th>\n",
              "      <td>4.5</td>\n",
              "      <td>215644</td>\n",
              "      <td>Teen</td>\n",
              "      <td>7.69897</td>\n",
              "      <td>0</td>\n",
              "      <td>1</td>\n",
              "      <td>0</td>\n",
              "      <td>0</td>\n",
              "      <td>0</td>\n",
              "      <td>0</td>\n",
              "    </tr>\n",
              "    <tr>\n",
              "      <th>4</th>\n",
              "      <td>4.3</td>\n",
              "      <td>967</td>\n",
              "      <td>Everyone</td>\n",
              "      <td>5.00000</td>\n",
              "      <td>1</td>\n",
              "      <td>0</td>\n",
              "      <td>0</td>\n",
              "      <td>0</td>\n",
              "      <td>0</td>\n",
              "      <td>0</td>\n",
              "    </tr>\n",
              "  </tbody>\n",
              "</table>\n",
              "</div>\n",
              "      <button class=\"colab-df-convert\" onclick=\"convertToInteractive('df-afebcabe-a212-43ec-b2de-7233b8c0e4e2')\"\n",
              "              title=\"Convert this dataframe to an interactive table.\"\n",
              "              style=\"display:none;\">\n",
              "        \n",
              "  <svg xmlns=\"http://www.w3.org/2000/svg\" height=\"24px\"viewBox=\"0 0 24 24\"\n",
              "       width=\"24px\">\n",
              "    <path d=\"M0 0h24v24H0V0z\" fill=\"none\"/>\n",
              "    <path d=\"M18.56 5.44l.94 2.06.94-2.06 2.06-.94-2.06-.94-.94-2.06-.94 2.06-2.06.94zm-11 1L8.5 8.5l.94-2.06 2.06-.94-2.06-.94L8.5 2.5l-.94 2.06-2.06.94zm10 10l.94 2.06.94-2.06 2.06-.94-2.06-.94-.94-2.06-.94 2.06-2.06.94z\"/><path d=\"M17.41 7.96l-1.37-1.37c-.4-.4-.92-.59-1.43-.59-.52 0-1.04.2-1.43.59L10.3 9.45l-7.72 7.72c-.78.78-.78 2.05 0 2.83L4 21.41c.39.39.9.59 1.41.59.51 0 1.02-.2 1.41-.59l7.78-7.78 2.81-2.81c.8-.78.8-2.07 0-2.86zM5.41 20L4 18.59l7.72-7.72 1.47 1.35L5.41 20z\"/>\n",
              "  </svg>\n",
              "      </button>\n",
              "      \n",
              "  <style>\n",
              "    .colab-df-container {\n",
              "      display:flex;\n",
              "      flex-wrap:wrap;\n",
              "      gap: 12px;\n",
              "    }\n",
              "\n",
              "    .colab-df-convert {\n",
              "      background-color: #E8F0FE;\n",
              "      border: none;\n",
              "      border-radius: 50%;\n",
              "      cursor: pointer;\n",
              "      display: none;\n",
              "      fill: #1967D2;\n",
              "      height: 32px;\n",
              "      padding: 0 0 0 0;\n",
              "      width: 32px;\n",
              "    }\n",
              "\n",
              "    .colab-df-convert:hover {\n",
              "      background-color: #E2EBFA;\n",
              "      box-shadow: 0px 1px 2px rgba(60, 64, 67, 0.3), 0px 1px 3px 1px rgba(60, 64, 67, 0.15);\n",
              "      fill: #174EA6;\n",
              "    }\n",
              "\n",
              "    [theme=dark] .colab-df-convert {\n",
              "      background-color: #3B4455;\n",
              "      fill: #D2E3FC;\n",
              "    }\n",
              "\n",
              "    [theme=dark] .colab-df-convert:hover {\n",
              "      background-color: #434B5C;\n",
              "      box-shadow: 0px 1px 3px 1px rgba(0, 0, 0, 0.15);\n",
              "      filter: drop-shadow(0px 1px 2px rgba(0, 0, 0, 0.3));\n",
              "      fill: #FFFFFF;\n",
              "    }\n",
              "  </style>\n",
              "\n",
              "      <script>\n",
              "        const buttonEl =\n",
              "          document.querySelector('#df-afebcabe-a212-43ec-b2de-7233b8c0e4e2 button.colab-df-convert');\n",
              "        buttonEl.style.display =\n",
              "          google.colab.kernel.accessAllowed ? 'block' : 'none';\n",
              "\n",
              "        async function convertToInteractive(key) {\n",
              "          const element = document.querySelector('#df-afebcabe-a212-43ec-b2de-7233b8c0e4e2');\n",
              "          const dataTable =\n",
              "            await google.colab.kernel.invokeFunction('convertToInteractive',\n",
              "                                                     [key], {});\n",
              "          if (!dataTable) return;\n",
              "\n",
              "          const docLinkHtml = 'Like what you see? Visit the ' +\n",
              "            '<a target=\"_blank\" href=https://colab.research.google.com/notebooks/data_table.ipynb>data table notebook</a>'\n",
              "            + ' to learn more about interactive tables.';\n",
              "          element.innerHTML = '';\n",
              "          dataTable['output_type'] = 'display_data';\n",
              "          await google.colab.output.renderOutput(dataTable, element);\n",
              "          const docLink = document.createElement('div');\n",
              "          docLink.innerHTML = docLinkHtml;\n",
              "          element.appendChild(docLink);\n",
              "        }\n",
              "      </script>\n",
              "    </div>\n",
              "  </div>\n",
              "  "
            ],
            "text/plain": [
              "   Rating  Reviews Content Rating  Installs  Everyone  Teen  Everyone 10+  \\\n",
              "0     4.1      159       Everyone   4.00000         1     0             0   \n",
              "1     3.9      967       Everyone   5.69897         1     0             0   \n",
              "2     4.7    87510       Everyone   6.69897         1     0             0   \n",
              "3     4.5   215644           Teen   7.69897         0     1             0   \n",
              "4     4.3      967       Everyone   5.00000         1     0             0   \n",
              "\n",
              "   Mature 17+  Adults only 18+  Unrated  \n",
              "0           0                0        0  \n",
              "1           0                0        0  \n",
              "2           0                0        0  \n",
              "3           0                0        0  \n",
              "4           0                0        0  "
            ]
          },
          "metadata": {},
          "execution_count": 6
        }
      ]
    },
    {
      "cell_type": "markdown",
      "source": [
        "<div dir=rtl>\n",
        "<h4>\n",
        "Reviews:\n",
        "</br>\n",
        " נשים לב לטווח הערכים במשתנה זה:\n",
        "</h4>\n",
        "</div>"
      ],
      "metadata": {
        "id": "4rdejV8S_6e2"
      }
    },
    {
      "cell_type": "code",
      "source": [
        "print('Range Of Values: [', min(ln_reg_df['Reviews'].unique()), ', ', max(ln_reg_df['Reviews'].unique()), ']')"
      ],
      "metadata": {
        "colab": {
          "base_uri": "https://localhost:8080/"
        },
        "id": "Bvgx_BcOFkMN",
        "outputId": "40139fb9-5ddb-4272-e863-0dfe5094a51f"
      },
      "execution_count": 7,
      "outputs": [
        {
          "output_type": "stream",
          "name": "stdout",
          "text": [
            "Range Of Values: [ 1 ,  78158306 ]\n"
          ]
        }
      ]
    },
    {
      "cell_type": "markdown",
      "source": [
        "<div dir=rtl>\n",
        "<h4>\n",
        "טווח הערכים נע בין 1 לבערך 80 מיליון. מסיבה זו, גם במשתנה זה יהיה מאוד קשה לעבוד עם ערכים אלו. נבצע טרנספורמצית לוג - 10 גם כאן:\n",
        "</h4>\n",
        "</div>"
      ],
      "metadata": {
        "id": "Umn3wptZGGKE"
      }
    },
    {
      "cell_type": "code",
      "source": [
        "ln_reg_df['Reviews'] = ln_reg_df['Reviews'].map(lambda x: np.log10(x))\n",
        "ln_reg_df.head()"
      ],
      "metadata": {
        "colab": {
          "base_uri": "https://localhost:8080/",
          "height": 310
        },
        "id": "25dGJ1nzGjnt",
        "outputId": "734da53e-d9f3-4eaf-cdfb-45bd79acbf84"
      },
      "execution_count": 8,
      "outputs": [
        {
          "output_type": "stream",
          "name": "stderr",
          "text": [
            "/usr/local/lib/python3.7/dist-packages/ipykernel_launcher.py:1: SettingWithCopyWarning: \n",
            "A value is trying to be set on a copy of a slice from a DataFrame.\n",
            "Try using .loc[row_indexer,col_indexer] = value instead\n",
            "\n",
            "See the caveats in the documentation: https://pandas.pydata.org/pandas-docs/stable/user_guide/indexing.html#returning-a-view-versus-a-copy\n",
            "  \"\"\"Entry point for launching an IPython kernel.\n"
          ]
        },
        {
          "output_type": "execute_result",
          "data": {
            "text/html": [
              "\n",
              "  <div id=\"df-72c27604-ead5-458c-8a50-9aa7a52f760e\">\n",
              "    <div class=\"colab-df-container\">\n",
              "      <div>\n",
              "<style scoped>\n",
              "    .dataframe tbody tr th:only-of-type {\n",
              "        vertical-align: middle;\n",
              "    }\n",
              "\n",
              "    .dataframe tbody tr th {\n",
              "        vertical-align: top;\n",
              "    }\n",
              "\n",
              "    .dataframe thead th {\n",
              "        text-align: right;\n",
              "    }\n",
              "</style>\n",
              "<table border=\"1\" class=\"dataframe\">\n",
              "  <thead>\n",
              "    <tr style=\"text-align: right;\">\n",
              "      <th></th>\n",
              "      <th>Rating</th>\n",
              "      <th>Reviews</th>\n",
              "      <th>Content Rating</th>\n",
              "      <th>Installs</th>\n",
              "      <th>Everyone</th>\n",
              "      <th>Teen</th>\n",
              "      <th>Everyone 10+</th>\n",
              "      <th>Mature 17+</th>\n",
              "      <th>Adults only 18+</th>\n",
              "      <th>Unrated</th>\n",
              "    </tr>\n",
              "  </thead>\n",
              "  <tbody>\n",
              "    <tr>\n",
              "      <th>0</th>\n",
              "      <td>4.1</td>\n",
              "      <td>2.201397</td>\n",
              "      <td>Everyone</td>\n",
              "      <td>4.00000</td>\n",
              "      <td>1</td>\n",
              "      <td>0</td>\n",
              "      <td>0</td>\n",
              "      <td>0</td>\n",
              "      <td>0</td>\n",
              "      <td>0</td>\n",
              "    </tr>\n",
              "    <tr>\n",
              "      <th>1</th>\n",
              "      <td>3.9</td>\n",
              "      <td>2.985426</td>\n",
              "      <td>Everyone</td>\n",
              "      <td>5.69897</td>\n",
              "      <td>1</td>\n",
              "      <td>0</td>\n",
              "      <td>0</td>\n",
              "      <td>0</td>\n",
              "      <td>0</td>\n",
              "      <td>0</td>\n",
              "    </tr>\n",
              "    <tr>\n",
              "      <th>2</th>\n",
              "      <td>4.7</td>\n",
              "      <td>4.942058</td>\n",
              "      <td>Everyone</td>\n",
              "      <td>6.69897</td>\n",
              "      <td>1</td>\n",
              "      <td>0</td>\n",
              "      <td>0</td>\n",
              "      <td>0</td>\n",
              "      <td>0</td>\n",
              "      <td>0</td>\n",
              "    </tr>\n",
              "    <tr>\n",
              "      <th>3</th>\n",
              "      <td>4.5</td>\n",
              "      <td>5.333737</td>\n",
              "      <td>Teen</td>\n",
              "      <td>7.69897</td>\n",
              "      <td>0</td>\n",
              "      <td>1</td>\n",
              "      <td>0</td>\n",
              "      <td>0</td>\n",
              "      <td>0</td>\n",
              "      <td>0</td>\n",
              "    </tr>\n",
              "    <tr>\n",
              "      <th>4</th>\n",
              "      <td>4.3</td>\n",
              "      <td>2.985426</td>\n",
              "      <td>Everyone</td>\n",
              "      <td>5.00000</td>\n",
              "      <td>1</td>\n",
              "      <td>0</td>\n",
              "      <td>0</td>\n",
              "      <td>0</td>\n",
              "      <td>0</td>\n",
              "      <td>0</td>\n",
              "    </tr>\n",
              "  </tbody>\n",
              "</table>\n",
              "</div>\n",
              "      <button class=\"colab-df-convert\" onclick=\"convertToInteractive('df-72c27604-ead5-458c-8a50-9aa7a52f760e')\"\n",
              "              title=\"Convert this dataframe to an interactive table.\"\n",
              "              style=\"display:none;\">\n",
              "        \n",
              "  <svg xmlns=\"http://www.w3.org/2000/svg\" height=\"24px\"viewBox=\"0 0 24 24\"\n",
              "       width=\"24px\">\n",
              "    <path d=\"M0 0h24v24H0V0z\" fill=\"none\"/>\n",
              "    <path d=\"M18.56 5.44l.94 2.06.94-2.06 2.06-.94-2.06-.94-.94-2.06-.94 2.06-2.06.94zm-11 1L8.5 8.5l.94-2.06 2.06-.94-2.06-.94L8.5 2.5l-.94 2.06-2.06.94zm10 10l.94 2.06.94-2.06 2.06-.94-2.06-.94-.94-2.06-.94 2.06-2.06.94z\"/><path d=\"M17.41 7.96l-1.37-1.37c-.4-.4-.92-.59-1.43-.59-.52 0-1.04.2-1.43.59L10.3 9.45l-7.72 7.72c-.78.78-.78 2.05 0 2.83L4 21.41c.39.39.9.59 1.41.59.51 0 1.02-.2 1.41-.59l7.78-7.78 2.81-2.81c.8-.78.8-2.07 0-2.86zM5.41 20L4 18.59l7.72-7.72 1.47 1.35L5.41 20z\"/>\n",
              "  </svg>\n",
              "      </button>\n",
              "      \n",
              "  <style>\n",
              "    .colab-df-container {\n",
              "      display:flex;\n",
              "      flex-wrap:wrap;\n",
              "      gap: 12px;\n",
              "    }\n",
              "\n",
              "    .colab-df-convert {\n",
              "      background-color: #E8F0FE;\n",
              "      border: none;\n",
              "      border-radius: 50%;\n",
              "      cursor: pointer;\n",
              "      display: none;\n",
              "      fill: #1967D2;\n",
              "      height: 32px;\n",
              "      padding: 0 0 0 0;\n",
              "      width: 32px;\n",
              "    }\n",
              "\n",
              "    .colab-df-convert:hover {\n",
              "      background-color: #E2EBFA;\n",
              "      box-shadow: 0px 1px 2px rgba(60, 64, 67, 0.3), 0px 1px 3px 1px rgba(60, 64, 67, 0.15);\n",
              "      fill: #174EA6;\n",
              "    }\n",
              "\n",
              "    [theme=dark] .colab-df-convert {\n",
              "      background-color: #3B4455;\n",
              "      fill: #D2E3FC;\n",
              "    }\n",
              "\n",
              "    [theme=dark] .colab-df-convert:hover {\n",
              "      background-color: #434B5C;\n",
              "      box-shadow: 0px 1px 3px 1px rgba(0, 0, 0, 0.15);\n",
              "      filter: drop-shadow(0px 1px 2px rgba(0, 0, 0, 0.3));\n",
              "      fill: #FFFFFF;\n",
              "    }\n",
              "  </style>\n",
              "\n",
              "      <script>\n",
              "        const buttonEl =\n",
              "          document.querySelector('#df-72c27604-ead5-458c-8a50-9aa7a52f760e button.colab-df-convert');\n",
              "        buttonEl.style.display =\n",
              "          google.colab.kernel.accessAllowed ? 'block' : 'none';\n",
              "\n",
              "        async function convertToInteractive(key) {\n",
              "          const element = document.querySelector('#df-72c27604-ead5-458c-8a50-9aa7a52f760e');\n",
              "          const dataTable =\n",
              "            await google.colab.kernel.invokeFunction('convertToInteractive',\n",
              "                                                     [key], {});\n",
              "          if (!dataTable) return;\n",
              "\n",
              "          const docLinkHtml = 'Like what you see? Visit the ' +\n",
              "            '<a target=\"_blank\" href=https://colab.research.google.com/notebooks/data_table.ipynb>data table notebook</a>'\n",
              "            + ' to learn more about interactive tables.';\n",
              "          element.innerHTML = '';\n",
              "          dataTable['output_type'] = 'display_data';\n",
              "          await google.colab.output.renderOutput(dataTable, element);\n",
              "          const docLink = document.createElement('div');\n",
              "          docLink.innerHTML = docLinkHtml;\n",
              "          element.appendChild(docLink);\n",
              "        }\n",
              "      </script>\n",
              "    </div>\n",
              "  </div>\n",
              "  "
            ],
            "text/plain": [
              "   Rating   Reviews Content Rating  Installs  Everyone  Teen  Everyone 10+  \\\n",
              "0     4.1  2.201397       Everyone   4.00000         1     0             0   \n",
              "1     3.9  2.985426       Everyone   5.69897         1     0             0   \n",
              "2     4.7  4.942058       Everyone   6.69897         1     0             0   \n",
              "3     4.5  5.333737           Teen   7.69897         0     1             0   \n",
              "4     4.3  2.985426       Everyone   5.00000         1     0             0   \n",
              "\n",
              "   Mature 17+  Adults only 18+  Unrated  \n",
              "0           0                0        0  \n",
              "1           0                0        0  \n",
              "2           0                0        0  \n",
              "3           0                0        0  \n",
              "4           0                0        0  "
            ]
          },
          "metadata": {},
          "execution_count": 8
        }
      ]
    },
    {
      "cell_type": "markdown",
      "source": [
        "<div dir=rtl>\n",
        "<h4>\n",
        "2. נבחר תת מדגם אקראי:\n",
        "</h4>\n",
        "</div>"
      ],
      "metadata": {
        "id": "bilBSnYmFlN6"
      }
    },
    {
      "cell_type": "code",
      "source": [
        "sub_set = ln_reg_df.sample(200, random_state=18)\n",
        "sub_set.head()"
      ],
      "metadata": {
        "colab": {
          "base_uri": "https://localhost:8080/",
          "height": 206
        },
        "id": "7gd7fj6DG8L7",
        "outputId": "a99ced75-c939-4088-9bad-1ac249c1e059"
      },
      "execution_count": 9,
      "outputs": [
        {
          "output_type": "execute_result",
          "data": {
            "text/html": [
              "\n",
              "  <div id=\"df-702b6211-389f-4828-b005-7bb492eb44bf\">\n",
              "    <div class=\"colab-df-container\">\n",
              "      <div>\n",
              "<style scoped>\n",
              "    .dataframe tbody tr th:only-of-type {\n",
              "        vertical-align: middle;\n",
              "    }\n",
              "\n",
              "    .dataframe tbody tr th {\n",
              "        vertical-align: top;\n",
              "    }\n",
              "\n",
              "    .dataframe thead th {\n",
              "        text-align: right;\n",
              "    }\n",
              "</style>\n",
              "<table border=\"1\" class=\"dataframe\">\n",
              "  <thead>\n",
              "    <tr style=\"text-align: right;\">\n",
              "      <th></th>\n",
              "      <th>Rating</th>\n",
              "      <th>Reviews</th>\n",
              "      <th>Content Rating</th>\n",
              "      <th>Installs</th>\n",
              "      <th>Everyone</th>\n",
              "      <th>Teen</th>\n",
              "      <th>Everyone 10+</th>\n",
              "      <th>Mature 17+</th>\n",
              "      <th>Adults only 18+</th>\n",
              "      <th>Unrated</th>\n",
              "    </tr>\n",
              "  </thead>\n",
              "  <tbody>\n",
              "    <tr>\n",
              "      <th>7499</th>\n",
              "      <td>4.1</td>\n",
              "      <td>1.785330</td>\n",
              "      <td>Everyone</td>\n",
              "      <td>3.00000</td>\n",
              "      <td>1</td>\n",
              "      <td>0</td>\n",
              "      <td>0</td>\n",
              "      <td>0</td>\n",
              "      <td>0</td>\n",
              "      <td>0</td>\n",
              "    </tr>\n",
              "    <tr>\n",
              "      <th>3588</th>\n",
              "      <td>3.7</td>\n",
              "      <td>3.696880</td>\n",
              "      <td>Everyone</td>\n",
              "      <td>6.00000</td>\n",
              "      <td>1</td>\n",
              "      <td>0</td>\n",
              "      <td>0</td>\n",
              "      <td>0</td>\n",
              "      <td>0</td>\n",
              "      <td>0</td>\n",
              "    </tr>\n",
              "    <tr>\n",
              "      <th>4030</th>\n",
              "      <td>4.2</td>\n",
              "      <td>1.301030</td>\n",
              "      <td>Everyone</td>\n",
              "      <td>3.69897</td>\n",
              "      <td>1</td>\n",
              "      <td>0</td>\n",
              "      <td>0</td>\n",
              "      <td>0</td>\n",
              "      <td>0</td>\n",
              "      <td>0</td>\n",
              "    </tr>\n",
              "    <tr>\n",
              "      <th>4719</th>\n",
              "      <td>4.2</td>\n",
              "      <td>1.462398</td>\n",
              "      <td>Everyone</td>\n",
              "      <td>3.69897</td>\n",
              "      <td>1</td>\n",
              "      <td>0</td>\n",
              "      <td>0</td>\n",
              "      <td>0</td>\n",
              "      <td>0</td>\n",
              "      <td>0</td>\n",
              "    </tr>\n",
              "    <tr>\n",
              "      <th>289</th>\n",
              "      <td>4.2</td>\n",
              "      <td>4.667500</td>\n",
              "      <td>Everyone</td>\n",
              "      <td>6.00000</td>\n",
              "      <td>1</td>\n",
              "      <td>0</td>\n",
              "      <td>0</td>\n",
              "      <td>0</td>\n",
              "      <td>0</td>\n",
              "      <td>0</td>\n",
              "    </tr>\n",
              "  </tbody>\n",
              "</table>\n",
              "</div>\n",
              "      <button class=\"colab-df-convert\" onclick=\"convertToInteractive('df-702b6211-389f-4828-b005-7bb492eb44bf')\"\n",
              "              title=\"Convert this dataframe to an interactive table.\"\n",
              "              style=\"display:none;\">\n",
              "        \n",
              "  <svg xmlns=\"http://www.w3.org/2000/svg\" height=\"24px\"viewBox=\"0 0 24 24\"\n",
              "       width=\"24px\">\n",
              "    <path d=\"M0 0h24v24H0V0z\" fill=\"none\"/>\n",
              "    <path d=\"M18.56 5.44l.94 2.06.94-2.06 2.06-.94-2.06-.94-.94-2.06-.94 2.06-2.06.94zm-11 1L8.5 8.5l.94-2.06 2.06-.94-2.06-.94L8.5 2.5l-.94 2.06-2.06.94zm10 10l.94 2.06.94-2.06 2.06-.94-2.06-.94-.94-2.06-.94 2.06-2.06.94z\"/><path d=\"M17.41 7.96l-1.37-1.37c-.4-.4-.92-.59-1.43-.59-.52 0-1.04.2-1.43.59L10.3 9.45l-7.72 7.72c-.78.78-.78 2.05 0 2.83L4 21.41c.39.39.9.59 1.41.59.51 0 1.02-.2 1.41-.59l7.78-7.78 2.81-2.81c.8-.78.8-2.07 0-2.86zM5.41 20L4 18.59l7.72-7.72 1.47 1.35L5.41 20z\"/>\n",
              "  </svg>\n",
              "      </button>\n",
              "      \n",
              "  <style>\n",
              "    .colab-df-container {\n",
              "      display:flex;\n",
              "      flex-wrap:wrap;\n",
              "      gap: 12px;\n",
              "    }\n",
              "\n",
              "    .colab-df-convert {\n",
              "      background-color: #E8F0FE;\n",
              "      border: none;\n",
              "      border-radius: 50%;\n",
              "      cursor: pointer;\n",
              "      display: none;\n",
              "      fill: #1967D2;\n",
              "      height: 32px;\n",
              "      padding: 0 0 0 0;\n",
              "      width: 32px;\n",
              "    }\n",
              "\n",
              "    .colab-df-convert:hover {\n",
              "      background-color: #E2EBFA;\n",
              "      box-shadow: 0px 1px 2px rgba(60, 64, 67, 0.3), 0px 1px 3px 1px rgba(60, 64, 67, 0.15);\n",
              "      fill: #174EA6;\n",
              "    }\n",
              "\n",
              "    [theme=dark] .colab-df-convert {\n",
              "      background-color: #3B4455;\n",
              "      fill: #D2E3FC;\n",
              "    }\n",
              "\n",
              "    [theme=dark] .colab-df-convert:hover {\n",
              "      background-color: #434B5C;\n",
              "      box-shadow: 0px 1px 3px 1px rgba(0, 0, 0, 0.15);\n",
              "      filter: drop-shadow(0px 1px 2px rgba(0, 0, 0, 0.3));\n",
              "      fill: #FFFFFF;\n",
              "    }\n",
              "  </style>\n",
              "\n",
              "      <script>\n",
              "        const buttonEl =\n",
              "          document.querySelector('#df-702b6211-389f-4828-b005-7bb492eb44bf button.colab-df-convert');\n",
              "        buttonEl.style.display =\n",
              "          google.colab.kernel.accessAllowed ? 'block' : 'none';\n",
              "\n",
              "        async function convertToInteractive(key) {\n",
              "          const element = document.querySelector('#df-702b6211-389f-4828-b005-7bb492eb44bf');\n",
              "          const dataTable =\n",
              "            await google.colab.kernel.invokeFunction('convertToInteractive',\n",
              "                                                     [key], {});\n",
              "          if (!dataTable) return;\n",
              "\n",
              "          const docLinkHtml = 'Like what you see? Visit the ' +\n",
              "            '<a target=\"_blank\" href=https://colab.research.google.com/notebooks/data_table.ipynb>data table notebook</a>'\n",
              "            + ' to learn more about interactive tables.';\n",
              "          element.innerHTML = '';\n",
              "          dataTable['output_type'] = 'display_data';\n",
              "          await google.colab.output.renderOutput(dataTable, element);\n",
              "          const docLink = document.createElement('div');\n",
              "          docLink.innerHTML = docLinkHtml;\n",
              "          element.appendChild(docLink);\n",
              "        }\n",
              "      </script>\n",
              "    </div>\n",
              "  </div>\n",
              "  "
            ],
            "text/plain": [
              "      Rating   Reviews Content Rating  Installs  Everyone  Teen  Everyone 10+  \\\n",
              "7499     4.1  1.785330       Everyone   3.00000         1     0             0   \n",
              "3588     3.7  3.696880       Everyone   6.00000         1     0             0   \n",
              "4030     4.2  1.301030       Everyone   3.69897         1     0             0   \n",
              "4719     4.2  1.462398       Everyone   3.69897         1     0             0   \n",
              "289      4.2  4.667500       Everyone   6.00000         1     0             0   \n",
              "\n",
              "      Mature 17+  Adults only 18+  Unrated  \n",
              "7499           0                0        0  \n",
              "3588           0                0        0  \n",
              "4030           0                0        0  \n",
              "4719           0                0        0  \n",
              "289            0                0        0  "
            ]
          },
          "metadata": {},
          "execution_count": 9
        }
      ]
    },
    {
      "cell_type": "markdown",
      "source": [
        "<div dir=rtl>\n",
        "<h4>\n",
        "3. ניתוח והצגה של הנתונים:\n",
        "</h4>\n",
        "</div>"
      ],
      "metadata": {
        "id": "fbC1gdgHHhy5"
      }
    },
    {
      "cell_type": "markdown",
      "source": [
        "<div dir=rtl>\n",
        "<h4>\n",
        "Installs:\n",
        "</br>\n",
        "נסתכל על היסטוגרמה של המשתנה:\n",
        "</h4>\n",
        "</div>"
      ],
      "metadata": {
        "id": "mFaE-AmhTDxR"
      }
    },
    {
      "cell_type": "code",
      "source": [
        "vals = sub_set['Installs']\n",
        "sns.set(rc={'figure.figsize':(11.7,8.27)})\n",
        "\n",
        "print('Histogram Of Installs: ')\n",
        "sns.histplot(vals,binwidth=0.5, kde = True)\n",
        "plt.show()"
      ],
      "metadata": {
        "colab": {
          "base_uri": "https://localhost:8080/",
          "height": 534
        },
        "id": "ebQSwTPYHlM8",
        "outputId": "4289de2a-d3ff-48e9-8d84-9da4ae7e3154"
      },
      "execution_count": 10,
      "outputs": [
        {
          "output_type": "stream",
          "name": "stdout",
          "text": [
            "Histogram Of Installs: \n"
          ]
        },
        {
          "output_type": "display_data",
          "data": {
            "image/png": "[encoded data removed]",
            "text/plain": [
              "<Figure size 842.4x595.44 with 1 Axes>"
            ]
          },
          "metadata": {}
        }
      ]
    },
    {
      "cell_type": "markdown",
      "source": [
        "<div dir=rtl>\n",
        "<h4>\n",
        "נשים לב כי גרף המגמה מרמז על התפלגות נורמלית אך יש הרבה ערכים המקבלים \"משקל\" נמוך ממה שהם אמורים לקבל בהתפלגות נורמלית אמיתית. ערכים אלו הם הערכים שאינם שלמים, כלומר הערכים שבסט הנתונים המקורי אינם כפולות של 10 (10 בחזקת k).\n",
        "</br>\n",
        "הבעיה הזו כנראה נובעת מהאופן שבו נאספו הנתונים. הנתונים המוצגים הם עיגול של מספר ההורדות האמיתי ולכן כנראה שהעיגול נעשה בצורה כזו שרוב המספרים התעגלו לכפולות שלמות של 10 ולא לכפולות שלמות של 5.\n",
        "</h4>\n",
        "</div>"
      ],
      "metadata": {
        "id": "6_4b3Agdhkny"
      }
    },
    {
      "cell_type": "markdown",
      "source": [
        "<div dir=rtl>\n",
        "<h4>\n",
        "Reviews:\n",
        "</br>\n",
        "נסתכל על היסטוגרמה של הנתונים:\n",
        "</h4>\n",
        "</div>"
      ],
      "metadata": {
        "id": "-7j7Vi8UCYT-"
      }
    },
    {
      "cell_type": "code",
      "source": [
        "vals = sub_set['Reviews']\n",
        "sns.set(rc={'figure.figsize':(11.7,8.27)})\n",
        "\n",
        "print('Histogram Of Rting: ')\n",
        "sns.histplot(vals, kde = True)\n",
        "plt.show()"
      ],
      "metadata": {
        "colab": {
          "base_uri": "https://localhost:8080/",
          "height": 534
        },
        "id": "BoD_d6Z4Hxns",
        "outputId": "082eed4e-bfdc-4661-b9bf-0f1982130030"
      },
      "execution_count": 11,
      "outputs": [
        {
          "output_type": "stream",
          "name": "stdout",
          "text": [
            "Histogram Of Rting: \n"
          ]
        },
        {
          "output_type": "display_data",
          "data": {
            "image/png": "[encoded data removed]",
            "text/plain": [
              "<Figure size 842.4x595.44 with 1 Axes>"
            ]
          },
          "metadata": {}
        }
      ]
    },
    {
      "cell_type": "markdown",
      "source": [
        "<div dir=rtl>\n",
        "<h4>\n",
        "ההיסטוגרמה מרמזת על התפלגות נורמלית סימטרית.\n",
        "</h4>\n",
        "</div>"
      ],
      "metadata": {
        "id": "HLSleGIbH7So"
      }
    },
    {
      "cell_type": "markdown",
      "source": [
        "<div dir=rtl>\n",
        "<h4>\n",
        "נסתכל על הקשר בין המשתנה המסביר Reviews למשתנה המוסבר Installs:\n",
        "</h4>\n",
        "</div>"
      ],
      "metadata": {
        "id": "d6en3J4YIKzv"
      }
    },
    {
      "cell_type": "code",
      "source": [
        "sns.scatterplot(data=sub_set[['Reviews', 'Installs']], x = 'Reviews', y = 'Installs')\n",
        "plt.show()"
      ],
      "metadata": {
        "colab": {
          "base_uri": "https://localhost:8080/",
          "height": 517
        },
        "id": "1DZp3XshIULY",
        "outputId": "bcfcfcd1-ce34-49d8-e53f-d0bb42f71711"
      },
      "execution_count": 12,
      "outputs": [
        {
          "output_type": "display_data",
          "data": {
            "image/png": "[encoded data removed]",
            "text/plain": [
              "<Figure size 842.4x595.44 with 1 Axes>"
            ]
          },
          "metadata": {}
        }
      ]
    },
    {
      "cell_type": "markdown",
      "source": [
        "<div dir=rtl>\n",
        "<h4>\n",
        "מהתרשים נסיק כי השערתינו מוצדקת ואכן יש יחס (לינארי) ישר בין כמות התגובות לכמות ההורדות.\n",
        "</h4>\n",
        "</div>"
      ],
      "metadata": {
        "id": "sudt0TUZIgsT"
      }
    },
    {
      "cell_type": "markdown",
      "source": [
        "<div dir=rtl>\n",
        "<h4>\n",
        "Rating:\n",
        "</br>\n",
        "נסתכל על היסטוגרמה של המשתנה:\n",
        "</h4>\n",
        "</div>"
      ],
      "metadata": {
        "id": "Nuc3jKX8odoX"
      }
    },
    {
      "cell_type": "code",
      "source": [
        "vals = sub_set['Rating']\n",
        "sns.set(rc={'figure.figsize':(11.7,8.27)})\n",
        "\n",
        "print('Histogram Of Rting: ')\n",
        "sns.histplot(vals, kde = True)\n",
        "plt.show()"
      ],
      "metadata": {
        "colab": {
          "base_uri": "https://localhost:8080/",
          "height": 534
        },
        "id": "eFYLX4JQolWV",
        "outputId": "bd2d3440-6e83-47d6-9fab-16d3973bf9fc"
      },
      "execution_count": 13,
      "outputs": [
        {
          "output_type": "stream",
          "name": "stdout",
          "text": [
            "Histogram Of Rting: \n"
          ]
        },
        {
          "output_type": "display_data",
          "data": {
            "image/png": "[encoded data removed]",
            "text/plain": [
              "<Figure size 842.4x595.44 with 1 Axes>"
            ]
          },
          "metadata": {}
        }
      ]
    },
    {
      "cell_type": "markdown",
      "source": [
        "<div dir=rtl>\n",
        "<h4>\n",
        "הנתונים מזכירים התפלגות נורמלית עם זנב שמאלי כבד אך נראה כי יש מעט ערכים חריגים (outlyers) \"המושכים\" את ההתפלגות שמאלה.\n",
        "</br>\n",
        "ניתן לראות עובדה זו גם בגרך ה - boxplot הבא:\n",
        "</h4>\n",
        "</div>"
      ],
      "metadata": {
        "id": "73CIqFeLo2vE"
      }
    },
    {
      "cell_type": "code",
      "source": [
        "print('Box Plot Of Rting: ')\n",
        "sns.boxplot(vals)\n",
        "plt.show()"
      ],
      "metadata": {
        "colab": {
          "base_uri": "https://localhost:8080/",
          "height": 589
        },
        "id": "2WWRwx-Epj22",
        "outputId": "99145e85-f5a0-40c9-8d63-f4c0e6544b12"
      },
      "execution_count": 14,
      "outputs": [
        {
          "output_type": "stream",
          "name": "stdout",
          "text": [
            "Box Plot Of Rting: \n"
          ]
        },
        {
          "output_type": "stream",
          "name": "stderr",
          "text": [
            "/usr/local/lib/python3.7/dist-packages/seaborn/_decorators.py:43: FutureWarning: Pass the following variable as a keyword arg: x. From version 0.12, the only valid positional argument will be `data`, and passing other arguments without an explicit keyword will result in an error or misinterpretation.\n",
            "  FutureWarning\n"
          ]
        },
        {
          "output_type": "display_data",
          "data": {
            "image/png": "[encoded data removed]",
            "text/plain": [
              "<Figure size 842.4x595.44 with 1 Axes>"
            ]
          },
          "metadata": {}
        }
      ]
    },
    {
      "cell_type": "markdown",
      "source": [
        "<div dir=rtl>\n",
        "<h4>\n",
        "נסתכל על היסטוגרמת המשתנה וגרף ה - boxplot שלו ללא הערכים החריגים:\n",
        "</h4>\n",
        "</div>"
      ],
      "metadata": {
        "id": "y4zSKROTwsnY"
      }
    },
    {
      "cell_type": "code",
      "source": [
        "vals = sub_set[sub_set['Rating'] > 3]['Rating']\n",
        "print('Histogram Of Rting: ')\n",
        "sns.histplot(vals, kde = True)\n",
        "plt.show()"
      ],
      "metadata": {
        "colab": {
          "base_uri": "https://localhost:8080/",
          "height": 534
        },
        "id": "HKburzwlv7T1",
        "outputId": "8271e289-7a6d-463e-8fad-864a3f2cd997"
      },
      "execution_count": 15,
      "outputs": [
        {
          "output_type": "stream",
          "name": "stdout",
          "text": [
            "Histogram Of Rting: \n"
          ]
        },
        {
          "output_type": "display_data",
          "data": {
            "image/png": "[encoded data removed]",
            "text/plain": [
              "<Figure size 842.4x595.44 with 1 Axes>"
            ]
          },
          "metadata": {}
        }
      ]
    },
    {
      "cell_type": "code",
      "source": [
        "print('Box Plot Of Rting: ')\n",
        "sns.boxplot(vals)\n",
        "plt.show()"
      ],
      "metadata": {
        "colab": {
          "base_uri": "https://localhost:8080/",
          "height": 589
        },
        "id": "OEJMHHCiwO4h",
        "outputId": "27af907e-f463-4cdc-e8ae-60d789983e39"
      },
      "execution_count": 16,
      "outputs": [
        {
          "output_type": "stream",
          "name": "stdout",
          "text": [
            "Box Plot Of Rting: \n"
          ]
        },
        {
          "output_type": "stream",
          "name": "stderr",
          "text": [
            "/usr/local/lib/python3.7/dist-packages/seaborn/_decorators.py:43: FutureWarning: Pass the following variable as a keyword arg: x. From version 0.12, the only valid positional argument will be `data`, and passing other arguments without an explicit keyword will result in an error or misinterpretation.\n",
            "  FutureWarning\n"
          ]
        },
        {
          "output_type": "display_data",
          "data": {
            "image/png": "[encoded data removed]",
            "text/plain": [
              "<Figure size 842.4x595.44 with 1 Axes>"
            ]
          },
          "metadata": {}
        }
      ]
    },
    {
      "cell_type": "markdown",
      "source": [
        "<div dir=rtl>\n",
        "<h4>\n",
        "כאשר מתעלמים מהערכים החריגים קיבלנו כי הנתונים אכן נראים כמתפלגים נורמלית.\n",
        "</br>\n",
        "הערכים החריגים הם ערכים הקטנים שווים ל - 3. המשמעות היא שה\"מסה\" הגדולה של האפליקציות מקבלות דירוגים הגדולים מ - 3.\n",
        "</h4>\n",
        "</div>"
      ],
      "metadata": {
        "id": "O0HQQMxWxErs"
      }
    },
    {
      "cell_type": "markdown",
      "source": [
        "<div dir=rtl>\n",
        "<h4>\n",
        "נסתכל על הקשר בין המשתנה המסביר Rating למשתנה המוסבר Installs:\n",
        "</h4>\n",
        "</div>"
      ],
      "metadata": {
        "id": "sn-xYGZ9CIAX"
      }
    },
    {
      "cell_type": "code",
      "source": [
        "sns.scatterplot(data=sub_set[['Rating', 'Installs']], x = 'Rating', y = 'Installs', label='With Outlyers')\n",
        "\n",
        "plot_df = sub_set[['Rating', 'Installs']]\n",
        "plot_df = plot_df.drop(plot_df[(plot_df.Rating <= 3)].index)\n",
        "sns.scatterplot(data=plot_df, x = 'Rating', y = 'Installs', label='Without Outlyers')\n",
        "plt.legend()\n",
        "plt.show()"
      ],
      "metadata": {
        "colab": {
          "base_uri": "https://localhost:8080/",
          "height": 517
        },
        "id": "Llx3RkqqCRnz",
        "outputId": "9d19525f-828f-4c91-ae1e-ce9fb63402e2"
      },
      "execution_count": 17,
      "outputs": [
        {
          "output_type": "display_data",
          "data": {
            "image/png": "[encoded data removed]",
            "text/plain": [
              "<Figure size 842.4x595.44 with 1 Axes>"
            ]
          },
          "metadata": {}
        }
      ]
    },
    {
      "cell_type": "markdown",
      "source": [
        "<div dir=rtl>\n",
        "<h4>\n",
        "ניתן לראות כי משתקפת תמונה שונה מהשערתינו ההתחלתית לגבי השפעת ה - Rating על ה - Installs. ראשית נשים לב כי עבור ערכים הקטנים מ - 3 (שאותם הגדרנו כ -Outlyers) הגרף לא אינפורמטיבי (כנראה מכיוון שאין מספיק נתונים). עבור שאר הערכים נראה כי אין קשר כלל בין דירוג האפליקציה למספר ההורדות.\n",
        "</h4>\n",
        "</div>"
      ],
      "metadata": {
        "id": "y9NNmyFCamUE"
      }
    },
    {
      "cell_type": "markdown",
      "source": [
        "<div dir=rtl>\n",
        "<h4>\n",
        "Content Rating:\n",
        "</br>\n",
        "נסתכל על טבלה של המשתנה:\n",
        "</h4>\n",
        "</div>"
      ],
      "metadata": {
        "id": "sSZBihGgA80c"
      }
    },
    {
      "cell_type": "code",
      "source": [
        "con_rat_vals = ln_reg_df['Content Rating'].unique()\n",
        "\n",
        "sum_list = ['Total']\n",
        "for c in con_rat_vals:\n",
        " sum_list.append(sub_set[c].sum())\n",
        "\n",
        "per_list = ['Percentage']\n",
        "per_list += [str((x/len(sub_set))*100) + '%' for x in sum_list[1:]] \n",
        "\n",
        "print(tabulate([sum_list, per_list], headers=[' '] + con_rat_vals))\n"
      ],
      "metadata": {
        "colab": {
          "base_uri": "https://localhost:8080/"
        },
        "id": "py1i8RrUBGaX",
        "outputId": "6240042d-efa5-4f53-9884-33116ad52637"
      },
      "execution_count": 18,
      "outputs": [
        {
          "output_type": "stream",
          "name": "stdout",
          "text": [
            "             Everyone     Teen     Everyone 10+     Mature 17+     Adults only 18+     Unrated\n",
            "----------  -----------  -------  ---------------  -------------  ------------------  ----------\n",
            "Total       168          15       4                13             0                   0\n",
            "Percentage  84.0%        7.5%     2.0%             6.5%           0.0%                0.0%\n"
          ]
        }
      ]
    },
    {
      "cell_type": "markdown",
      "source": [
        "<div dir=rtl>\n",
        "<h4>\n",
        "ניתן לראות כי הרוב הגדול של האפליקציות הם בעלות דירוג תוכן של Everyone עם 84 אחוז מהאפליקציות. בנוסף, עקב האחוז הקטן של אפליקציות בעלות דירוג תוכן Adults only +18 ו - Unrated ,\n",
        "במדגם שלנו אין כלל אפליקציות המגיעות מדירוג תוכן זה, ובפרט אם אכן יש השפעה לדירוג התוכן על כמות ההורדות, מודל הריגרסיה שנבנה לא יצילח \"לתפוס\" את ההשפעה של דירוגי תוכן אלו.\n",
        "</h4>\n",
        "</div>"
      ],
      "metadata": {
        "id": "7RZn840vBi6G"
      }
    },
    {
      "cell_type": "markdown",
      "source": [
        "<div dir=rtl>\n",
        "<h4>\n",
        "נבדוק את השפעת דירוג התוכן על מספר ההורדות על ידי גרף violin אשר מציג קירוב להתפלגות הנתונים (קירוב רציף להיסטוגרמת הנתונים) לפי הקטוגוריות השונות:\n",
        "</h4>\n",
        "</div>"
      ],
      "metadata": {
        "id": "Hxm4NvZQcf-g"
      }
    },
    {
      "cell_type": "code",
      "source": [
        "sns.violinplot(x=\"Content Rating\", y=\"Installs\", data=sub_set)\n",
        "plt.show()  "
      ],
      "metadata": {
        "colab": {
          "base_uri": "https://localhost:8080/",
          "height": 517
        },
        "id": "ffghVjX-cqjQ",
        "outputId": "64946c12-cc2d-4af6-fa7d-afd83860ffab"
      },
      "execution_count": 19,
      "outputs": [
        {
          "output_type": "display_data",
          "data": {
            "image/png": "[encoded data removed]",
            "text/plain": [
              "<Figure size 842.4x595.44 with 1 Axes>"
            ]
          },
          "metadata": {}
        }
      ]
    },
    {
      "cell_type": "markdown",
      "source": [
        "<div dir=rtl>\n",
        "<h4>\n",
        "ראשית, ניתן לראות כי עבור הקטגורויות Teen, Everyone +10 ו - Mature +17, הממוצעים קרובים (בין 6 ל - 7) וההתפלגות מרוכזת באותו אופן מסביב לממוצא, פרט לקטגוריה Mature +17 שבה נראה כי יש מספר ערכים חריגים בודדים ה\"מושכים\" את ההתפלגות כלפי מטה.\n",
        "עבור הקטגוריה Everyone נראה כי הממוצע יחסית נמוך משאר הקטגוריות וכי ההתפלגות פחות מרוכזת סביבו. נשים לב כי תוצאה זו יכולה לנבוע מגדלי המדגם השונים שכן, כפי שהראנו קודם, מרבית האפליקציות במדגם הגיעו מקטגוריה זו.\n",
        "</h4>\n",
        "</div>"
      ],
      "metadata": {
        "id": "UfpRU5A6fK1T"
      }
    },
    {
      "cell_type": "markdown",
      "source": [
        "<div dir=rtl>\n",
        "<h4>\n",
        "4. נבצע ריגרסיה לינארית ונמצא את ערכי האומדן לבטא:\n",
        "</h4>\n",
        "</div>"
      ],
      "metadata": {
        "id": "HWfeQ0ubhIBf"
      }
    },
    {
      "cell_type": "code",
      "source": [
        "x_vals = sub_set.drop(['Content Rating', 'Installs'], 1).to_numpy()\n",
        "\n",
        "reg = linear_model.LinearRegression()\n",
        "reg.fit(x_vals, sub_set['Installs'].to_numpy())\n",
        "beta_cova = reg.intercept_ + reg.coef_\n",
        "\n",
        "con_rat_vals = ln_reg_df['Content Rating'].unique()\n",
        "print(tabulate([['Effect'] + list(beta_cova)], headers=[' ', 'Bias', 'Rating', 'Reviews'] + list(con_rat_vals)))"
      ],
      "metadata": {
        "colab": {
          "base_uri": "https://localhost:8080/"
        },
        "id": "MmK2FjArh-Rc",
        "outputId": "31e15c45-a9ae-4f5a-b27d-a22a0d5524bb"
      },
      "execution_count": 20,
      "outputs": [
        {
          "output_type": "stream",
          "name": "stdout",
          "text": [
            "           Bias    Rating    Reviews    Everyone     Teen    Everyone 10+    Mature 17+    Adults only 18+\n",
            "------  -------  --------  ---------  ----------  -------  --------------  ------------  -----------------\n",
            "Effect  2.47141   3.64796    2.84548     2.84237  2.41025         2.67144       2.69238            2.69238\n"
          ]
        },
        {
          "output_type": "stream",
          "name": "stderr",
          "text": [
            "/usr/local/lib/python3.7/dist-packages/ipykernel_launcher.py:1: FutureWarning: In a future version of pandas all arguments of DataFrame.drop except for the argument 'labels' will be keyword-only\n",
            "  \"\"\"Entry point for launching an IPython kernel.\n"
          ]
        }
      ]
    },
    {
      "cell_type": "markdown",
      "source": [
        "<div dir=rtl>\n",
        "<h4>\n",
        "ההשפעה של עלייה ביחידה אחת של דירוג האפליקציה על מספר ההורדות היא השפעה של 3.6 יחידות.\n",
        "השפעה של יחידה אחת במספר הביקרות היא השפעה חיובית של 2.85. \n",
        "</br>\n",
        "השפעת איבר הטייה היא של 2.47 יחידות על מספר ההורדות.\n",
        "</br>\n",
        "נראה כי פרט לשוני קטן (של 0.2 יחידות), השפעת דירוג התוכן על מספר ההורדות הוא זהה. מכיוון שלכל אפליקציה יש בדיוק דירוג תוכן אחד, איבר זה דומה לאיבר ההטיה שכן כל אפליקציה מקבלת תוספת דומה למספר ההורדות ללא תלות בדרגת הדירוג ממנה הגיעה.\n",
        "</h4>\n",
        "</div>"
      ],
      "metadata": {
        "id": "hZ9DhV3qqCR6"
      }
    },
    {
      "cell_type": "markdown",
      "source": [
        "<div dir=rtl>\n",
        "<h4>\n",
        "5. נחשב את טבלת ה - ANOVA, ה - R בריבוע ואת ה - R בריבוע adj:\n",
        "</h4>\n",
        "</div>"
      ],
      "metadata": {
        "id": "YwBAkbqia5HV"
      }
    },
    {
      "cell_type": "code",
      "source": [
        "y = sub_set['Installs'].to_numpy()\n",
        "y_cova = reg.predict(x_vals)\n",
        "\n",
        "ssr = sum([(yi - np.mean(y))**2 for yi in y_cova])\n",
        "sse = sum([x**2 for x in y - y_cova])\n",
        "sst = sum([(yi - np.mean(y))**2 for yi in y])\n",
        "p = len(beta_cova) + 1\n",
        "n = len(y)\n",
        "\n",
        "list_to_tab = []\n",
        "list_to_tab.append(['Regression', ssr, p, ssr/(p - 1)])\n",
        "list_to_tab.append(['Residuals', sse, n - p, sse/(n - p)])\n",
        "list_to_tab.append(['Total', sst, n - 1, sst/(n - 1)])\n",
        "print(tabulate(list_to_tab, headers=['Source', '𝑺𝑺', '𝒅𝒇', '𝑴𝑺']))\n",
        "\n",
        "r_sqwr = ssr/sst\n",
        "r_sqwr_adj = 1 - ((n - 1)/(n - p))*(1 - r_sqwr)\n",
        "print()\n",
        "print('R^2 = ', r_sqwr)\n",
        "print('R^2_adj = ', r_sqwr_adj)"
      ],
      "metadata": {
        "colab": {
          "base_uri": "https://localhost:8080/"
        },
        "id": "M1D7aKDQbD0U",
        "outputId": "99f4345b-ec92-4f95-a0f4-122d584b63b5"
      },
      "execution_count": 21,
      "outputs": [
        {
          "output_type": "stream",
          "name": "stdout",
          "text": [
            "Source            𝑺𝑺    𝒅𝒇         𝑴𝑺\n",
            "----------  --------  ----  ---------\n",
            "Regression  451.044      9  56.3805\n",
            "Residuals    37.6273   191   0.197002\n",
            "Total       488.672    199   2.45564\n",
            "\n",
            "R^2 =  0.9230007889274192\n",
            "R^2_adj =  0.9197756910814472\n"
          ]
        }
      ]
    },
    {
      "cell_type": "markdown",
      "source": [
        "<div dir=rtl>\n",
        "<h4>\n",
        "נבצע מבחן F:\n",
        "</h4>\n",
        "</div>"
      ],
      "metadata": {
        "id": "q6qn8Fv2GmKU"
      }
    },
    {
      "cell_type": "code",
      "source": [
        "f = (ssr/(p - 1))/(sse/(n - p))\n",
        "print('R.R. = ', dist.f.ppf(0.95, p, n - p))\n",
        "\n",
        "print('F value = ', f)"
      ],
      "metadata": {
        "colab": {
          "base_uri": "https://localhost:8080/"
        },
        "id": "uun375fZGvZb",
        "outputId": "e992656f-9688-4f02-c980-5c85bcfc572c"
      },
      "execution_count": 22,
      "outputs": [
        {
          "output_type": "stream",
          "name": "stdout",
          "text": [
            "R.R. =  1.9291629235741017\n",
            "F value =  286.19311196409353\n"
          ]
        }
      ]
    },
    {
      "cell_type": "markdown",
      "source": [
        "<div dir=rtl>\n",
        "<h4>\n",
        "F > R.R. ולכן נדחה את השערת האפס, כלומר תוצאת המבחן היא שאכן יש סיבה להאמין כי הקשר הלינארי שאנו מניחים מתקיים.\n",
        "</h4>\n",
        "</div>"
      ],
      "metadata": {
        "id": "_TzNyWIpKrXX"
      }
    },
    {
      "cell_type": "markdown",
      "source": [
        "<div dir=rtl>\n",
        "<h4>\n",
        "6. נחשב רווח סמך למקדים:\n",
        "</h4>\n",
        "</div>"
      ],
      "metadata": {
        "id": "XJyWkBzALh5N"
      }
    },
    {
      "cell_type": "code",
      "source": [
        "i = 0\n",
        "x_vals = sub_set.drop(['Content Rating', 'Installs'], 1).to_numpy()\n",
        "x_vals = np.array([np.insert(x, 1, 0) for x in x_vals])\n",
        "c = np.dot(x_vals.T, x_vals)\n",
        "c = np.linalg.pinv(c)\n",
        "\n",
        "eps_sigma =  sum([x**2 for x in y - y_cova])/(len(y) - p)\n",
        "\n",
        "for b in beta_cova:\n",
        "  print('Confidence Interval For Coefficient Number ', i, ': [', b - dist.norm.ppf(0.95, 0, 1)*eps_sigma*c[i][i], ', ',  b + dist.norm.ppf(0.95, 0, 1)*c[i][i], ']')\n",
        "  i += 1"
      ],
      "metadata": {
        "colab": {
          "base_uri": "https://localhost:8080/"
        },
        "id": "vzJiHCR7LqzW",
        "outputId": "083ec894-b583-466c-8920-1aaf84aa4c0f"
      },
      "execution_count": 23,
      "outputs": [
        {
          "output_type": "stream",
          "name": "stdout",
          "text": [
            "Confidence Interval For Coefficient Number  0 : [ 2.4651107222210547 ,  2.5033890074317413 ]\n",
            "Confidence Interval For Coefficient Number  1 : [ 3.6479610966437144 ,  3.6479610966437144 ]\n",
            "Confidence Interval For Coefficient Number  2 : [ 2.8447588483981443 ,  2.849144982227141 ]\n",
            "Confidence Interval For Coefficient Number  3 : [ 2.7358085451872123 ,  3.3833101079861674 ]\n",
            "Confidence Interval For Coefficient Number  4 : [ 2.275029204236302 ,  3.0966161604748885 ]\n",
            "Confidence Interval For Coefficient Number  5 : [ 2.470216670666749 ,  3.6928613636679875 ]\n",
            "Confidence Interval For Coefficient Number  6 : [ 2.5727263824946744 ,  3.299781924690558 ]\n",
            "Confidence Interval For Coefficient Number  7 : [ 2.69238468972564 ,  2.69238468972564 ]\n"
          ]
        },
        {
          "output_type": "stream",
          "name": "stderr",
          "text": [
            "/usr/local/lib/python3.7/dist-packages/ipykernel_launcher.py:2: FutureWarning: In a future version of pandas all arguments of DataFrame.drop except for the argument 'labels' will be keyword-only\n",
            "  \n"
          ]
        }
      ]
    },
    {
      "cell_type": "markdown",
      "source": [
        "<div dir=rtl>\n",
        "<h4>\n",
        "נבצע רגרסיה לינארית עבור כל המדגם:\n",
        "</h4>\n",
        "</div>"
      ],
      "metadata": {
        "id": "0PdldAWLRPwx"
      }
    },
    {
      "cell_type": "code",
      "source": [
        "x_vals_all = ln_reg_df.drop(['Content Rating', 'Installs'], 1).to_numpy()\n",
        "\n",
        "reg_all = linear_model.LinearRegression()\n",
        "reg_all.fit(x_vals_all, ln_reg_df['Installs'].to_numpy())\n",
        "beta_cova_all = reg_all.intercept_ + reg_all.coef_\n",
        "\n",
        "con_rat_vals = ln_reg_df['Content Rating'].unique()\n",
        "print(tabulate([['Effect'] + list(beta_cova)], headers=[' ', 'Bias', 'Rating', 'Reviews'] + list(con_rat_vals)))"
      ],
      "metadata": {
        "colab": {
          "base_uri": "https://localhost:8080/"
        },
        "id": "5hibfklORWcS",
        "outputId": "5bd4e33d-6e73-4316-d27c-4b486d9ff9cd"
      },
      "execution_count": 24,
      "outputs": [
        {
          "output_type": "stream",
          "name": "stdout",
          "text": [
            "           Bias    Rating    Reviews    Everyone     Teen    Everyone 10+    Mature 17+    Adults only 18+\n",
            "------  -------  --------  ---------  ----------  -------  --------------  ------------  -----------------\n",
            "Effect  2.47141   3.64796    2.84548     2.84237  2.41025         2.67144       2.69238            2.69238\n"
          ]
        },
        {
          "output_type": "stream",
          "name": "stderr",
          "text": [
            "/usr/local/lib/python3.7/dist-packages/ipykernel_launcher.py:1: FutureWarning: In a future version of pandas all arguments of DataFrame.drop except for the argument 'labels' will be keyword-only\n",
            "  \"\"\"Entry point for launching an IPython kernel.\n"
          ]
        }
      ]
    },
    {
      "cell_type": "markdown",
      "source": [
        "<div dir=rtl>\n",
        "<h4>\n",
        "7. לכל פרמטר נבצע מבחן וואלד כדי לראות אם הוא שונה מ - 0:\n",
        "</h4>\n",
        "</div>"
      ],
      "metadata": {
        "id": "vYb-1WZ5Pt7m"
      }
    },
    {
      "cell_type": "code",
      "source": [
        "i = 0\n",
        "\n",
        "x_vals_all = ln_reg_df.drop(['Content Rating', 'Installs'], 1).to_numpy()\n",
        "y_cova_all = reg_all.predict(x_vals_all)\n",
        "\n",
        "x_vals_all = np.array([np.insert(x, 1, 0) for x in x_vals_all])\n",
        "c_all = np.dot(x_vals_all.T, x_vals_all)\n",
        "c_all = np.linalg.pinv(c_all)\n",
        "y_all = ln_reg_df['Installs'].to_numpy()\n",
        "eps_sigma_all =  sum([x**2 for x in y_all - y_cova_all])/(len(y_all) - p)\n",
        "\n",
        "\n",
        "for b in beta_cova_all:\n",
        "  print()\n",
        "  print('----------------------------')\n",
        "  print('H0: beta', i, ' = 0')\n",
        "  print('H0: beta', i, ' != 0')\n",
        "  t = b/np.sqrt(eps_sigma_all*c_all[i][i])\n",
        "  print('The Statistic Is T = ', t)\n",
        "  if abs(t) <= dist.norm.ppf(0.95, 0, 1):\n",
        "    print('We Accept H0')\n",
        "  else:\n",
        "    print('We Reject H0')  \n",
        "  print()\n",
        "  print('----------------------------')  \n",
        "  i += 1"
      ],
      "metadata": {
        "colab": {
          "base_uri": "https://localhost:8080/"
        },
        "id": "CEfE8lcRP-uq",
        "outputId": "3c1deda5-5c88-4d39-f6cb-95e26f432ce3"
      },
      "execution_count": 26,
      "outputs": [
        {
          "output_type": "stream",
          "name": "stderr",
          "text": [
            "/usr/local/lib/python3.7/dist-packages/ipykernel_launcher.py:3: FutureWarning: In a future version of pandas all arguments of DataFrame.drop except for the argument 'labels' will be keyword-only\n",
            "  This is separate from the ipykernel package so we can avoid doing imports until\n"
          ]
        },
        {
          "output_type": "stream",
          "name": "stdout",
          "text": [
            "\n",
            "----------------------------\n",
            "H0: beta 0  = 0\n",
            "H0: beta 0  != 0\n",
            "The Statistic Is T =  280.3177642075286\n",
            "We Reject H0\n",
            "\n",
            "----------------------------\n",
            "\n",
            "----------------------------\n",
            "H0: beta 1  = 0\n",
            "H0: beta 1  != 0\n",
            "The Statistic Is T =  nan\n",
            "We Reject H0\n",
            "\n",
            "----------------------------\n",
            "\n",
            "----------------------------\n",
            "H0: beta 2  = 0\n",
            "H0: beta 2  != 0\n",
            "The Statistic Is T =  1039.8267210552253\n",
            "We Reject H0\n",
            "\n",
            "----------------------------\n",
            "\n",
            "----------------------------\n",
            "H0: beta 3  = 0\n",
            "H0: beta 3  != 0\n",
            "The Statistic Is T =  75.00089939936144\n",
            "We Reject H0\n",
            "\n",
            "----------------------------\n",
            "\n",
            "----------------------------\n",
            "H0: beta 4  = 0\n",
            "H0: beta 4  != 0\n",
            "The Statistic Is T =  69.46696190668673\n",
            "We Reject H0\n",
            "\n",
            "----------------------------\n",
            "\n",
            "----------------------------\n",
            "H0: beta 5  = 0\n",
            "H0: beta 5  != 0\n",
            "The Statistic Is T =  64.24302673213165\n",
            "We Reject H0\n",
            "\n",
            "----------------------------\n",
            "\n",
            "----------------------------\n",
            "H0: beta 6  = 0\n",
            "H0: beta 6  != 0\n",
            "The Statistic Is T =  64.94963022162037\n",
            "We Reject H0\n",
            "\n",
            "----------------------------\n",
            "\n",
            "----------------------------\n",
            "H0: beta 7  = 0\n",
            "H0: beta 7  != 0\n",
            "The Statistic Is T =  10.785708741479374\n",
            "We Reject H0\n",
            "\n",
            "----------------------------\n"
          ]
        },
        {
          "output_type": "stream",
          "name": "stderr",
          "text": [
            "/usr/local/lib/python3.7/dist-packages/ipykernel_launcher.py:18: RuntimeWarning: invalid value encountered in sqrt\n"
          ]
        }
      ]
    },
    {
      "cell_type": "markdown",
      "source": [
        "<div dir=rtl>\n",
        "<h4>\n",
        "8. נציג גרף שאריות:\n",
        "</h4>\n",
        "</div>"
      ],
      "metadata": {
        "id": "vAkcRZq4RUyj"
      }
    },
    {
      "cell_type": "code",
      "source": [
        "x_vals = sub_set.drop(['Content Rating', 'Installs'], 1).to_numpy()\n",
        "y = sub_set['Installs'].to_numpy()\n",
        "y_cova = reg.predict(x_vals)\n",
        "\n",
        "plt.scatter(range(len(y)), y_cova - y)"
      ],
      "metadata": {
        "colab": {
          "base_uri": "https://localhost:8080/",
          "height": 572
        },
        "id": "KYvVeyAIRnJu",
        "outputId": "f4c1d253-2081-41e7-fe0c-46a411b74c4b"
      },
      "execution_count": 27,
      "outputs": [
        {
          "output_type": "stream",
          "name": "stderr",
          "text": [
            "/usr/local/lib/python3.7/dist-packages/ipykernel_launcher.py:1: FutureWarning: In a future version of pandas all arguments of DataFrame.drop except for the argument 'labels' will be keyword-only\n",
            "  \"\"\"Entry point for launching an IPython kernel.\n"
          ]
        },
        {
          "output_type": "execute_result",
          "data": {
            "text/plain": [
              "<matplotlib.collections.PathCollection at 0x7f21163e4b90>"
            ]
          },
          "metadata": {},
          "execution_count": 27
        },
        {
          "output_type": "display_data",
          "data": {
            "image/png": "[encoded data removed]",
            "text/plain": [
              "<Figure size 842.4x595.44 with 1 Axes>"
            ]
          },
          "metadata": {}
        }
      ]
    },
    {
      "cell_type": "markdown",
      "source": [
        "<div dir=rtl>\n",
        "<h4>\n",
        "ניתן לראות כי המודל שלנו חסר הטיה (הנחת הלינאריות הגיונית) וכי אפשר להניח שהשונויות קבועות.\n",
        "</h4>\n",
        "</div>"
      ],
      "metadata": {
        "id": "zs3APaqqVDqJ"
      }
    },
    {
      "cell_type": "markdown",
      "source": [
        "<div dir=rtl>\n",
        "<h4>\n",
        "9. נדגום מדגם מקרי של 1000 נקודות:\n",
        "</h4>\n",
        "</div>"
      ],
      "metadata": {
        "id": "iwJmoJCpVv70"
      }
    },
    {
      "cell_type": "code",
      "source": [
        "rows = np.random.choice(np.setdiff1d(ln_reg_df.index.values, sub_set.index.values), 1000)\n",
        "test_set = ln_reg_df.loc[rows]\n",
        "test_set.head()"
      ],
      "metadata": {
        "colab": {
          "base_uri": "https://localhost:8080/",
          "height": 206
        },
        "id": "FtgUdfYSXZvi",
        "outputId": "e9833586-eb35-468d-fe5d-377788c56bb4"
      },
      "execution_count": 28,
      "outputs": [
        {
          "output_type": "execute_result",
          "data": {
            "text/html": [
              "\n",
              "  <div id=\"df-74e3b0a0-d14b-4b4e-b442-be518374dde7\">\n",
              "    <div class=\"colab-df-container\">\n",
              "      <div>\n",
              "<style scoped>\n",
              "    .dataframe tbody tr th:only-of-type {\n",
              "        vertical-align: middle;\n",
              "    }\n",
              "\n",
              "    .dataframe tbody tr th {\n",
              "        vertical-align: top;\n",
              "    }\n",
              "\n",
              "    .dataframe thead th {\n",
              "        text-align: right;\n",
              "    }\n",
              "</style>\n",
              "<table border=\"1\" class=\"dataframe\">\n",
              "  <thead>\n",
              "    <tr style=\"text-align: right;\">\n",
              "      <th></th>\n",
              "      <th>Rating</th>\n",
              "      <th>Reviews</th>\n",
              "      <th>Content Rating</th>\n",
              "      <th>Installs</th>\n",
              "      <th>Everyone</th>\n",
              "      <th>Teen</th>\n",
              "      <th>Everyone 10+</th>\n",
              "      <th>Mature 17+</th>\n",
              "      <th>Adults only 18+</th>\n",
              "      <th>Unrated</th>\n",
              "    </tr>\n",
              "  </thead>\n",
              "  <tbody>\n",
              "    <tr>\n",
              "      <th>4010</th>\n",
              "      <td>2.0</td>\n",
              "      <td>1.380211</td>\n",
              "      <td>Everyone</td>\n",
              "      <td>3.00000</td>\n",
              "      <td>1</td>\n",
              "      <td>0</td>\n",
              "      <td>0</td>\n",
              "      <td>0</td>\n",
              "      <td>0</td>\n",
              "      <td>0</td>\n",
              "    </tr>\n",
              "    <tr>\n",
              "      <th>6892</th>\n",
              "      <td>4.2</td>\n",
              "      <td>5.392178</td>\n",
              "      <td>Teen</td>\n",
              "      <td>6.00000</td>\n",
              "      <td>0</td>\n",
              "      <td>1</td>\n",
              "      <td>0</td>\n",
              "      <td>0</td>\n",
              "      <td>0</td>\n",
              "      <td>0</td>\n",
              "    </tr>\n",
              "    <tr>\n",
              "      <th>10727</th>\n",
              "      <td>4.1</td>\n",
              "      <td>2.346353</td>\n",
              "      <td>Everyone</td>\n",
              "      <td>4.69897</td>\n",
              "      <td>1</td>\n",
              "      <td>0</td>\n",
              "      <td>0</td>\n",
              "      <td>0</td>\n",
              "      <td>0</td>\n",
              "      <td>0</td>\n",
              "    </tr>\n",
              "    <tr>\n",
              "      <th>1342</th>\n",
              "      <td>4.5</td>\n",
              "      <td>5.367809</td>\n",
              "      <td>Everyone</td>\n",
              "      <td>6.69897</td>\n",
              "      <td>1</td>\n",
              "      <td>0</td>\n",
              "      <td>0</td>\n",
              "      <td>0</td>\n",
              "      <td>0</td>\n",
              "      <td>0</td>\n",
              "    </tr>\n",
              "    <tr>\n",
              "      <th>10147</th>\n",
              "      <td>4.1</td>\n",
              "      <td>2.726727</td>\n",
              "      <td>Everyone</td>\n",
              "      <td>5.00000</td>\n",
              "      <td>1</td>\n",
              "      <td>0</td>\n",
              "      <td>0</td>\n",
              "      <td>0</td>\n",
              "      <td>0</td>\n",
              "      <td>0</td>\n",
              "    </tr>\n",
              "  </tbody>\n",
              "</table>\n",
              "</div>\n",
              "      <button class=\"colab-df-convert\" onclick=\"convertToInteractive('df-74e3b0a0-d14b-4b4e-b442-be518374dde7')\"\n",
              "              title=\"Convert this dataframe to an interactive table.\"\n",
              "              style=\"display:none;\">\n",
              "        \n",
              "  <svg xmlns=\"http://www.w3.org/2000/svg\" height=\"24px\"viewBox=\"0 0 24 24\"\n",
              "       width=\"24px\">\n",
              "    <path d=\"M0 0h24v24H0V0z\" fill=\"none\"/>\n",
              "    <path d=\"M18.56 5.44l.94 2.06.94-2.06 2.06-.94-2.06-.94-.94-2.06-.94 2.06-2.06.94zm-11 1L8.5 8.5l.94-2.06 2.06-.94-2.06-.94L8.5 2.5l-.94 2.06-2.06.94zm10 10l.94 2.06.94-2.06 2.06-.94-2.06-.94-.94-2.06-.94 2.06-2.06.94z\"/><path d=\"M17.41 7.96l-1.37-1.37c-.4-.4-.92-.59-1.43-.59-.52 0-1.04.2-1.43.59L10.3 9.45l-7.72 7.72c-.78.78-.78 2.05 0 2.83L4 21.41c.39.39.9.59 1.41.59.51 0 1.02-.2 1.41-.59l7.78-7.78 2.81-2.81c.8-.78.8-2.07 0-2.86zM5.41 20L4 18.59l7.72-7.72 1.47 1.35L5.41 20z\"/>\n",
              "  </svg>\n",
              "      </button>\n",
              "      \n",
              "  <style>\n",
              "    .colab-df-container {\n",
              "      display:flex;\n",
              "      flex-wrap:wrap;\n",
              "      gap: 12px;\n",
              "    }\n",
              "\n",
              "    .colab-df-convert {\n",
              "      background-color: #E8F0FE;\n",
              "      border: none;\n",
              "      border-radius: 50%;\n",
              "      cursor: pointer;\n",
              "      display: none;\n",
              "      fill: #1967D2;\n",
              "      height: 32px;\n",
              "      padding: 0 0 0 0;\n",
              "      width: 32px;\n",
              "    }\n",
              "\n",
              "    .colab-df-convert:hover {\n",
              "      background-color: #E2EBFA;\n",
              "      box-shadow: 0px 1px 2px rgba(60, 64, 67, 0.3), 0px 1px 3px 1px rgba(60, 64, 67, 0.15);\n",
              "      fill: #174EA6;\n",
              "    }\n",
              "\n",
              "    [theme=dark] .colab-df-convert {\n",
              "      background-color: #3B4455;\n",
              "      fill: #D2E3FC;\n",
              "    }\n",
              "\n",
              "    [theme=dark] .colab-df-convert:hover {\n",
              "      background-color: #434B5C;\n",
              "      box-shadow: 0px 1px 3px 1px rgba(0, 0, 0, 0.15);\n",
              "      filter: drop-shadow(0px 1px 2px rgba(0, 0, 0, 0.3));\n",
              "      fill: #FFFFFF;\n",
              "    }\n",
              "  </style>\n",
              "\n",
              "      <script>\n",
              "        const buttonEl =\n",
              "          document.querySelector('#df-74e3b0a0-d14b-4b4e-b442-be518374dde7 button.colab-df-convert');\n",
              "        buttonEl.style.display =\n",
              "          google.colab.kernel.accessAllowed ? 'block' : 'none';\n",
              "\n",
              "        async function convertToInteractive(key) {\n",
              "          const element = document.querySelector('#df-74e3b0a0-d14b-4b4e-b442-be518374dde7');\n",
              "          const dataTable =\n",
              "            await google.colab.kernel.invokeFunction('convertToInteractive',\n",
              "                                                     [key], {});\n",
              "          if (!dataTable) return;\n",
              "\n",
              "          const docLinkHtml = 'Like what you see? Visit the ' +\n",
              "            '<a target=\"_blank\" href=https://colab.research.google.com/notebooks/data_table.ipynb>data table notebook</a>'\n",
              "            + ' to learn more about interactive tables.';\n",
              "          element.innerHTML = '';\n",
              "          dataTable['output_type'] = 'display_data';\n",
              "          await google.colab.output.renderOutput(dataTable, element);\n",
              "          const docLink = document.createElement('div');\n",
              "          docLink.innerHTML = docLinkHtml;\n",
              "          element.appendChild(docLink);\n",
              "        }\n",
              "      </script>\n",
              "    </div>\n",
              "  </div>\n",
              "  "
            ],
            "text/plain": [
              "       Rating   Reviews Content Rating  Installs  Everyone  Teen  \\\n",
              "4010      2.0  1.380211       Everyone   3.00000         1     0   \n",
              "6892      4.2  5.392178           Teen   6.00000         0     1   \n",
              "10727     4.1  2.346353       Everyone   4.69897         1     0   \n",
              "1342      4.5  5.367809       Everyone   6.69897         1     0   \n",
              "10147     4.1  2.726727       Everyone   5.00000         1     0   \n",
              "\n",
              "       Everyone 10+  Mature 17+  Adults only 18+  Unrated  \n",
              "4010              0           0                0        0  \n",
              "6892              0           0                0        0  \n",
              "10727             0           0                0        0  \n",
              "1342              0           0                0        0  \n",
              "10147             0           0                0        0  "
            ]
          },
          "metadata": {},
          "execution_count": 28
        }
      ]
    },
    {
      "cell_type": "markdown",
      "source": [
        "<div dir=rtl>\n",
        "<h4>\n",
        "נחשב את הפרדיקציה ואת רווחי התחזית על סט המבחן ונמצא את אחוז הלייבלים שנפלו בתוך רווח הסמך:\n",
        "</h4>\n",
        "</div>"
      ],
      "metadata": {
        "id": "Ye8GBVBlZ-t3"
      }
    },
    {
      "cell_type": "code",
      "source": [
        "x_vals = test_set.drop(['Content Rating', 'Installs'], 1).to_numpy()\n",
        "y = test_set['Installs'].to_numpy()\n",
        "y_cova = reg.predict(x_vals)\n",
        "x_vals = np.array([np.insert(x, 1, 0) for x in x_vals])\n",
        "\n",
        "\n",
        "count = 0\n",
        "\n",
        "for i in range(len(y)):\n",
        "  if y_cova[i] - dist.norm.ppf(0.95, 0, 1)*eps_sigma*math.sqrt(1 - x_vals[i].T.dot(c).dot(x_vals[i])) <= y[i] <= \\\n",
        "          y_cova[i] + dist.norm.ppf(0.95, 0, 1)*eps_sigma*math.sqrt(1 - x_vals[i].T.dot(c).dot(x_vals[i])):\n",
        "    count += 1\n",
        "\n",
        "print('Percentage Of Hits', 100*count/len(y), '%')\n"
      ],
      "metadata": {
        "colab": {
          "base_uri": "https://localhost:8080/"
        },
        "id": "-iE5j8_IaYRJ",
        "outputId": "f6540f12-317c-4cab-e8ab-d43fbacaac90"
      },
      "execution_count": 29,
      "outputs": [
        {
          "output_type": "stream",
          "name": "stderr",
          "text": [
            "/usr/local/lib/python3.7/dist-packages/ipykernel_launcher.py:1: FutureWarning: In a future version of pandas all arguments of DataFrame.drop except for the argument 'labels' will be keyword-only\n",
            "  \"\"\"Entry point for launching an IPython kernel.\n"
          ]
        },
        {
          "output_type": "stream",
          "name": "stdout",
          "text": [
            "Percentage Of Hits 53.9 %\n"
          ]
        }
      ]
    },
    {
      "cell_type": "markdown",
      "source": [
        "<div dir=rtl>\n",
        "<h4>\n",
        "יצא כי אחוז רווחי הסמך המכילים את הערך האמיתי הוא נמוך מאוד (54 אחוז) וכלל לא קרוב ל - 95%. המסקנה שלו מכך היא שמודל שלנו לא מייצג את הנותונים בצורה טובה כלל.\n",
        "</h4>\n",
        "</div>"
      ],
      "metadata": {
        "id": "kGTQUV-IlwZu"
      }
    },
    {
      "cell_type": "markdown",
      "source": [
        "<div dir=rtl>\n",
        "<h4>\n",
        "10. נוסיף למודל איבר אינטרקציה מסדר ראשון:\n",
        "</h4>\n",
        "</div>"
      ],
      "metadata": {
        "id": "Ytejrul1gxL5"
      }
    },
    {
      "cell_type": "code",
      "source": [
        "ln_int = sub_set.copy()\n",
        "ln_int['x1dotx2'] = sub_set['Reviews'] * sub_set['Rating']\n",
        "ln_int.head()"
      ],
      "metadata": {
        "colab": {
          "base_uri": "https://localhost:8080/",
          "height": 206
        },
        "id": "w4BDSFSbhsn4",
        "outputId": "b0867089-8acf-4b71-e87f-66c1b061c514"
      },
      "execution_count": 30,
      "outputs": [
        {
          "output_type": "execute_result",
          "data": {
            "text/html": [
              "\n",
              "  <div id=\"df-a1eafef6-ab67-4834-89e4-6945f54c1ae9\">\n",
              "    <div class=\"colab-df-container\">\n",
              "      <div>\n",
              "<style scoped>\n",
              "    .dataframe tbody tr th:only-of-type {\n",
              "        vertical-align: middle;\n",
              "    }\n",
              "\n",
              "    .dataframe tbody tr th {\n",
              "        vertical-align: top;\n",
              "    }\n",
              "\n",
              "    .dataframe thead th {\n",
              "        text-align: right;\n",
              "    }\n",
              "</style>\n",
              "<table border=\"1\" class=\"dataframe\">\n",
              "  <thead>\n",
              "    <tr style=\"text-align: right;\">\n",
              "      <th></th>\n",
              "      <th>Rating</th>\n",
              "      <th>Reviews</th>\n",
              "      <th>Content Rating</th>\n",
              "      <th>Installs</th>\n",
              "      <th>Everyone</th>\n",
              "      <th>Teen</th>\n",
              "      <th>Everyone 10+</th>\n",
              "      <th>Mature 17+</th>\n",
              "      <th>Adults only 18+</th>\n",
              "      <th>Unrated</th>\n",
              "      <th>x1dotx2</th>\n",
              "    </tr>\n",
              "  </thead>\n",
              "  <tbody>\n",
              "    <tr>\n",
              "      <th>7499</th>\n",
              "      <td>4.1</td>\n",
              "      <td>1.785330</td>\n",
              "      <td>Everyone</td>\n",
              "      <td>3.00000</td>\n",
              "      <td>1</td>\n",
              "      <td>0</td>\n",
              "      <td>0</td>\n",
              "      <td>0</td>\n",
              "      <td>0</td>\n",
              "      <td>0</td>\n",
              "      <td>7.319852</td>\n",
              "    </tr>\n",
              "    <tr>\n",
              "      <th>3588</th>\n",
              "      <td>3.7</td>\n",
              "      <td>3.696880</td>\n",
              "      <td>Everyone</td>\n",
              "      <td>6.00000</td>\n",
              "      <td>1</td>\n",
              "      <td>0</td>\n",
              "      <td>0</td>\n",
              "      <td>0</td>\n",
              "      <td>0</td>\n",
              "      <td>0</td>\n",
              "      <td>13.678457</td>\n",
              "    </tr>\n",
              "    <tr>\n",
              "      <th>4030</th>\n",
              "      <td>4.2</td>\n",
              "      <td>1.301030</td>\n",
              "      <td>Everyone</td>\n",
              "      <td>3.69897</td>\n",
              "      <td>1</td>\n",
              "      <td>0</td>\n",
              "      <td>0</td>\n",
              "      <td>0</td>\n",
              "      <td>0</td>\n",
              "      <td>0</td>\n",
              "      <td>5.464326</td>\n",
              "    </tr>\n",
              "    <tr>\n",
              "      <th>4719</th>\n",
              "      <td>4.2</td>\n",
              "      <td>1.462398</td>\n",
              "      <td>Everyone</td>\n",
              "      <td>3.69897</td>\n",
              "      <td>1</td>\n",
              "      <td>0</td>\n",
              "      <td>0</td>\n",
              "      <td>0</td>\n",
              "      <td>0</td>\n",
              "      <td>0</td>\n",
              "      <td>6.142072</td>\n",
              "    </tr>\n",
              "    <tr>\n",
              "      <th>289</th>\n",
              "      <td>4.2</td>\n",
              "      <td>4.667500</td>\n",
              "      <td>Everyone</td>\n",
              "      <td>6.00000</td>\n",
              "      <td>1</td>\n",
              "      <td>0</td>\n",
              "      <td>0</td>\n",
              "      <td>0</td>\n",
              "      <td>0</td>\n",
              "      <td>0</td>\n",
              "      <td>19.603499</td>\n",
              "    </tr>\n",
              "  </tbody>\n",
              "</table>\n",
              "</div>\n",
              "      <button class=\"colab-df-convert\" onclick=\"convertToInteractive('df-a1eafef6-ab67-4834-89e4-6945f54c1ae9')\"\n",
              "              title=\"Convert this dataframe to an interactive table.\"\n",
              "              style=\"display:none;\">\n",
              "        \n",
              "  <svg xmlns=\"http://www.w3.org/2000/svg\" height=\"24px\"viewBox=\"0 0 24 24\"\n",
              "       width=\"24px\">\n",
              "    <path d=\"M0 0h24v24H0V0z\" fill=\"none\"/>\n",
              "    <path d=\"M18.56 5.44l.94 2.06.94-2.06 2.06-.94-2.06-.94-.94-2.06-.94 2.06-2.06.94zm-11 1L8.5 8.5l.94-2.06 2.06-.94-2.06-.94L8.5 2.5l-.94 2.06-2.06.94zm10 10l.94 2.06.94-2.06 2.06-.94-2.06-.94-.94-2.06-.94 2.06-2.06.94z\"/><path d=\"M17.41 7.96l-1.37-1.37c-.4-.4-.92-.59-1.43-.59-.52 0-1.04.2-1.43.59L10.3 9.45l-7.72 7.72c-.78.78-.78 2.05 0 2.83L4 21.41c.39.39.9.59 1.41.59.51 0 1.02-.2 1.41-.59l7.78-7.78 2.81-2.81c.8-.78.8-2.07 0-2.86zM5.41 20L4 18.59l7.72-7.72 1.47 1.35L5.41 20z\"/>\n",
              "  </svg>\n",
              "      </button>\n",
              "      \n",
              "  <style>\n",
              "    .colab-df-container {\n",
              "      display:flex;\n",
              "      flex-wrap:wrap;\n",
              "      gap: 12px;\n",
              "    }\n",
              "\n",
              "    .colab-df-convert {\n",
              "      background-color: #E8F0FE;\n",
              "      border: none;\n",
              "      border-radius: 50%;\n",
              "      cursor: pointer;\n",
              "      display: none;\n",
              "      fill: #1967D2;\n",
              "      height: 32px;\n",
              "      padding: 0 0 0 0;\n",
              "      width: 32px;\n",
              "    }\n",
              "\n",
              "    .colab-df-convert:hover {\n",
              "      background-color: #E2EBFA;\n",
              "      box-shadow: 0px 1px 2px rgba(60, 64, 67, 0.3), 0px 1px 3px 1px rgba(60, 64, 67, 0.15);\n",
              "      fill: #174EA6;\n",
              "    }\n",
              "\n",
              "    [theme=dark] .colab-df-convert {\n",
              "      background-color: #3B4455;\n",
              "      fill: #D2E3FC;\n",
              "    }\n",
              "\n",
              "    [theme=dark] .colab-df-convert:hover {\n",
              "      background-color: #434B5C;\n",
              "      box-shadow: 0px 1px 3px 1px rgba(0, 0, 0, 0.15);\n",
              "      filter: drop-shadow(0px 1px 2px rgba(0, 0, 0, 0.3));\n",
              "      fill: #FFFFFF;\n",
              "    }\n",
              "  </style>\n",
              "\n",
              "      <script>\n",
              "        const buttonEl =\n",
              "          document.querySelector('#df-a1eafef6-ab67-4834-89e4-6945f54c1ae9 button.colab-df-convert');\n",
              "        buttonEl.style.display =\n",
              "          google.colab.kernel.accessAllowed ? 'block' : 'none';\n",
              "\n",
              "        async function convertToInteractive(key) {\n",
              "          const element = document.querySelector('#df-a1eafef6-ab67-4834-89e4-6945f54c1ae9');\n",
              "          const dataTable =\n",
              "            await google.colab.kernel.invokeFunction('convertToInteractive',\n",
              "                                                     [key], {});\n",
              "          if (!dataTable) return;\n",
              "\n",
              "          const docLinkHtml = 'Like what you see? Visit the ' +\n",
              "            '<a target=\"_blank\" href=https://colab.research.google.com/notebooks/data_table.ipynb>data table notebook</a>'\n",
              "            + ' to learn more about interactive tables.';\n",
              "          element.innerHTML = '';\n",
              "          dataTable['output_type'] = 'display_data';\n",
              "          await google.colab.output.renderOutput(dataTable, element);\n",
              "          const docLink = document.createElement('div');\n",
              "          docLink.innerHTML = docLinkHtml;\n",
              "          element.appendChild(docLink);\n",
              "        }\n",
              "      </script>\n",
              "    </div>\n",
              "  </div>\n",
              "  "
            ],
            "text/plain": [
              "      Rating   Reviews Content Rating  Installs  Everyone  Teen  Everyone 10+  \\\n",
              "7499     4.1  1.785330       Everyone   3.00000         1     0             0   \n",
              "3588     3.7  3.696880       Everyone   6.00000         1     0             0   \n",
              "4030     4.2  1.301030       Everyone   3.69897         1     0             0   \n",
              "4719     4.2  1.462398       Everyone   3.69897         1     0             0   \n",
              "289      4.2  4.667500       Everyone   6.00000         1     0             0   \n",
              "\n",
              "      Mature 17+  Adults only 18+  Unrated    x1dotx2  \n",
              "7499           0                0        0   7.319852  \n",
              "3588           0                0        0  13.678457  \n",
              "4030           0                0        0   5.464326  \n",
              "4719           0                0        0   6.142072  \n",
              "289            0                0        0  19.603499  "
            ]
          },
          "metadata": {},
          "execution_count": 30
        }
      ]
    },
    {
      "cell_type": "markdown",
      "source": [
        "<div dir=rtl>\n",
        "<h4>\n",
        "נבצע רגרסיה לינארית:\n",
        "</h4>\n",
        "</div>"
      ],
      "metadata": {
        "id": "KDJWcQVfjPYo"
      }
    },
    {
      "cell_type": "code",
      "source": [
        "x_vals_int = ln_int.drop(['Content Rating', 'Installs'], 1).to_numpy()\n",
        "\n",
        "reg_int = linear_model.LinearRegression()\n",
        "reg_int.fit(x_vals_int, ln_int['Installs'].to_numpy())\n",
        "beta_cova_int = reg_int.intercept_ + reg_int.coef_\n",
        "\n",
        "con_rat_vals = ln_reg_df['Content Rating'].unique()\n",
        "print(tabulate([['Effect'] + list(beta_cova)], headers=[' ', 'Bias', 'Rating', 'Reviews'] + list(con_rat_vals)))"
      ],
      "metadata": {
        "colab": {
          "base_uri": "https://localhost:8080/"
        },
        "id": "e55ThWcOjZQM",
        "outputId": "865b4293-bdd5-41af-a966-f4ed5527a971"
      },
      "execution_count": 31,
      "outputs": [
        {
          "output_type": "stream",
          "name": "stdout",
          "text": [
            "           Bias    Rating    Reviews    Everyone     Teen    Everyone 10+    Mature 17+    Adults only 18+\n",
            "------  -------  --------  ---------  ----------  -------  --------------  ------------  -----------------\n",
            "Effect  2.47141   3.64796    2.84548     2.84237  2.41025         2.67144       2.69238            2.69238\n"
          ]
        },
        {
          "output_type": "stream",
          "name": "stderr",
          "text": [
            "/usr/local/lib/python3.7/dist-packages/ipykernel_launcher.py:1: FutureWarning: In a future version of pandas all arguments of DataFrame.drop except for the argument 'labels' will be keyword-only\n",
            "  \"\"\"Entry point for launching an IPython kernel.\n"
          ]
        }
      ]
    },
    {
      "cell_type": "markdown",
      "source": [
        "<div dir=rtl>\n",
        "<h4>\n",
        "על מנת להשוואת בין המודלים נחשב ציונים למודל:\n",
        "</h4>\n",
        "</div>"
      ],
      "metadata": {
        "id": "TktSKyQOj9eY"
      }
    },
    {
      "cell_type": "code",
      "source": [
        "def AIC(ll,s_size):\n",
        "  return ll - s_size\n",
        "def BIC(ll,s_size,n):\n",
        "  return ll - (s_size*np.log(n))/2"
      ],
      "metadata": {
        "id": "N7zah4acW2Gq"
      },
      "execution_count": 32,
      "outputs": []
    },
    {
      "cell_type": "code",
      "source": [
        "x_vals = sub_set.drop(['Content Rating', 'Installs'], 1).to_numpy()\n",
        "\n",
        "y1 = sub_set['Installs']\n",
        "y1_cova = reg.predict(x_vals)\n",
        "n = len(y1)\n",
        "erorr = y1 - y1_cova\n",
        "sigma = np.std(erorr)\n",
        "f1 = np.log(((0.5*math.pi*(sigma**2))**(n/2))*np.exp(-1*(np.dot(erorr.T, erorr)))/2*(sigma**2))\n",
        "\n",
        "y2 = ln_int['Installs']\n",
        "y2_cova = reg_int.predict(x_vals_int)\n",
        "erorr = y1 - y1_cova\n",
        "sigma = np.std(erorr)\n",
        "f2 = np.log(((0.5*math.pi*(sigma**2))**(n/2))*np.exp(-1*(np.dot(erorr.T, erorr)))/2*(sigma**2))\n",
        "\n",
        "print('AIC For The First Model: ', f1 - len(beta_cova))\n",
        "print('AIC For The Second Model: ', f2 - len(beta_cova_int))\n",
        "\n",
        "print('BIC For The First Model: ', f1 - (len(beta_cova)*np.log(n))/2)\n",
        "print('BIC For The Second Model: ', f2 - (len(beta_cova_int)*np.log(n))/2)"
      ],
      "metadata": {
        "colab": {
          "base_uri": "https://localhost:8080/"
        },
        "id": "BzACDMWUkRkz",
        "outputId": "bed1e61c-de82-4e69-9c26-cac9df1d4d0e"
      },
      "execution_count": 33,
      "outputs": [
        {
          "output_type": "stream",
          "name": "stdout",
          "text": [
            "AIC For The First Model:  -169.89146388773827\n",
            "AIC For The Second Model:  -170.89146388773827\n",
            "BIC For The First Model:  -183.0847333539304\n",
            "BIC For The Second Model:  -185.73389203720444\n"
          ]
        },
        {
          "output_type": "stream",
          "name": "stderr",
          "text": [
            "/usr/local/lib/python3.7/dist-packages/ipykernel_launcher.py:1: FutureWarning: In a future version of pandas all arguments of DataFrame.drop except for the argument 'labels' will be keyword-only\n",
            "  \"\"\"Entry point for launching an IPython kernel.\n"
          ]
        }
      ]
    },
    {
      "cell_type": "markdown",
      "source": [
        "<div dir=rtl>\n",
        "<h4>\n",
        "קיבלנו כי גם לפי מדד ה - AIC וגם לפי מדד ה - BIC לא ניתן לקבוע מי הוא המודל הטוב יותר וזאת מכיוון שהערכים יצאו מאוד קרובים.\n",
        "</h4>\n",
        "</div>\n"
      ],
      "metadata": {
        "id": "2aBhrT-ytP3C"
      }
    },
    {
      "cell_type": "markdown",
      "source": [
        "<div dir=rtl><h1>\n",
        "רגרסיה לוגסטית\n",
        "</h1>\n",
        "<h3>\n",
        "1. שאלת החקר היינה האם כמות ההורדות,תגובות ,דירוג האפקלציה והאם האפלקציה חינמית משפיעים על האם האפלקציה עודכנה לאחרונה\n",
        "<br>\n",
        "בדומה לחלק הראשון נבצע טרנספומציות על סט הנתונים. כאן בנוסף, נמיר את עמודת הגודל לfloat ונמיר ממגה בייט לקילו בייט ונוריד את הרשומות בהן הגודל אינו קבוע. \n",
        "</div>\n"
      ],
      "metadata": {
        "id": "bOjyqki2VUJY"
      }
    },
    {
      "cell_type": "code",
      "source": [
        "df = pd.read_csv(\"/content/googleplaystore.csv\")\n",
        "df = df.drop(df[(df.Type !='Paid') & (df.Type !='Free')].index)\n",
        "df = df.dropna()\n",
        "isFree_Data = df.Type.apply(lambda x: True if x=='Free' else False)\n",
        "df.insert(7,'IsFree',isFree_Data)\n",
        "df = df.drop('Type', 1)\n",
        "df['Last Updated'] = df['Last Updated'].str.replace(',', '')\n",
        "Last_Updated=pd.to_datetime(df['Last Updated'], format='%B %d %Y')\n",
        "df = df.drop('Last Updated',axis=1)\n",
        "df.insert(9,'Last Updated',Last_Updated)\n",
        "recntly = df['Last Updated'].map(lambda x: True if x > datetime.date(2018,6,1) else False)\n",
        "df.insert(9,'Recntly Updated',recntly)\n",
        "df['Installs'] = df['Installs'].map(lambda s: int(s[:-1].replace(',', '')))\n",
        "df = df[df['Size'] !='Varies with device']\n",
        "df['Size'] = df['Size'].map(lambda x: float(x.split('k')[0]) if 'k' in x else float(x.split('M')[0])*1024 )\n"
      ],
      "metadata": {
        "id": "Dtcp2aEv1Wn2",
        "colab": {
          "base_uri": "https://localhost:8080/"
        },
        "outputId": "a9572327-6d6b-44bc-83d7-0d7a48bd380d"
      },
      "execution_count": 34,
      "outputs": [
        {
          "output_type": "stream",
          "name": "stderr",
          "text": [
            "/usr/local/lib/python3.7/dist-packages/ipykernel_launcher.py:6: FutureWarning: In a future version of pandas all arguments of DataFrame.drop except for the argument 'labels' will be keyword-only\n",
            "  \n",
            "/usr/local/lib/python3.7/dist-packages/ipykernel_launcher.py:11: FutureWarning: Comparison of Timestamp with datetime.date is deprecated in order to match the standard library behavior.  In a future version these will be considered non-comparable.Use 'ts == pd.Timestamp(date)' or 'ts.date() == date' instead.\n",
            "  # This is added back by InteractiveShellApp.init_path()\n",
            "/usr/local/lib/python3.7/dist-packages/ipykernel_launcher.py:15: SettingWithCopyWarning: \n",
            "A value is trying to be set on a copy of a slice from a DataFrame.\n",
            "Try using .loc[row_indexer,col_indexer] = value instead\n",
            "\n",
            "See the caveats in the documentation: https://pandas.pydata.org/pandas-docs/stable/user_guide/indexing.html#returning-a-view-versus-a-copy\n",
            "  from ipykernel import kernelapp as app\n"
          ]
        }
      ]
    },
    {
      "cell_type": "markdown",
      "source": [
        "<div dir=rtl>\n",
        "בשל סיבות שהודגמו בחלק הראשון נבצע לוג10 על הורדות ותגובות, ובנוסף נהפוך את עודכן לאחרונה והאם האפלקציה חינמית לערכים בינארים."
      ],
      "metadata": {
        "id": "Qe9-UmE53VGP"
      }
    },
    {
      "cell_type": "code",
      "source": [
        "ln_reg_df = df\n",
        "ln_reg_df['Installs'] = ln_reg_df['Installs'].map(lambda x: np.log10(int(x)))\n",
        "ln_reg_df['Reviews'] = ln_reg_df['Reviews'].map(lambda x: np.log10(int(x)))\n",
        "ln_reg_df['Recntly Updated'] = ln_reg_df['Recntly Updated'].map(lambda x: 1 if x else 0) \n",
        "ln_reg_df['IsFree'] = ln_reg_df['IsFree'].map(lambda x: 1 if x else 0) "
      ],
      "metadata": {
        "id": "8egPGc9KVYwY",
        "colab": {
          "base_uri": "https://localhost:8080/"
        },
        "outputId": "df16f497-75f7-460e-a189-aa2760079ab2"
      },
      "execution_count": 35,
      "outputs": [
        {
          "output_type": "stream",
          "name": "stderr",
          "text": [
            "/usr/local/lib/python3.7/dist-packages/ipykernel_launcher.py:2: SettingWithCopyWarning: \n",
            "A value is trying to be set on a copy of a slice from a DataFrame.\n",
            "Try using .loc[row_indexer,col_indexer] = value instead\n",
            "\n",
            "See the caveats in the documentation: https://pandas.pydata.org/pandas-docs/stable/user_guide/indexing.html#returning-a-view-versus-a-copy\n",
            "  \n"
          ]
        }
      ]
    },
    {
      "cell_type": "markdown",
      "source": [
        "<div dir=rtl><h3>\n",
        "2. כעת נבחר מדגם בגודל 200 להמשך העבודה:"
      ],
      "metadata": {
        "id": "sownNNnSutkH"
      }
    },
    {
      "cell_type": "code",
      "source": [
        "sample = ln_reg_df.sample(n=200,random_state=7).reset_index(drop = True)\n",
        "sample.head()"
      ],
      "metadata": {
        "colab": {
          "base_uri": "https://localhost:8080/",
          "height": 372
        },
        "id": "PXcgna_rVay0",
        "outputId": "419b50cc-08ba-42e3-ed19-9284fc40580b"
      },
      "execution_count": 36,
      "outputs": [
        {
          "output_type": "execute_result",
          "data": {
            "text/html": [
              "\n",
              "  <div id=\"df-1c1e7942-eb2d-4598-a390-ed3bb17233f0\">\n",
              "    <div class=\"colab-df-container\">\n",
              "      <div>\n",
              "<style scoped>\n",
              "    .dataframe tbody tr th:only-of-type {\n",
              "        vertical-align: middle;\n",
              "    }\n",
              "\n",
              "    .dataframe tbody tr th {\n",
              "        vertical-align: top;\n",
              "    }\n",
              "\n",
              "    .dataframe thead th {\n",
              "        text-align: right;\n",
              "    }\n",
              "</style>\n",
              "<table border=\"1\" class=\"dataframe\">\n",
              "  <thead>\n",
              "    <tr style=\"text-align: right;\">\n",
              "      <th></th>\n",
              "      <th>App</th>\n",
              "      <th>Category</th>\n",
              "      <th>Rating</th>\n",
              "      <th>Reviews</th>\n",
              "      <th>Size</th>\n",
              "      <th>Installs</th>\n",
              "      <th>IsFree</th>\n",
              "      <th>Price</th>\n",
              "      <th>Content Rating</th>\n",
              "      <th>Recntly Updated</th>\n",
              "      <th>Last Updated</th>\n",
              "      <th>Genres</th>\n",
              "      <th>Current Ver</th>\n",
              "      <th>Android Ver</th>\n",
              "    </tr>\n",
              "  </thead>\n",
              "  <tbody>\n",
              "    <tr>\n",
              "      <th>0</th>\n",
              "      <td>learn c in hindi</td>\n",
              "      <td>FAMILY</td>\n",
              "      <td>4.3</td>\n",
              "      <td>2.037426</td>\n",
              "      <td>2764.8</td>\n",
              "      <td>3.69897</td>\n",
              "      <td>1</td>\n",
              "      <td>0</td>\n",
              "      <td>Everyone</td>\n",
              "      <td>0</td>\n",
              "      <td>2017-06-24</td>\n",
              "      <td>Education</td>\n",
              "      <td>4.1</td>\n",
              "      <td>4.0 and up</td>\n",
              "    </tr>\n",
              "    <tr>\n",
              "      <th>1</th>\n",
              "      <td>Dr. Truck Driver : Real Truck Simulator 3D</td>\n",
              "      <td>FAMILY</td>\n",
              "      <td>4.1</td>\n",
              "      <td>3.211121</td>\n",
              "      <td>98304.0</td>\n",
              "      <td>5.00000</td>\n",
              "      <td>1</td>\n",
              "      <td>0</td>\n",
              "      <td>Everyone 10+</td>\n",
              "      <td>1</td>\n",
              "      <td>2018-07-05</td>\n",
              "      <td>Simulation</td>\n",
              "      <td>1.8</td>\n",
              "      <td>4.1 and up</td>\n",
              "    </tr>\n",
              "    <tr>\n",
              "      <th>2</th>\n",
              "      <td>U-Craft Mobile</td>\n",
              "      <td>FAMILY</td>\n",
              "      <td>4.2</td>\n",
              "      <td>4.057057</td>\n",
              "      <td>30720.0</td>\n",
              "      <td>5.00000</td>\n",
              "      <td>1</td>\n",
              "      <td>0</td>\n",
              "      <td>Everyone</td>\n",
              "      <td>0</td>\n",
              "      <td>2017-09-11</td>\n",
              "      <td>Strategy</td>\n",
              "      <td>1.0.14</td>\n",
              "      <td>4.0.3 and up</td>\n",
              "    </tr>\n",
              "    <tr>\n",
              "      <th>3</th>\n",
              "      <td>Resume Builder - Curriculum Vitae &amp; Resume Maker</td>\n",
              "      <td>BUSINESS</td>\n",
              "      <td>4.0</td>\n",
              "      <td>1.079181</td>\n",
              "      <td>8294.4</td>\n",
              "      <td>3.69897</td>\n",
              "      <td>1</td>\n",
              "      <td>0</td>\n",
              "      <td>Everyone</td>\n",
              "      <td>1</td>\n",
              "      <td>2018-06-07</td>\n",
              "      <td>Business</td>\n",
              "      <td>1.9</td>\n",
              "      <td>4.0.3 and up</td>\n",
              "    </tr>\n",
              "    <tr>\n",
              "      <th>4</th>\n",
              "      <td>Rider</td>\n",
              "      <td>GAME</td>\n",
              "      <td>4.5</td>\n",
              "      <td>5.816286</td>\n",
              "      <td>73728.0</td>\n",
              "      <td>7.00000</td>\n",
              "      <td>1</td>\n",
              "      <td>0</td>\n",
              "      <td>Teen</td>\n",
              "      <td>0</td>\n",
              "      <td>2017-07-17</td>\n",
              "      <td>Arcade</td>\n",
              "      <td>1.2.1</td>\n",
              "      <td>4.0.3 and up</td>\n",
              "    </tr>\n",
              "  </tbody>\n",
              "</table>\n",
              "</div>\n",
              "      <button class=\"colab-df-convert\" onclick=\"convertToInteractive('df-1c1e7942-eb2d-4598-a390-ed3bb17233f0')\"\n",
              "              title=\"Convert this dataframe to an interactive table.\"\n",
              "              style=\"display:none;\">\n",
              "        \n",
              "  <svg xmlns=\"http://www.w3.org/2000/svg\" height=\"24px\"viewBox=\"0 0 24 24\"\n",
              "       width=\"24px\">\n",
              "    <path d=\"M0 0h24v24H0V0z\" fill=\"none\"/>\n",
              "    <path d=\"M18.56 5.44l.94 2.06.94-2.06 2.06-.94-2.06-.94-.94-2.06-.94 2.06-2.06.94zm-11 1L8.5 8.5l.94-2.06 2.06-.94-2.06-.94L8.5 2.5l-.94 2.06-2.06.94zm10 10l.94 2.06.94-2.06 2.06-.94-2.06-.94-.94-2.06-.94 2.06-2.06.94z\"/><path d=\"M17.41 7.96l-1.37-1.37c-.4-.4-.92-.59-1.43-.59-.52 0-1.04.2-1.43.59L10.3 9.45l-7.72 7.72c-.78.78-.78 2.05 0 2.83L4 21.41c.39.39.9.59 1.41.59.51 0 1.02-.2 1.41-.59l7.78-7.78 2.81-2.81c.8-.78.8-2.07 0-2.86zM5.41 20L4 18.59l7.72-7.72 1.47 1.35L5.41 20z\"/>\n",
              "  </svg>\n",
              "      </button>\n",
              "      \n",
              "  <style>\n",
              "    .colab-df-container {\n",
              "      display:flex;\n",
              "      flex-wrap:wrap;\n",
              "      gap: 12px;\n",
              "    }\n",
              "\n",
              "    .colab-df-convert {\n",
              "      background-color: #E8F0FE;\n",
              "      border: none;\n",
              "      border-radius: 50%;\n",
              "      cursor: pointer;\n",
              "      display: none;\n",
              "      fill: #1967D2;\n",
              "      height: 32px;\n",
              "      padding: 0 0 0 0;\n",
              "      width: 32px;\n",
              "    }\n",
              "\n",
              "    .colab-df-convert:hover {\n",
              "      background-color: #E2EBFA;\n",
              "      box-shadow: 0px 1px 2px rgba(60, 64, 67, 0.3), 0px 1px 3px 1px rgba(60, 64, 67, 0.15);\n",
              "      fill: #174EA6;\n",
              "    }\n",
              "\n",
              "    [theme=dark] .colab-df-convert {\n",
              "      background-color: #3B4455;\n",
              "      fill: #D2E3FC;\n",
              "    }\n",
              "\n",
              "    [theme=dark] .colab-df-convert:hover {\n",
              "      background-color: #434B5C;\n",
              "      box-shadow: 0px 1px 3px 1px rgba(0, 0, 0, 0.15);\n",
              "      filter: drop-shadow(0px 1px 2px rgba(0, 0, 0, 0.3));\n",
              "      fill: #FFFFFF;\n",
              "    }\n",
              "  </style>\n",
              "\n",
              "      <script>\n",
              "        const buttonEl =\n",
              "          document.querySelector('#df-1c1e7942-eb2d-4598-a390-ed3bb17233f0 button.colab-df-convert');\n",
              "        buttonEl.style.display =\n",
              "          google.colab.kernel.accessAllowed ? 'block' : 'none';\n",
              "\n",
              "        async function convertToInteractive(key) {\n",
              "          const element = document.querySelector('#df-1c1e7942-eb2d-4598-a390-ed3bb17233f0');\n",
              "          const dataTable =\n",
              "            await google.colab.kernel.invokeFunction('convertToInteractive',\n",
              "                                                     [key], {});\n",
              "          if (!dataTable) return;\n",
              "\n",
              "          const docLinkHtml = 'Like what you see? Visit the ' +\n",
              "            '<a target=\"_blank\" href=https://colab.research.google.com/notebooks/data_table.ipynb>data table notebook</a>'\n",
              "            + ' to learn more about interactive tables.';\n",
              "          element.innerHTML = '';\n",
              "          dataTable['output_type'] = 'display_data';\n",
              "          await google.colab.output.renderOutput(dataTable, element);\n",
              "          const docLink = document.createElement('div');\n",
              "          docLink.innerHTML = docLinkHtml;\n",
              "          element.appendChild(docLink);\n",
              "        }\n",
              "      </script>\n",
              "    </div>\n",
              "  </div>\n",
              "  "
            ],
            "text/plain": [
              "                                                App  Category  Rating  \\\n",
              "0                                  learn c in hindi    FAMILY     4.3   \n",
              "1        Dr. Truck Driver : Real Truck Simulator 3D    FAMILY     4.1   \n",
              "2                                    U-Craft Mobile    FAMILY     4.2   \n",
              "3  Resume Builder - Curriculum Vitae & Resume Maker  BUSINESS     4.0   \n",
              "4                                             Rider      GAME     4.5   \n",
              "\n",
              "    Reviews     Size  Installs  IsFree Price Content Rating  Recntly Updated  \\\n",
              "0  2.037426   2764.8   3.69897       1     0       Everyone                0   \n",
              "1  3.211121  98304.0   5.00000       1     0   Everyone 10+                1   \n",
              "2  4.057057  30720.0   5.00000       1     0       Everyone                0   \n",
              "3  1.079181   8294.4   3.69897       1     0       Everyone                1   \n",
              "4  5.816286  73728.0   7.00000       1     0           Teen                0   \n",
              "\n",
              "  Last Updated      Genres Current Ver   Android Ver  \n",
              "0   2017-06-24   Education         4.1    4.0 and up  \n",
              "1   2018-07-05  Simulation         1.8    4.1 and up  \n",
              "2   2017-09-11    Strategy      1.0.14  4.0.3 and up  \n",
              "3   2018-06-07    Business         1.9  4.0.3 and up  \n",
              "4   2017-07-17      Arcade       1.2.1  4.0.3 and up  "
            ]
          },
          "metadata": {},
          "execution_count": 36
        }
      ]
    },
    {
      "cell_type": "markdown",
      "source": [
        "<div dir=rtl><h3>\n",
        "3.א. ננתח את Recntly Updated וIsFree שכן אלו המשתנים בהם לא השתמשנו בחלק הראשון."
      ],
      "metadata": {
        "id": "7zqWUJdY3-oI"
      }
    },
    {
      "cell_type": "code",
      "source": [
        "last_Updated = len(sample[sample['Recntly Updated']== True])\n",
        "not_last_updated = len(sample[sample['Recntly Updated']== False])\n",
        "per_Updated = str(100*last_Updated/(not_last_updated+last_Updated))+'%'\n",
        "per_not_Updated = str(100*not_last_updated/(not_last_updated+last_Updated))+'%'\n",
        "\n",
        "column_names = [' ', 'Recntly Updated',\"Didn't Recntly Updated\"]\n",
        "print(tabulate([['Total'] + [last_Updated,not_last_updated],['Percentge'] + [per_Updated,per_not_Updated]],headers=column_names))"
      ],
      "metadata": {
        "colab": {
          "base_uri": "https://localhost:8080/"
        },
        "id": "U-8pCpn_ViNq",
        "outputId": "d0155518-2618-44a1-d0e4-a52792473eb0"
      },
      "execution_count": 37,
      "outputs": [
        {
          "output_type": "stream",
          "name": "stdout",
          "text": [
            "           Recntly Updated    Didn't Recntly Updated\n",
            "---------  -----------------  ------------------------\n",
            "Total      85                 115\n",
            "Percentge  42.5%              57.5%\n"
          ]
        }
      ]
    },
    {
      "cell_type": "markdown",
      "source": [
        "<div dir=rtl><h3>\n",
        "נשים לב כי ההתפלגויות של האפקלציות שעודכנו לאחרונה ואלו  ושלא קרובות אחת לשנייה "
      ],
      "metadata": {
        "id": "GhlVEe0K4c8H"
      }
    },
    {
      "cell_type": "code",
      "source": [
        "IsFree = len(sample[sample['IsFree']== True])\n",
        "Is_not_Free = len(sample[sample['IsFree']== False])\n",
        "per_Free = str(100*IsFree/(Is_not_Free+IsFree))+'%'\n",
        "per_not_Free = str(100*Is_not_Free/(Is_not_Free+IsFree))+'%'\n",
        "\n",
        "column_names = [' ', 'IsFree',\"Isn't Free\"]\n",
        "print(tabulate([['Total'] + [IsFree,Is_not_Free],['Percentge'] + [per_Free,per_not_Free]],headers=column_names))"
      ],
      "metadata": {
        "colab": {
          "base_uri": "https://localhost:8080/"
        },
        "id": "ha2GIewx7P76",
        "outputId": "f0004bfb-5f84-429e-fba1-033488a0cf5a"
      },
      "execution_count": 38,
      "outputs": [
        {
          "output_type": "stream",
          "name": "stdout",
          "text": [
            "           IsFree    Isn't Free\n",
            "---------  --------  ------------\n",
            "Total      186       14\n",
            "Percentge  93.0%     7.0%\n"
          ]
        }
      ]
    },
    {
      "cell_type": "markdown",
      "source": [
        "<div dir=rtl><h3>\n",
        "נשים לב כי ההתפלגות של האפלקציות החינמיות גבוה משמעותית מההתפגלות של האפקלציות הלא חינמיות"
      ],
      "metadata": {
        "id": "EGyX0cjO76nf"
      }
    },
    {
      "cell_type": "code",
      "source": [
        "sample_expalining= sample[['Rating','Reviews','Installs','IsFree']]\n",
        "df_recntly = ln_reg_df[ln_reg_df['Recntly Updated'] == 1]\n",
        "df_no_recntly = ln_reg_df[ln_reg_df['Recntly Updated'] == 0]"
      ],
      "metadata": {
        "id": "ecsqThzVVo90"
      },
      "execution_count": 39,
      "outputs": []
    },
    {
      "cell_type": "markdown",
      "source": [
        "<div dir=rtl><h3>\n",
        "4. "
      ],
      "metadata": {
        "id": "vyUI66638oTF"
      }
    },
    {
      "cell_type": "code",
      "source": [
        "def comapre_recntly_and_not(column):\n",
        "  \n",
        "  plt.xlabel(column)\n",
        "  plt.ylabel('Count')\n",
        "  sns.violinplot(x='Recntly Updated',y=column,data = ln_reg_df)\n",
        "  plt.show()"
      ],
      "metadata": {
        "id": "nyDsZfYQVrSM"
      },
      "execution_count": 40,
      "outputs": []
    },
    {
      "cell_type": "code",
      "source": [
        "comapre_recntly_and_not('Installs')"
      ],
      "metadata": {
        "colab": {
          "base_uri": "https://localhost:8080/",
          "height": 517
        },
        "id": "6BqHhZcPVtu_",
        "outputId": "22e779e8-b16a-4824-c3d3-50139bca3b28"
      },
      "execution_count": 41,
      "outputs": [
        {
          "output_type": "display_data",
          "data": {
            "image/png": "[encoded data removed]",
            "text/plain": [
              "<Figure size 842.4x595.44 with 1 Axes>"
            ]
          },
          "metadata": {}
        }
      ]
    },
    {
      "cell_type": "markdown",
      "source": [
        "<div dir=rtl><h3>\n",
        "ניתן לראות כי עבור אפלקציות שעודכנו לאחרונה יש יותר אפלקציות בעלות מספר גבוה של הורדות בהשוואה לאלו שלא עודכנו לאחרונה."
      ],
      "metadata": {
        "id": "ZDK0bKC--W0J"
      }
    },
    {
      "cell_type": "code",
      "source": [
        "comapre_recntly_and_not('Reviews')"
      ],
      "metadata": {
        "colab": {
          "base_uri": "https://localhost:8080/",
          "height": 517
        },
        "id": "HuO20JarVwMK",
        "outputId": "74d78cfb-0903-4233-be99-46c269559639"
      },
      "execution_count": 42,
      "outputs": [
        {
          "output_type": "display_data",
          "data": {
            "image/png": "[encoded data removed]",
            "text/plain": [
              "<Figure size 842.4x595.44 with 1 Axes>"
            ]
          },
          "metadata": {}
        }
      ]
    },
    {
      "cell_type": "markdown",
      "source": [
        "<div dir=rtl><h3>\n",
        "ניתן לראות כי באופן דומה לאפלקציות שעודכנו לאחרונה יש מספר גדול יותר של אפלקציות בעלות כמות גדולה של תגובות. נשים לב כי תוצאה זו עיקבית עם התוצאה שקיבלנו בחלק הראשון שבו ראינו שיש קשר לינארי ישר בין מספר ההורדות למספר הביקורות. "
      ],
      "metadata": {
        "id": "kW18CmJu-287"
      }
    },
    {
      "cell_type": "code",
      "source": [
        "comapre_recntly_and_not('Rating')"
      ],
      "metadata": {
        "colab": {
          "base_uri": "https://localhost:8080/",
          "height": 517
        },
        "id": "YGFip8iDVyWZ",
        "outputId": "dbe2ef0e-7c9c-4cd6-cea5-ef55b12235af"
      },
      "execution_count": 43,
      "outputs": [
        {
          "output_type": "display_data",
          "data": {
            "image/png": "[encoded data removed]",
            "text/plain": [
              "<Figure size 842.4x595.44 with 1 Axes>"
            ]
          },
          "metadata": {}
        }
      ]
    },
    {
      "cell_type": "markdown",
      "source": [
        "<div dir=rtl><h3>\n",
        "נראה כי עבור אפלקציות שעודכנו לאחרונה יש נטייה לאפלקציות להיות עם דירוג גבוה יותר, אך התצאה אינה חד משמעית כתוצאה מגרף הוויולין."
      ],
      "metadata": {
        "id": "7lqtbF2Q_tkU"
      }
    },
    {
      "cell_type": "markdown",
      "source": [
        "<div dir=rtl><h3>\n",
        "בסהכ, מהגרפים שהצגנו ניתן להסיק כי להורדות ולתגובות יש השפעה דומה והיא הגבוהה ביותר.<br>\n",
        "כעת נבצע רגרסיה לוגסטית ונעריך את b^:"
      ],
      "metadata": {
        "id": "-TnLA-AAABHH"
      }
    },
    {
      "cell_type": "code",
      "source": [
        "model_sample = LogisticRegression(solver='liblinear').fit(sample_expalining, sample['Recntly Updated'])"
      ],
      "metadata": {
        "id": "XCkZRGjmV09o"
      },
      "execution_count": 44,
      "outputs": []
    },
    {
      "cell_type": "code",
      "source": [
        "beta_estimation_sample = model_sample.coef_\n",
        "print(beta_estimation_sample[0])"
      ],
      "metadata": {
        "id": "9pyF69dGV3f0",
        "colab": {
          "base_uri": "https://localhost:8080/"
        },
        "outputId": "7c55b263-b6ec-4831-ffcd-e62166d3f483"
      },
      "execution_count": 45,
      "outputs": [
        {
          "output_type": "stream",
          "name": "stdout",
          "text": [
            "[ 0.04167591  0.80349835 -0.49129332  0.45327263]\n"
          ]
        }
      ]
    },
    {
      "cell_type": "markdown",
      "source": [
        "<div dir=rtl>\n",
        "<h3>\n",
        "נגדיר את β^ = (β1,..,β4) וX =(x1,..x4). נסתכל על שינוי ביחידה באחד מהמשתנים בווקטור X (משתנה 1 לדוגמא) ונסמן X_1 = (x1+1,x2,x3,x4).המודל מוגדר על ידי π(β * X)  ונגדיר את השינוי  ביחידה באחד המשתנים כπi(β* X_i)\n",
        "<br>\n",
        "כעת נסתכל על יחס הלוגים:\n",
        "<br>\n",
        "log((π1/1-π1)/(π/1-π)) = log(π1/1-π1) - log(π/1-π) = β*X+β1 - β*X = β1\n",
        "ולכן יהיה שינוי e^β1 = e^0.0416=1.042\n",
        "\n",
        "נשים לב כי עבור כל i מתקיים שהשינוי הוא e^βi ולכן סהכ עבור הבאים:\n",
        "\n",
        "השינוי עבור x2 הוא e^β2 = e^0.803= 2.23\n",
        "\n",
        "השינוי עבור x3 הוא e^β3 = e^-0.491= 0.612\n",
        "\n",
        "השינוי עבור x4 הוא e^β4 = e^0.453= 1.57\n",
        "\n",
        "<h3>\n",
        "\n",
        "\n",
        "</div>\n"
      ],
      "metadata": {
        "id": "Zn1Vfdd8V65k"
      }
    },
    {
      "cell_type": "code",
      "source": [
        "def pi(beta_est,i):\n",
        "  e = np.exp(np.dot(beta_est,sample_expalining.loc[i]))\n",
        "  return e[0]/(1+e[0])\n",
        "def sigmoid(z):\n",
        "    predict_proba = 1 / (1 + np.exp(-z))\n",
        "    return predict_proba"
      ],
      "metadata": {
        "id": "vsZA_PcTV_XY"
      },
      "execution_count": 46,
      "outputs": []
    },
    {
      "cell_type": "markdown",
      "source": [
        "<div dir=rtl>\n",
        "<h3>\n",
        "5. על מנת למצוא את רווחי הסמך עלינו לחשב את השונות של האומד ועל כן נחשבה על ידי   VAR(β^) = (XtVX)^-1 כאשר:\n",
        "\n"
      ],
      "metadata": {
        "id": "StPG5LfsaAIF"
      }
    },
    {
      "cell_type": "markdown",
      "source": [
        "![צילום מסך 2021-12-27 170508.png](data:image/png;base64,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)"
      ],
      "metadata": {
        "id": "EPJgWlTKbw9X"
      }
    },
    {
      "cell_type": "code",
      "source": [
        "val = [pi(beta_estimation_sample,i)*(1-pi(beta_estimation_sample,i)) for i in range(200)]\n",
        "V = np.diag(val)"
      ],
      "metadata": {
        "id": "E89bD64lWBeN"
      },
      "execution_count": 47,
      "outputs": []
    },
    {
      "cell_type": "code",
      "source": [
        "corr_beta = fractional_matrix_power(np.dot(np.dot(np.transpose(sample_expalining),V),sample_expalining),-1) \n",
        "vars = [corr_beta[i][i] for i in range(corr_beta.shape[0])]\n",
        "for i in range(4):\n",
        "  print('The varience of beta-'+ str(i) + ' is '+ str(vars[i]))"
      ],
      "metadata": {
        "id": "vzU6yyHCWJbY",
        "colab": {
          "base_uri": "https://localhost:8080/"
        },
        "outputId": "bbbb7717-b660-4276-de35-67e4fdb0629f"
      },
      "execution_count": 48,
      "outputs": [
        {
          "output_type": "stream",
          "name": "stdout",
          "text": [
            "The varience of beta-0 is 0.021465819634470758\n",
            "The varience of beta-1 is 0.08544671401285384\n",
            "The varience of beta-2 is 0.08246463393263657\n",
            "The varience of beta-3 is 0.3657375208479603\n"
          ]
        }
      ]
    },
    {
      "cell_type": "markdown",
      "source": [
        "<div dir=rtl>\n",
        "<h3>\n",
        "כעת נחשב את רווחי הסמך כפי שנלמד בכיתה:\n",
        "<h3>\n",
        "\n",
        "\n",
        "</div>\n"
      ],
      "metadata": {
        "id": "tuAIbhdeCGZj"
      }
    },
    {
      "cell_type": "code",
      "source": [
        "list_ranges= []\n",
        "for i in range(corr_beta.shape[0]):\n",
        "  print('Confidence Interval For Coefficient Number ', i, ': [', beta_estimation_sample[0][i] - 2*corr_beta[i][i], ', ',  beta_estimation_sample[0][i] + 2*corr_beta[i][i], ']')\n",
        "  list_ranges.append([beta_estimation_sample[0][i] - 2*corr_beta[i][i],  beta_estimation_sample[0][i] + 2*corr_beta[i][i]])"
      ],
      "metadata": {
        "colab": {
          "base_uri": "https://localhost:8080/"
        },
        "id": "iwx17VntWRyO",
        "outputId": "e83f226f-7ca9-42f7-c503-91faab0c8624"
      },
      "execution_count": 49,
      "outputs": [
        {
          "output_type": "stream",
          "name": "stdout",
          "text": [
            "Confidence Interval For Coefficient Number  0 : [ -0.001255728077461167 ,  0.08460755046042187 ]\n",
            "Confidence Interval For Coefficient Number  1 : [ 0.6326049247926064 ,  0.9743917808440219 ]\n",
            "Confidence Interval For Coefficient Number  2 : [ -0.6562225917786132 ,  -0.32636405604806684 ]\n",
            "Confidence Interval For Coefficient Number  3 : [ -0.27820241413825264 ,  1.1847476692535885 ]\n"
          ]
        }
      ]
    },
    {
      "cell_type": "markdown",
      "source": [
        "<div dir=rtl>\n",
        "<h3>\n",
        " כעת נבצע רגרסיה לוגיסטית על המדגם המקורי:\n",
        "<h3>\n",
        "\n",
        "\n",
        "</div>\n"
      ],
      "metadata": {
        "id": "zMJ9y_GjCZ2z"
      }
    },
    {
      "cell_type": "code",
      "source": [
        "model = LogisticRegression(solver='liblinear').fit(ln_reg_df[['Rating','Reviews','Installs','IsFree']], ln_reg_df['Recntly Updated'])\n",
        "beta_estimation = model.coef_[0]"
      ],
      "metadata": {
        "id": "DREzrv-0WTz-"
      },
      "execution_count": 50,
      "outputs": []
    },
    {
      "cell_type": "markdown",
      "source": [
        "<div dir=rtl>\n",
        "<h3>\n",
        "כעת נבדוק האם רווחי הסמך שהתקבלו מהמדגם הקטן מכילים את האומדים עבור כל המדגם:<h3>\n",
        "\n",
        "\n",
        "</div>\n"
      ],
      "metadata": {
        "id": "bkwyFYODC4r5"
      }
    },
    {
      "cell_type": "code",
      "source": [
        "explainers = ['Rating','Reviews','Installs','IsFree']\n",
        "for i in range(len(beta_estimation)):\n",
        "  if list_ranges[i][0]<= beta_estimation[i] and (beta_estimation[i] <= list_ranges[i][1]):\n",
        "    str_in = ''\n",
        "  else:\n",
        "    str_in = \"n't\"\n",
        "  print('Estimator for '+ explainers[i] + ' is'+str_in+' in the confidence interval')"
      ],
      "metadata": {
        "colab": {
          "base_uri": "https://localhost:8080/"
        },
        "id": "V8iWoNzdWWcT",
        "outputId": "bfa11bdf-ea24-4fbe-917a-2c9ff12452f7"
      },
      "execution_count": 51,
      "outputs": [
        {
          "output_type": "stream",
          "name": "stdout",
          "text": [
            "Estimator for Rating isn't in the confidence interval\n",
            "Estimator for Reviews isn't in the confidence interval\n",
            "Estimator for Installs isn't in the confidence interval\n",
            "Estimator for IsFree is in the confidence interval\n"
          ]
        }
      ]
    },
    {
      "cell_type": "markdown",
      "source": [
        "<div dir=rtl>\n",
        "<h3>\n",
        "6. נוסיף את האינטרקציות מסדר ראשון:\n",
        "\n",
        "</div>\n"
      ],
      "metadata": {
        "id": "6ZM9jRvpDIHz"
      }
    },
    {
      "cell_type": "code",
      "source": [
        "columns = list(sample_expalining.columns)\n",
        "sample_expalining_added_var = sample_expalining.copy()\n",
        "for i,name in enumerate(columns):\n",
        "  for j in range(i+1,len(columns)):\n",
        "    cur = 'z_' + name +'_'+columns[j]\n",
        "    sample_expalining_added_var[cur] = sample_expalining_added_var[name] * sample_expalining_added_var[columns[j]]"
      ],
      "metadata": {
        "id": "cx-DLTQ0WYvB"
      },
      "execution_count": 52,
      "outputs": []
    },
    {
      "cell_type": "markdown",
      "source": [
        "<div dir=rtl>\n",
        "<h3>\n",
        "נבצע רגרסיה לוגסטית על המדגם החדש:\n",
        "</div>\n"
      ],
      "metadata": {
        "id": "Vn3oTblIDbxt"
      }
    },
    {
      "cell_type": "code",
      "source": [
        "model_added_var = LogisticRegression(solver='liblinear').fit(sample_expalining_added_var, sample['Recntly Updated'])\n",
        "beta_estimation_added_var = model_added_var.coef_[0]"
      ],
      "metadata": {
        "id": "yVcpMc3yWeSF"
      },
      "execution_count": 53,
      "outputs": []
    },
    {
      "cell_type": "code",
      "source": [
        "def log_likeihood(train,beta):\n",
        "  log_likeihood = 0\n",
        "  for index,x in train.iterrows():\n",
        "    log_odds = beta @ x\n",
        "    y_pred_proba = sigmoid(log_odds)\n",
        "    y_actual = sample['Recntly Updated'].loc[index]\n",
        "    log_likeihood += y_actual*np.log(y_pred_proba) + (1-y_actual)*np.log(1-y_pred_proba)\n",
        "  return log_likeihood\n",
        "reduced_ll = log_likeihood(sample_expalining,beta_estimation_sample)\n"
      ],
      "metadata": {
        "id": "UkSd4J5Awc3x"
      },
      "execution_count": 54,
      "outputs": []
    },
    {
      "cell_type": "markdown",
      "source": [
        "<div dir=rtl>\n",
        "<h3>\n",
        "נשווה בין המודלים כאשר המודל המלא הוא המודל הכולל את האינטרקציות:\n",
        "\n",
        "</div>\n"
      ],
      "metadata": {
        "id": "oJ4mqYgzDmy5"
      }
    },
    {
      "cell_type": "code",
      "source": [
        "full_ll = log_likeihood(sample_expalining_added_var,beta_estimation_added_var)\n",
        "reduced_ll = log_likeihood(sample_expalining,beta_estimation_sample)\n",
        "LR_statistic = -2*(reduced_ll-full_ll)\n",
        "p_val = dist.chi2.sf(LR_statistic, 6)\n",
        "p_val[0]"
      ],
      "metadata": {
        "colab": {
          "base_uri": "https://localhost:8080/"
        },
        "id": "s31sv5uPWtQs",
        "outputId": "50c73cbf-37a7-48eb-cf6c-1d86ab8e887d"
      },
      "execution_count": 55,
      "outputs": [
        {
          "output_type": "execute_result",
          "data": {
            "text/plain": [
              "4.142064303126668e-09"
            ]
          },
          "metadata": {},
          "execution_count": 55
        }
      ]
    },
    {
      "cell_type": "markdown",
      "source": [
        "<div dir=rtl>\n",
        "<h3>\n",
        "הערך קטן מ0.05 ולכן נדחה את השערת האפס. ולכן המודל המלא לומד את הדטא בצורה טובה יותר ועל כן נבחר אותו.\n",
        "<br>\n",
        "כעת נשווה בין המודלים על ידי שימוש במדד AIC\n",
        "</div>\n"
      ],
      "metadata": {
        "id": "yZG9-pEmWxFX"
      }
    },
    {
      "cell_type": "code",
      "source": [
        "AIC_full = AIC(full_ll,10)\n",
        "AIC_reuced = AIC(reduced_ll,4)"
      ],
      "metadata": {
        "id": "LIdflFslWzte"
      },
      "execution_count": 56,
      "outputs": []
    },
    {
      "cell_type": "code",
      "source": [
        "(AIC_full - AIC_reuced)[0]"
      ],
      "metadata": {
        "colab": {
          "base_uri": "https://localhost:8080/"
        },
        "id": "x3JqNAMRW4jv",
        "outputId": "6b438dfa-8fea-4753-90dd-738e43083dc8"
      },
      "execution_count": 57,
      "outputs": [
        {
          "output_type": "execute_result",
          "data": {
            "text/plain": [
              "19.137098518952342"
            ]
          },
          "metadata": {},
          "execution_count": 57
        }
      ]
    },
    {
      "cell_type": "markdown",
      "source": [
        "<div dir=rtl>\n",
        "<h3>\n",
        "ולכן AIC של המודל המלא גדול יותר ועל כן בבחירה על סמך הממד נבחר במודל המלא המכיל את המשתנים הנוספים.\n",
        "</div>"
      ],
      "metadata": {
        "id": "HWpePaaJW99-"
      }
    },
    {
      "cell_type": "markdown",
      "source": [
        "<div dir=rtl>\n",
        "<h3>\n",
        "7.\n",
        "\n",
        "</div>\n"
      ],
      "metadata": {
        "id": "HuAVPKidEESs"
      }
    },
    {
      "cell_type": "code",
      "source": [
        "all_explainers = ['Rating','Reviews','Installs','IsFree','Size']\n",
        "\n",
        "\n",
        "all_explainers_added_var = all_explainers.copy()\n",
        "sample_all_expalining = sample[['Rating','Reviews','Installs','IsFree','Size']]\n",
        "sample_all_expalining_added_var = sample_all_expalining.copy()\n",
        "i = 0\n",
        "for i,name in enumerate(all_explainers):\n",
        "    for j in range(i+1,len(all_explainers)):\n",
        "      cur = 'z_' + name +'_'+all_explainers[j]\n",
        "      all_explainers_added_var.append(cur)\n",
        "      sample_all_expalining_added_var.insert(loc = 5+i ,column=cur, value=sample_all_expalining_added_var[name] *sample_all_expalining_added_var[all_explainers[j]])\n",
        "      i+=1\n",
        "sample_all_expalining_added_var['Recntly Updated'] = sample['Recntly Updated']\n"
      ],
      "metadata": {
        "id": "kXZxKa_tXDV7"
      },
      "execution_count": 58,
      "outputs": []
    },
    {
      "cell_type": "code",
      "source": [
        "import sys\n",
        "\n",
        "def forward(sample,all_explainers,measuring):\n",
        "  max = -sys.float_info.max\n",
        "  attributes = []\n",
        "\n",
        "  for i in range(len(all_explainers)):\n",
        "    cur_max = max\n",
        "    max_id = -1\n",
        "    for k in range(len(all_explainers)):\n",
        "      attributes.append(all_explainers[k])\n",
        "      sample_cur = sample[sample.columns.intersection(attributes)]\n",
        "      model = LogisticRegression(solver='liblinear').fit(sample_cur, sample['Recntly Updated'])\n",
        "      cur_likeihood= log_likeihood(sample_cur,model.coef_[0])\n",
        "      if measuring == AIC:\n",
        "        cur_measuring = measuring(cur_likeihood,len(attributes))\n",
        "      else:\n",
        "        cur_measuring = measuring(cur_likeihood,len(attributes),sample_cur.shape[0])\n",
        "      if cur_measuring > cur_max:\n",
        "        cur_max = cur_measuring\n",
        "        max_id = k\n",
        "      attributes.remove(all_explainers[k])\n",
        "    if cur_max == max:\n",
        "      return attributes\n",
        "    else:\n",
        "      max = cur_max\n",
        "      attributes.append(all_explainers[max_id])\n",
        "      del all_explainers[max_id]"
      ],
      "metadata": {
        "id": "F2Jakbh1XIhR"
      },
      "execution_count": 59,
      "outputs": []
    },
    {
      "cell_type": "code",
      "source": [
        "def backward(sample,all_explainers,measuring):\n",
        "  attributes = all_explainers.copy()\n",
        "  sample_cur = sample[sample.columns.intersection(attributes)]\n",
        "  model = LogisticRegression(solver='liblinear').fit(sample_cur, sample['Recntly Updated'])\n",
        "  cur_likeihood= log_likeihood(sample_cur,model.coef_[0])\n",
        "  if measuring == AIC:\n",
        "      min = measuring(cur_likeihood,len(attributes))\n",
        "  else:\n",
        "      min = measuring(cur_likeihood,len(attributes),sample_cur.shape[0])\n",
        "  for i in range(len(all_explainers)):\n",
        "    cur_max = min\n",
        "    max_id = -1\n",
        "    for k in range(len(all_explainers)):\n",
        "      attributes.remove(all_explainers[k])\n",
        "      sample_cur = sample[sample.columns.intersection(attributes)]\n",
        "      model = LogisticRegression(solver='liblinear').fit(sample_cur, sample['Recntly Updated'])\n",
        "      cur_likeihood= log_likeihood(sample_cur,model.coef_[0])\n",
        "      if measuring == AIC:\n",
        "        cur_measuring = measuring(cur_likeihood,len(attributes))\n",
        "      else:\n",
        "        cur_measuring = measuring(cur_likeihood,len(attributes),sample_cur.shape[0])\n",
        "      if cur_measuring > cur_max:\n",
        "        cur_max = cur_measuring\n",
        "        max_id = k\n",
        "      attributes.append(all_explainers[k])\n",
        "    if cur_max == min:\n",
        "      return attributes\n",
        "    else:\n",
        "      min = cur_max\n",
        "      attributes.remove(all_explainers[max_id])\n",
        "      del all_explainers[max_id]\n"
      ],
      "metadata": {
        "id": "nNqcN1y4XQph"
      },
      "execution_count": 60,
      "outputs": []
    },
    {
      "cell_type": "code",
      "source": [
        "print(forward(sample_all_expalining_added_var,all_explainers_added_var.copy(),AIC))"
      ],
      "metadata": {
        "id": "36PIHr4wXNOC",
        "colab": {
          "base_uri": "https://localhost:8080/"
        },
        "outputId": "0995437e-c362-45cf-a545-5fa42256b9eb"
      },
      "execution_count": 61,
      "outputs": [
        {
          "output_type": "stream",
          "name": "stdout",
          "text": [
            "['z_Reviews_Size', 'z_Rating_Installs', 'z_Reviews_Installs', 'z_Rating_Size', 'z_Rating_Reviews']\n"
          ]
        }
      ]
    },
    {
      "cell_type": "code",
      "source": [
        "print(backward(sample_all_expalining_added_var,all_explainers_added_var.copy(),AIC))\n"
      ],
      "metadata": {
        "id": "FJmuHFmcXTaM",
        "colab": {
          "base_uri": "https://localhost:8080/"
        },
        "outputId": "7a05844c-b1ad-4aa2-8a87-7560260f67aa"
      },
      "execution_count": 62,
      "outputs": [
        {
          "output_type": "stream",
          "name": "stdout",
          "text": [
            "['Rating', 'z_Rating_Reviews', 'z_Rating_Installs', 'z_Rating_Size', 'z_Reviews_Size', 'z_IsFree_Size']\n"
          ]
        }
      ]
    },
    {
      "cell_type": "markdown",
      "source": [
        "<div dir=rtl>\n",
        "<h3>\n",
        "יצאנו תוצאות שונות בין שתי השיטות, כאשר שבשיטות backward יש יותר אטריביוטים מסבירים.\n",
        "</div>\n"
      ],
      "metadata": {
        "id": "N7HHHLsTEqIQ"
      }
    },
    {
      "cell_type": "code",
      "source": [
        "print(forward(sample_all_expalining_added_var,all_explainers_added_var.copy(),BIC))"
      ],
      "metadata": {
        "colab": {
          "base_uri": "https://localhost:8080/"
        },
        "id": "Td7kW4TDXLVH",
        "outputId": "6bffcd3e-2e01-4f3e-f34b-2991c401d437"
      },
      "execution_count": 63,
      "outputs": [
        {
          "output_type": "stream",
          "name": "stdout",
          "text": [
            "['z_Reviews_Size', 'z_Rating_Installs', 'z_Reviews_Installs', 'z_Rating_Size']\n"
          ]
        }
      ]
    },
    {
      "cell_type": "code",
      "source": [
        "print(backward(sample_all_expalining_added_var,all_explainers_added_var.copy(),BIC))"
      ],
      "metadata": {
        "id": "j-LWEhj2XVaB",
        "colab": {
          "base_uri": "https://localhost:8080/"
        },
        "outputId": "0677449f-8752-411d-cf0d-43b513152bdc"
      },
      "execution_count": 64,
      "outputs": [
        {
          "output_type": "stream",
          "name": "stdout",
          "text": [
            "['z_Rating_Reviews', 'z_Rating_Installs', 'z_IsFree_Size']\n"
          ]
        }
      ]
    },
    {
      "cell_type": "markdown",
      "source": [
        "<div dir=rtl>\n",
        "<h3>\n",
        "יצאו תוצאות שונות, עבור foward אטריביוט אחד ירד.כי BIC \"מעניש\" חזק יותר כשיש יותר אטריבוטים.עבור backward ירדו 3 אטריביוטים גם בשל העונש החזק יותר של BIC לאטריביוטים ביחס לAIC.\n",
        "</div>\n"
      ],
      "metadata": {
        "id": "nq6hkNTKFePD"
      }
    }
  ]
}