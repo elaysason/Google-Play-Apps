{
  "nbformat": 4,
  "nbformat_minor": 0,
  "metadata": {
    "colab": {
      "name": "ProjectEx5b_322228974_322995358.ipynb",
      "provenance": [],
      "collapsed_sections": []
    },
    "kernelspec": {
      "name": "python3",
      "display_name": "Python 3"
    },
    "language_info": {
      "name": "python"
    }
  },
  "cells": [
    {
      "cell_type": "markdown",
      "source": [
        "<div dir=rtl><h1>\n",
        "&emsp;\n",
        "&emsp;\n",
        "&emsp;\n",
        "&emsp;\n",
        "&emsp;\n",
        "<b>\n",
        "פרוייקט חלק 5 ב'\n",
        "</b>\n",
        "</h1>\n",
        "\n",
        "<h4>\n",
        "שמות: אריאל נובומינסקי, אילי ששון\n",
        "</br>\n",
        "ת.ז. : 322228974, 322995358\n",
        "</h4>\n",
        "\n",
        "\n",
        "</div>"
      ],
      "metadata": {
        "id": "VVgazHURzLya"
      }
    },
    {
      "cell_type": "markdown",
      "source": [
        "<div dir=rtl>\n",
        "<h4>\n",
        "בחלק זה, נסתכל על המשתנים המסבירים Installs, Recently Updated, Reviews ו - IsFree ועל המשנה המוסבר Rating.\n",
        "\n",
        "נטען את סט הנתונים ונבצע את הטרנספורמציות שביצענו בחלקים הקודם:\n",
        "</h4>\n",
        "\n",
        "\n",
        "</div>"
      ],
      "metadata": {
        "id": "LIl3W8RXzUws"
      }
    },
    {
      "cell_type": "code",
      "execution_count": 1,
      "metadata": {
        "id": "yVm27W04YgSN"
      },
      "outputs": [],
      "source": [
        "import pandas as pd\n",
        "import numpy as np\n",
        "import matplotlib.pyplot as plt\n",
        "import seaborn as sns\n",
        "import datetime\n",
        "from scipy.stats import beta\n",
        "from scipy.stats import bernoulli\n",
        "import scipy as scs\n",
        "from sklearn.linear_model import LogisticRegression\n",
        "from sklearn.linear_model import LinearRegression\n",
        "from tabulate import tabulate\n",
        "from scipy.linalg import fractional_matrix_power\n",
        "from sklearn.metrics import log_loss\n",
        "import math\n",
        "from scipy.stats import norm"
      ]
    },
    {
      "cell_type": "code",
      "source": [
        "df = pd.read_csv(\"/content/googleplaystore.csv\")\n",
        "df = df.drop(df[(df.Type !='Paid') & (df.Type !='Free')].index)\n",
        "df = df.dropna()\n",
        "isFree_Data = df.Type.apply(lambda x: True if x=='Free' else False)\n",
        "df.insert(7,'IsFree',isFree_Data)\n",
        "df = df.drop('Type', 1)\n",
        "df['Last Updated'] = df['Last Updated'].str.replace(',', '')\n",
        "Last_Updated=pd.to_datetime(df['Last Updated'], format='%B %d %Y')\n",
        "df = df.drop('Last Updated',axis=1)\n",
        "df.insert(9,'Last Updated',Last_Updated)\n",
        "recntly = df['Last Updated'].map(lambda x: True if x > datetime.date(2018,6,1) else False)\n",
        "df.insert(9,'Recntly Updated',recntly)\n",
        "df['Installs'] = df['Installs'].map(lambda s: int(s[:-1].replace(',', '')))\n",
        "df = df[df['Size'] !='Varies with device']\n",
        "df['Size'] = df['Size'].map(lambda x: float(x.split('k')[0]) if 'k' in x else float(x.split('M')[0])*1024 )"
      ],
      "metadata": {
        "id": "t5-6JgXsY-cY",
        "colab": {
          "base_uri": "https://localhost:8080/",
          "height": 0
        },
        "outputId": "99b792a0-aae7-4e0a-a7b9-64ffc86917a0"
      },
      "execution_count": 2,
      "outputs": [
        {
          "output_type": "stream",
          "name": "stderr",
          "text": [
            "/usr/local/lib/python3.7/dist-packages/ipykernel_launcher.py:6: FutureWarning: In a future version of pandas all arguments of DataFrame.drop except for the argument 'labels' will be keyword-only\n",
            "  \n",
            "/usr/local/lib/python3.7/dist-packages/ipykernel_launcher.py:11: FutureWarning: Comparison of Timestamp with datetime.date is deprecated in order to match the standard library behavior.  In a future version these will be considered non-comparable.Use 'ts == pd.Timestamp(date)' or 'ts.date() == date' instead.\n",
            "  # This is added back by InteractiveShellApp.init_path()\n"
          ]
        }
      ]
    },
    {
      "cell_type": "code",
      "source": [
        "df.head()"
      ],
      "metadata": {
        "colab": {
          "base_uri": "https://localhost:8080/",
          "height": 337
        },
        "id": "cyQ2IC-rscDn",
        "outputId": "5523b8ec-76f7-45cb-fe27-27d37f09060d"
      },
      "execution_count": 3,
      "outputs": [
        {
          "output_type": "execute_result",
          "data": {
            "text/html": [
              "\n",
              "  <div id=\"df-24e76ae1-5dba-407f-bd5d-c304123d1c5a\">\n",
              "    <div class=\"colab-df-container\">\n",
              "      <div>\n",
              "<style scoped>\n",
              "    .dataframe tbody tr th:only-of-type {\n",
              "        vertical-align: middle;\n",
              "    }\n",
              "\n",
              "    .dataframe tbody tr th {\n",
              "        vertical-align: top;\n",
              "    }\n",
              "\n",
              "    .dataframe thead th {\n",
              "        text-align: right;\n",
              "    }\n",
              "</style>\n",
              "<table border=\"1\" class=\"dataframe\">\n",
              "  <thead>\n",
              "    <tr style=\"text-align: right;\">\n",
              "      <th></th>\n",
              "      <th>App</th>\n",
              "      <th>Category</th>\n",
              "      <th>Rating</th>\n",
              "      <th>Reviews</th>\n",
              "      <th>Size</th>\n",
              "      <th>Installs</th>\n",
              "      <th>IsFree</th>\n",
              "      <th>Price</th>\n",
              "      <th>Content Rating</th>\n",
              "      <th>Recntly Updated</th>\n",
              "      <th>Last Updated</th>\n",
              "      <th>Genres</th>\n",
              "      <th>Current Ver</th>\n",
              "      <th>Android Ver</th>\n",
              "    </tr>\n",
              "  </thead>\n",
              "  <tbody>\n",
              "    <tr>\n",
              "      <th>0</th>\n",
              "      <td>Photo Editor &amp; Candy Camera &amp; Grid &amp; ScrapBook</td>\n",
              "      <td>ART_AND_DESIGN</td>\n",
              "      <td>4.1</td>\n",
              "      <td>159</td>\n",
              "      <td>19456.0</td>\n",
              "      <td>10000</td>\n",
              "      <td>True</td>\n",
              "      <td>0</td>\n",
              "      <td>Everyone</td>\n",
              "      <td>False</td>\n",
              "      <td>2018-01-07</td>\n",
              "      <td>Art &amp; Design</td>\n",
              "      <td>1.0.0</td>\n",
              "      <td>4.0.3 and up</td>\n",
              "    </tr>\n",
              "    <tr>\n",
              "      <th>1</th>\n",
              "      <td>Coloring book moana</td>\n",
              "      <td>ART_AND_DESIGN</td>\n",
              "      <td>3.9</td>\n",
              "      <td>967</td>\n",
              "      <td>14336.0</td>\n",
              "      <td>500000</td>\n",
              "      <td>True</td>\n",
              "      <td>0</td>\n",
              "      <td>Everyone</td>\n",
              "      <td>False</td>\n",
              "      <td>2018-01-15</td>\n",
              "      <td>Art &amp; Design;Pretend Play</td>\n",
              "      <td>2.0.0</td>\n",
              "      <td>4.0.3 and up</td>\n",
              "    </tr>\n",
              "    <tr>\n",
              "      <th>2</th>\n",
              "      <td>U Launcher Lite – FREE Live Cool Themes, Hide ...</td>\n",
              "      <td>ART_AND_DESIGN</td>\n",
              "      <td>4.7</td>\n",
              "      <td>87510</td>\n",
              "      <td>8908.8</td>\n",
              "      <td>5000000</td>\n",
              "      <td>True</td>\n",
              "      <td>0</td>\n",
              "      <td>Everyone</td>\n",
              "      <td>True</td>\n",
              "      <td>2018-08-01</td>\n",
              "      <td>Art &amp; Design</td>\n",
              "      <td>1.2.4</td>\n",
              "      <td>4.0.3 and up</td>\n",
              "    </tr>\n",
              "    <tr>\n",
              "      <th>3</th>\n",
              "      <td>Sketch - Draw &amp; Paint</td>\n",
              "      <td>ART_AND_DESIGN</td>\n",
              "      <td>4.5</td>\n",
              "      <td>215644</td>\n",
              "      <td>25600.0</td>\n",
              "      <td>50000000</td>\n",
              "      <td>True</td>\n",
              "      <td>0</td>\n",
              "      <td>Teen</td>\n",
              "      <td>True</td>\n",
              "      <td>2018-06-08</td>\n",
              "      <td>Art &amp; Design</td>\n",
              "      <td>Varies with device</td>\n",
              "      <td>4.2 and up</td>\n",
              "    </tr>\n",
              "    <tr>\n",
              "      <th>4</th>\n",
              "      <td>Pixel Draw - Number Art Coloring Book</td>\n",
              "      <td>ART_AND_DESIGN</td>\n",
              "      <td>4.3</td>\n",
              "      <td>967</td>\n",
              "      <td>2867.2</td>\n",
              "      <td>100000</td>\n",
              "      <td>True</td>\n",
              "      <td>0</td>\n",
              "      <td>Everyone</td>\n",
              "      <td>True</td>\n",
              "      <td>2018-06-20</td>\n",
              "      <td>Art &amp; Design;Creativity</td>\n",
              "      <td>1.1</td>\n",
              "      <td>4.4 and up</td>\n",
              "    </tr>\n",
              "  </tbody>\n",
              "</table>\n",
              "</div>\n",
              "      <button class=\"colab-df-convert\" onclick=\"convertToInteractive('df-24e76ae1-5dba-407f-bd5d-c304123d1c5a')\"\n",
              "              title=\"Convert this dataframe to an interactive table.\"\n",
              "              style=\"display:none;\">\n",
              "        \n",
              "  <svg xmlns=\"http://www.w3.org/2000/svg\" height=\"24px\"viewBox=\"0 0 24 24\"\n",
              "       width=\"24px\">\n",
              "    <path d=\"M0 0h24v24H0V0z\" fill=\"none\"/>\n",
              "    <path d=\"M18.56 5.44l.94 2.06.94-2.06 2.06-.94-2.06-.94-.94-2.06-.94 2.06-2.06.94zm-11 1L8.5 8.5l.94-2.06 2.06-.94-2.06-.94L8.5 2.5l-.94 2.06-2.06.94zm10 10l.94 2.06.94-2.06 2.06-.94-2.06-.94-.94-2.06-.94 2.06-2.06.94z\"/><path d=\"M17.41 7.96l-1.37-1.37c-.4-.4-.92-.59-1.43-.59-.52 0-1.04.2-1.43.59L10.3 9.45l-7.72 7.72c-.78.78-.78 2.05 0 2.83L4 21.41c.39.39.9.59 1.41.59.51 0 1.02-.2 1.41-.59l7.78-7.78 2.81-2.81c.8-.78.8-2.07 0-2.86zM5.41 20L4 18.59l7.72-7.72 1.47 1.35L5.41 20z\"/>\n",
              "  </svg>\n",
              "      </button>\n",
              "      \n",
              "  <style>\n",
              "    .colab-df-container {\n",
              "      display:flex;\n",
              "      flex-wrap:wrap;\n",
              "      gap: 12px;\n",
              "    }\n",
              "\n",
              "    .colab-df-convert {\n",
              "      background-color: #E8F0FE;\n",
              "      border: none;\n",
              "      border-radius: 50%;\n",
              "      cursor: pointer;\n",
              "      display: none;\n",
              "      fill: #1967D2;\n",
              "      height: 32px;\n",
              "      padding: 0 0 0 0;\n",
              "      width: 32px;\n",
              "    }\n",
              "\n",
              "    .colab-df-convert:hover {\n",
              "      background-color: #E2EBFA;\n",
              "      box-shadow: 0px 1px 2px rgba(60, 64, 67, 0.3), 0px 1px 3px 1px rgba(60, 64, 67, 0.15);\n",
              "      fill: #174EA6;\n",
              "    }\n",
              "\n",
              "    [theme=dark] .colab-df-convert {\n",
              "      background-color: #3B4455;\n",
              "      fill: #D2E3FC;\n",
              "    }\n",
              "\n",
              "    [theme=dark] .colab-df-convert:hover {\n",
              "      background-color: #434B5C;\n",
              "      box-shadow: 0px 1px 3px 1px rgba(0, 0, 0, 0.15);\n",
              "      filter: drop-shadow(0px 1px 2px rgba(0, 0, 0, 0.3));\n",
              "      fill: #FFFFFF;\n",
              "    }\n",
              "  </style>\n",
              "\n",
              "      <script>\n",
              "        const buttonEl =\n",
              "          document.querySelector('#df-24e76ae1-5dba-407f-bd5d-c304123d1c5a button.colab-df-convert');\n",
              "        buttonEl.style.display =\n",
              "          google.colab.kernel.accessAllowed ? 'block' : 'none';\n",
              "\n",
              "        async function convertToInteractive(key) {\n",
              "          const element = document.querySelector('#df-24e76ae1-5dba-407f-bd5d-c304123d1c5a');\n",
              "          const dataTable =\n",
              "            await google.colab.kernel.invokeFunction('convertToInteractive',\n",
              "                                                     [key], {});\n",
              "          if (!dataTable) return;\n",
              "\n",
              "          const docLinkHtml = 'Like what you see? Visit the ' +\n",
              "            '<a target=\"_blank\" href=https://colab.research.google.com/notebooks/data_table.ipynb>data table notebook</a>'\n",
              "            + ' to learn more about interactive tables.';\n",
              "          element.innerHTML = '';\n",
              "          dataTable['output_type'] = 'display_data';\n",
              "          await google.colab.output.renderOutput(dataTable, element);\n",
              "          const docLink = document.createElement('div');\n",
              "          docLink.innerHTML = docLinkHtml;\n",
              "          element.appendChild(docLink);\n",
              "        }\n",
              "      </script>\n",
              "    </div>\n",
              "  </div>\n",
              "  "
            ],
            "text/plain": [
              "                                                 App        Category  Rating  \\\n",
              "0     Photo Editor & Candy Camera & Grid & ScrapBook  ART_AND_DESIGN     4.1   \n",
              "1                                Coloring book moana  ART_AND_DESIGN     3.9   \n",
              "2  U Launcher Lite – FREE Live Cool Themes, Hide ...  ART_AND_DESIGN     4.7   \n",
              "3                              Sketch - Draw & Paint  ART_AND_DESIGN     4.5   \n",
              "4              Pixel Draw - Number Art Coloring Book  ART_AND_DESIGN     4.3   \n",
              "\n",
              "  Reviews     Size  Installs  IsFree Price Content Rating  Recntly Updated  \\\n",
              "0     159  19456.0     10000    True     0       Everyone            False   \n",
              "1     967  14336.0    500000    True     0       Everyone            False   \n",
              "2   87510   8908.8   5000000    True     0       Everyone             True   \n",
              "3  215644  25600.0  50000000    True     0           Teen             True   \n",
              "4     967   2867.2    100000    True     0       Everyone             True   \n",
              "\n",
              "  Last Updated                     Genres         Current Ver   Android Ver  \n",
              "0   2018-01-07               Art & Design               1.0.0  4.0.3 and up  \n",
              "1   2018-01-15  Art & Design;Pretend Play               2.0.0  4.0.3 and up  \n",
              "2   2018-08-01               Art & Design               1.2.4  4.0.3 and up  \n",
              "3   2018-06-08               Art & Design  Varies with device    4.2 and up  \n",
              "4   2018-06-20    Art & Design;Creativity                 1.1    4.4 and up  "
            ]
          },
          "metadata": {},
          "execution_count": 3
        }
      ]
    },
    {
      "cell_type": "code",
      "source": [
        "data_df = df[['Rating', 'Recntly Updated', 'Installs', 'IsFree', 'Reviews']].copy()\n",
        "data_df['Recntly Updated'] = data_df['Recntly Updated'].map(lambda x: 1 if x else 0) "
      ],
      "metadata": {
        "id": "vZyapkm4ZAOl"
      },
      "execution_count": 4,
      "outputs": []
    },
    {
      "cell_type": "markdown",
      "source": [
        "<div dir=rtl>\n",
        "<h4>\n",
        "1. נבחר תת מדגם באופן אקראי בגודל 1000:\n",
        "</h4>\n",
        "</div>"
      ],
      "metadata": {
        "id": "c4VRru8JS8yC"
      }
    },
    {
      "cell_type": "code",
      "source": [
        "sample = data_df.sample(1000, random_state=1)\n",
        "sample.head(5)"
      ],
      "metadata": {
        "colab": {
          "base_uri": "https://localhost:8080/",
          "height": 206
        },
        "id": "5Dr0jiBOTHrm",
        "outputId": "e749f2f8-3102-43a0-bb4f-daa96d4db047"
      },
      "execution_count": 5,
      "outputs": [
        {
          "output_type": "execute_result",
          "data": {
            "text/html": [
              "\n",
              "  <div id=\"df-657af423-07db-4287-86e9-2426d69423b3\">\n",
              "    <div class=\"colab-df-container\">\n",
              "      <div>\n",
              "<style scoped>\n",
              "    .dataframe tbody tr th:only-of-type {\n",
              "        vertical-align: middle;\n",
              "    }\n",
              "\n",
              "    .dataframe tbody tr th {\n",
              "        vertical-align: top;\n",
              "    }\n",
              "\n",
              "    .dataframe thead th {\n",
              "        text-align: right;\n",
              "    }\n",
              "</style>\n",
              "<table border=\"1\" class=\"dataframe\">\n",
              "  <thead>\n",
              "    <tr style=\"text-align: right;\">\n",
              "      <th></th>\n",
              "      <th>Rating</th>\n",
              "      <th>Recntly Updated</th>\n",
              "      <th>Installs</th>\n",
              "      <th>IsFree</th>\n",
              "      <th>Reviews</th>\n",
              "    </tr>\n",
              "  </thead>\n",
              "  <tbody>\n",
              "    <tr>\n",
              "      <th>10201</th>\n",
              "      <td>4.0</td>\n",
              "      <td>0</td>\n",
              "      <td>100000</td>\n",
              "      <td>True</td>\n",
              "      <td>710</td>\n",
              "    </tr>\n",
              "    <tr>\n",
              "      <th>3415</th>\n",
              "      <td>4.1</td>\n",
              "      <td>0</td>\n",
              "      <td>1000000</td>\n",
              "      <td>True</td>\n",
              "      <td>12180</td>\n",
              "    </tr>\n",
              "    <tr>\n",
              "      <th>7036</th>\n",
              "      <td>4.4</td>\n",
              "      <td>1</td>\n",
              "      <td>100000</td>\n",
              "      <td>True</td>\n",
              "      <td>8433</td>\n",
              "    </tr>\n",
              "    <tr>\n",
              "      <th>4950</th>\n",
              "      <td>4.1</td>\n",
              "      <td>0</td>\n",
              "      <td>1000000</td>\n",
              "      <td>True</td>\n",
              "      <td>14491</td>\n",
              "    </tr>\n",
              "    <tr>\n",
              "      <th>455</th>\n",
              "      <td>4.6</td>\n",
              "      <td>1</td>\n",
              "      <td>1000000</td>\n",
              "      <td>True</td>\n",
              "      <td>183374</td>\n",
              "    </tr>\n",
              "  </tbody>\n",
              "</table>\n",
              "</div>\n",
              "      <button class=\"colab-df-convert\" onclick=\"convertToInteractive('df-657af423-07db-4287-86e9-2426d69423b3')\"\n",
              "              title=\"Convert this dataframe to an interactive table.\"\n",
              "              style=\"display:none;\">\n",
              "        \n",
              "  <svg xmlns=\"http://www.w3.org/2000/svg\" height=\"24px\"viewBox=\"0 0 24 24\"\n",
              "       width=\"24px\">\n",
              "    <path d=\"M0 0h24v24H0V0z\" fill=\"none\"/>\n",
              "    <path d=\"M18.56 5.44l.94 2.06.94-2.06 2.06-.94-2.06-.94-.94-2.06-.94 2.06-2.06.94zm-11 1L8.5 8.5l.94-2.06 2.06-.94-2.06-.94L8.5 2.5l-.94 2.06-2.06.94zm10 10l.94 2.06.94-2.06 2.06-.94-2.06-.94-.94-2.06-.94 2.06-2.06.94z\"/><path d=\"M17.41 7.96l-1.37-1.37c-.4-.4-.92-.59-1.43-.59-.52 0-1.04.2-1.43.59L10.3 9.45l-7.72 7.72c-.78.78-.78 2.05 0 2.83L4 21.41c.39.39.9.59 1.41.59.51 0 1.02-.2 1.41-.59l7.78-7.78 2.81-2.81c.8-.78.8-2.07 0-2.86zM5.41 20L4 18.59l7.72-7.72 1.47 1.35L5.41 20z\"/>\n",
              "  </svg>\n",
              "      </button>\n",
              "      \n",
              "  <style>\n",
              "    .colab-df-container {\n",
              "      display:flex;\n",
              "      flex-wrap:wrap;\n",
              "      gap: 12px;\n",
              "    }\n",
              "\n",
              "    .colab-df-convert {\n",
              "      background-color: #E8F0FE;\n",
              "      border: none;\n",
              "      border-radius: 50%;\n",
              "      cursor: pointer;\n",
              "      display: none;\n",
              "      fill: #1967D2;\n",
              "      height: 32px;\n",
              "      padding: 0 0 0 0;\n",
              "      width: 32px;\n",
              "    }\n",
              "\n",
              "    .colab-df-convert:hover {\n",
              "      background-color: #E2EBFA;\n",
              "      box-shadow: 0px 1px 2px rgba(60, 64, 67, 0.3), 0px 1px 3px 1px rgba(60, 64, 67, 0.15);\n",
              "      fill: #174EA6;\n",
              "    }\n",
              "\n",
              "    [theme=dark] .colab-df-convert {\n",
              "      background-color: #3B4455;\n",
              "      fill: #D2E3FC;\n",
              "    }\n",
              "\n",
              "    [theme=dark] .colab-df-convert:hover {\n",
              "      background-color: #434B5C;\n",
              "      box-shadow: 0px 1px 3px 1px rgba(0, 0, 0, 0.15);\n",
              "      filter: drop-shadow(0px 1px 2px rgba(0, 0, 0, 0.3));\n",
              "      fill: #FFFFFF;\n",
              "    }\n",
              "  </style>\n",
              "\n",
              "      <script>\n",
              "        const buttonEl =\n",
              "          document.querySelector('#df-657af423-07db-4287-86e9-2426d69423b3 button.colab-df-convert');\n",
              "        buttonEl.style.display =\n",
              "          google.colab.kernel.accessAllowed ? 'block' : 'none';\n",
              "\n",
              "        async function convertToInteractive(key) {\n",
              "          const element = document.querySelector('#df-657af423-07db-4287-86e9-2426d69423b3');\n",
              "          const dataTable =\n",
              "            await google.colab.kernel.invokeFunction('convertToInteractive',\n",
              "                                                     [key], {});\n",
              "          if (!dataTable) return;\n",
              "\n",
              "          const docLinkHtml = 'Like what you see? Visit the ' +\n",
              "            '<a target=\"_blank\" href=https://colab.research.google.com/notebooks/data_table.ipynb>data table notebook</a>'\n",
              "            + ' to learn more about interactive tables.';\n",
              "          element.innerHTML = '';\n",
              "          dataTable['output_type'] = 'display_data';\n",
              "          await google.colab.output.renderOutput(dataTable, element);\n",
              "          const docLink = document.createElement('div');\n",
              "          docLink.innerHTML = docLinkHtml;\n",
              "          element.appendChild(docLink);\n",
              "        }\n",
              "      </script>\n",
              "    </div>\n",
              "  </div>\n",
              "  "
            ],
            "text/plain": [
              "       Rating  Recntly Updated  Installs  IsFree Reviews\n",
              "10201     4.0                0    100000    True     710\n",
              "3415      4.1                0   1000000    True   12180\n",
              "7036      4.4                1    100000    True    8433\n",
              "4950      4.1                0   1000000    True   14491\n",
              "455       4.6                1   1000000    True  183374"
            ]
          },
          "metadata": {},
          "execution_count": 5
        }
      ]
    },
    {
      "cell_type": "markdown",
      "source": [
        "<div dir=rtl>\n",
        "<h4>\n",
        "נזכר בהתפלגות הדירוגים באמצעות היסטוגרמה: \n",
        "</h4>\n",
        "</div>"
      ],
      "metadata": {
        "id": "CTTaGPR13kB1"
      }
    },
    {
      "cell_type": "code",
      "source": [
        "sns.set(rc={'figure.figsize':(8.7,5.27)})\n",
        "\n",
        "sns.histplot(sample['Rating'])\n",
        "\n",
        "print('Rating Mean: ', np.mean(sample['Rating']))\n",
        "print('Rating Median: ', np.median(sample['Rating']))\n",
        "print('Rating Variance: ', np.var(sample['Rating']))"
      ],
      "metadata": {
        "colab": {
          "base_uri": "https://localhost:8080/",
          "height": 409
        },
        "id": "vTFdqhbN3t6r",
        "outputId": "5f12eaa2-2be0-47f7-dea6-e6c396504f9a"
      },
      "execution_count": 6,
      "outputs": [
        {
          "output_type": "stream",
          "name": "stdout",
          "text": [
            "Rating Mean:  4.188999999999997\n",
            "Rating Median:  4.3\n",
            "Rating Variance:  0.279019000000001\n"
          ]
        },
        {
          "output_type": "display_data",
          "data": {
            "image/png": "[encoded data removed]",
            "text/plain": [
              "<Figure size 626.4x379.44 with 1 Axes>"
            ]
          },
          "metadata": {}
        }
      ]
    },
    {
      "cell_type": "markdown",
      "source": [
        "<div dir=rtl>\n",
        "<h4>\n",
        "כפי שציינו בחלקים קודמים, ההתפלגות היא התפלגות נורמלית עם זנב שמאלי כבד כאשר מרבית האפליקציות מקבלות דירוגים \"גבוהים\" (מעל 4).\n",
        "<br>\n",
        "בנוסף, נשים לב כי השונות היא יחסית קטנה (~0.28).\n",
        "</h4>\n",
        "</div>"
      ],
      "metadata": {
        "id": "UbTpXTbt37tI"
      }
    },
    {
      "cell_type": "markdown",
      "source": [
        "<div dir=rtl>\n",
        "<h4>\n",
        "2.\n",
        "נרצה לבצע רגרסיה לינארית על מנת לחזות את ערכי ה - Rating של האפליקציות.\n",
        "</br>\n",
        "ראשית, נבצע מספר טרנספורמציות לנתונים כפי שביצענו בחלקים קודמים בהם נתבקשנו לבצע רגרסיה לינארית עם משתנים אלו.\n",
        "הטרנספורמציות שנבצע הם הפעלת לוג10 על המשתנים Installs ו - Reviews והפיכת המשתנה IsFree ממשתנה בוליאני (True, False) למשתנה דיסקרטי (0,1):\n",
        "</h4>\n",
        "</div>"
      ],
      "metadata": {
        "id": "P8g9cYaLT3Gf"
      }
    },
    {
      "cell_type": "code",
      "source": [
        "sample['Installs'] = sample['Installs'].map(lambda x: np.log10(x))\n",
        "sample['Reviews'] = sample['Reviews'].map(lambda x: np.log10(int(x)))\n",
        "sample['IsFree'] = sample['IsFree'].map(lambda x: 1 if x else 0)\n",
        "sample.head(5)"
      ],
      "metadata": {
        "colab": {
          "base_uri": "https://localhost:8080/",
          "height": 206
        },
        "id": "eLZgkf0_VVwX",
        "outputId": "a95c7694-14e8-4416-e06d-094d0ab791c1"
      },
      "execution_count": 7,
      "outputs": [
        {
          "output_type": "execute_result",
          "data": {
            "text/html": [
              "\n",
              "  <div id=\"df-5c4ae5df-d788-454e-bfe9-06f7863fcb85\">\n",
              "    <div class=\"colab-df-container\">\n",
              "      <div>\n",
              "<style scoped>\n",
              "    .dataframe tbody tr th:only-of-type {\n",
              "        vertical-align: middle;\n",
              "    }\n",
              "\n",
              "    .dataframe tbody tr th {\n",
              "        vertical-align: top;\n",
              "    }\n",
              "\n",
              "    .dataframe thead th {\n",
              "        text-align: right;\n",
              "    }\n",
              "</style>\n",
              "<table border=\"1\" class=\"dataframe\">\n",
              "  <thead>\n",
              "    <tr style=\"text-align: right;\">\n",
              "      <th></th>\n",
              "      <th>Rating</th>\n",
              "      <th>Recntly Updated</th>\n",
              "      <th>Installs</th>\n",
              "      <th>IsFree</th>\n",
              "      <th>Reviews</th>\n",
              "    </tr>\n",
              "  </thead>\n",
              "  <tbody>\n",
              "    <tr>\n",
              "      <th>10201</th>\n",
              "      <td>4.0</td>\n",
              "      <td>0</td>\n",
              "      <td>5.0</td>\n",
              "      <td>1</td>\n",
              "      <td>2.851258</td>\n",
              "    </tr>\n",
              "    <tr>\n",
              "      <th>3415</th>\n",
              "      <td>4.1</td>\n",
              "      <td>0</td>\n",
              "      <td>6.0</td>\n",
              "      <td>1</td>\n",
              "      <td>4.085647</td>\n",
              "    </tr>\n",
              "    <tr>\n",
              "      <th>7036</th>\n",
              "      <td>4.4</td>\n",
              "      <td>1</td>\n",
              "      <td>5.0</td>\n",
              "      <td>1</td>\n",
              "      <td>3.925982</td>\n",
              "    </tr>\n",
              "    <tr>\n",
              "      <th>4950</th>\n",
              "      <td>4.1</td>\n",
              "      <td>0</td>\n",
              "      <td>6.0</td>\n",
              "      <td>1</td>\n",
              "      <td>4.161098</td>\n",
              "    </tr>\n",
              "    <tr>\n",
              "      <th>455</th>\n",
              "      <td>4.6</td>\n",
              "      <td>1</td>\n",
              "      <td>6.0</td>\n",
              "      <td>1</td>\n",
              "      <td>5.263338</td>\n",
              "    </tr>\n",
              "  </tbody>\n",
              "</table>\n",
              "</div>\n",
              "      <button class=\"colab-df-convert\" onclick=\"convertToInteractive('df-5c4ae5df-d788-454e-bfe9-06f7863fcb85')\"\n",
              "              title=\"Convert this dataframe to an interactive table.\"\n",
              "              style=\"display:none;\">\n",
              "        \n",
              "  <svg xmlns=\"http://www.w3.org/2000/svg\" height=\"24px\"viewBox=\"0 0 24 24\"\n",
              "       width=\"24px\">\n",
              "    <path d=\"M0 0h24v24H0V0z\" fill=\"none\"/>\n",
              "    <path d=\"M18.56 5.44l.94 2.06.94-2.06 2.06-.94-2.06-.94-.94-2.06-.94 2.06-2.06.94zm-11 1L8.5 8.5l.94-2.06 2.06-.94-2.06-.94L8.5 2.5l-.94 2.06-2.06.94zm10 10l.94 2.06.94-2.06 2.06-.94-2.06-.94-.94-2.06-.94 2.06-2.06.94z\"/><path d=\"M17.41 7.96l-1.37-1.37c-.4-.4-.92-.59-1.43-.59-.52 0-1.04.2-1.43.59L10.3 9.45l-7.72 7.72c-.78.78-.78 2.05 0 2.83L4 21.41c.39.39.9.59 1.41.59.51 0 1.02-.2 1.41-.59l7.78-7.78 2.81-2.81c.8-.78.8-2.07 0-2.86zM5.41 20L4 18.59l7.72-7.72 1.47 1.35L5.41 20z\"/>\n",
              "  </svg>\n",
              "      </button>\n",
              "      \n",
              "  <style>\n",
              "    .colab-df-container {\n",
              "      display:flex;\n",
              "      flex-wrap:wrap;\n",
              "      gap: 12px;\n",
              "    }\n",
              "\n",
              "    .colab-df-convert {\n",
              "      background-color: #E8F0FE;\n",
              "      border: none;\n",
              "      border-radius: 50%;\n",
              "      cursor: pointer;\n",
              "      display: none;\n",
              "      fill: #1967D2;\n",
              "      height: 32px;\n",
              "      padding: 0 0 0 0;\n",
              "      width: 32px;\n",
              "    }\n",
              "\n",
              "    .colab-df-convert:hover {\n",
              "      background-color: #E2EBFA;\n",
              "      box-shadow: 0px 1px 2px rgba(60, 64, 67, 0.3), 0px 1px 3px 1px rgba(60, 64, 67, 0.15);\n",
              "      fill: #174EA6;\n",
              "    }\n",
              "\n",
              "    [theme=dark] .colab-df-convert {\n",
              "      background-color: #3B4455;\n",
              "      fill: #D2E3FC;\n",
              "    }\n",
              "\n",
              "    [theme=dark] .colab-df-convert:hover {\n",
              "      background-color: #434B5C;\n",
              "      box-shadow: 0px 1px 3px 1px rgba(0, 0, 0, 0.15);\n",
              "      filter: drop-shadow(0px 1px 2px rgba(0, 0, 0, 0.3));\n",
              "      fill: #FFFFFF;\n",
              "    }\n",
              "  </style>\n",
              "\n",
              "      <script>\n",
              "        const buttonEl =\n",
              "          document.querySelector('#df-5c4ae5df-d788-454e-bfe9-06f7863fcb85 button.colab-df-convert');\n",
              "        buttonEl.style.display =\n",
              "          google.colab.kernel.accessAllowed ? 'block' : 'none';\n",
              "\n",
              "        async function convertToInteractive(key) {\n",
              "          const element = document.querySelector('#df-5c4ae5df-d788-454e-bfe9-06f7863fcb85');\n",
              "          const dataTable =\n",
              "            await google.colab.kernel.invokeFunction('convertToInteractive',\n",
              "                                                     [key], {});\n",
              "          if (!dataTable) return;\n",
              "\n",
              "          const docLinkHtml = 'Like what you see? Visit the ' +\n",
              "            '<a target=\"_blank\" href=https://colab.research.google.com/notebooks/data_table.ipynb>data table notebook</a>'\n",
              "            + ' to learn more about interactive tables.';\n",
              "          element.innerHTML = '';\n",
              "          dataTable['output_type'] = 'display_data';\n",
              "          await google.colab.output.renderOutput(dataTable, element);\n",
              "          const docLink = document.createElement('div');\n",
              "          docLink.innerHTML = docLinkHtml;\n",
              "          element.appendChild(docLink);\n",
              "        }\n",
              "      </script>\n",
              "    </div>\n",
              "  </div>\n",
              "  "
            ],
            "text/plain": [
              "       Rating  Recntly Updated  Installs  IsFree   Reviews\n",
              "10201     4.0                0       5.0       1  2.851258\n",
              "3415      4.1                0       6.0       1  4.085647\n",
              "7036      4.4                1       5.0       1  3.925982\n",
              "4950      4.1                0       6.0       1  4.161098\n",
              "455       4.6                1       6.0       1  5.263338"
            ]
          },
          "metadata": {},
          "execution_count": 7
        }
      ]
    },
    {
      "cell_type": "markdown",
      "source": [
        "<div dir=rtl>\n",
        "<h4>\n",
        "נבצע רגרסיה לינארית:\n",
        "</h4>\n",
        "</div>"
      ],
      "metadata": {
        "id": "WWoxyz3RV3oK"
      }
    },
    {
      "cell_type": "code",
      "source": [
        "reg = LinearRegression()\n",
        "reg.fit(sample[['Recntly Updated', 'IsFree', 'Installs', 'Reviews']], sample['Rating'])\n",
        "\n",
        "print('The Coefficient Are:')\n",
        "beta_cova = [reg.intercept_] + list(reg.coef_)\n",
        "\n",
        "print(tabulate([['Coefficient'] + list([round(x, 2) for x in beta_cova])], headers=[' ', 'Bias', 'Recntly Updated', 'Installs', 'IsFree', 'Reviews']))"
      ],
      "metadata": {
        "colab": {
          "base_uri": "https://localhost:8080/",
          "height": 0
        },
        "id": "WU-w9ajgWAF9",
        "outputId": "1984b856-68d7-4eee-d57b-b5e549542a02"
      },
      "execution_count": 8,
      "outputs": [
        {
          "output_type": "stream",
          "name": "stdout",
          "text": [
            "The Coefficient Are:\n",
            "               Bias    Recntly Updated    Installs    IsFree    Reviews\n",
            "-----------  ------  -----------------  ----------  --------  ---------\n",
            "Coefficient    4.58               0.11       -0.02     -0.31       0.34\n"
          ]
        }
      ]
    },
    {
      "cell_type": "markdown",
      "source": [
        "<div dir=rtl>\n",
        "<h4>\n",
        "נשים לב כי ערך ה - Bias הוא גדול (יחסית לסט הנתונים בו הערך המקסימלי לדירוג הוא 5). הסיבה לכך היא כנראה העובדה שמרבית האפליקציות מקבלות דירוגים גבוהים, כפי שהצגנו בחלקים קודמים ובהיסטוגרמה למעלה.\n",
        "</h4>\n",
        "</div>"
      ],
      "metadata": {
        "id": "KKbZKkV11KmX"
      }
    },
    {
      "cell_type": "markdown",
      "source": [
        "<div dir=rtl>\n",
        "<h4>\n",
        "נמצא רווח סמך למקדמים:\n",
        "</h4>\n",
        "</div>"
      ],
      "metadata": {
        "id": "ATECohMwavLh"
      }
    },
    {
      "cell_type": "code",
      "source": [
        "conf_intervals = {}\n",
        "y = sample['Rating'].to_numpy()\n",
        "y_cova = reg.predict(sample[['Recntly Updated', 'IsFree', 'Installs', 'Reviews']])\n",
        "\n",
        "x_vals = sample[['Recntly Updated', 'IsFree', 'Installs', 'Reviews']].to_numpy()\n",
        "x_vals = np.c_[np.ones(len(x_vals)), x_vals] \n",
        "c = np.dot(x_vals.T, x_vals)\n",
        "c = np.linalg.pinv(c)\n",
        "eps_sigma =  sum([x**2 for x in y - y_cova])/(len(y))\n",
        "\n",
        "parm_list = ['Bias', 'Recntly Updated','IsFree', 'Installs', 'Reviews']\n",
        "i = 0\n",
        "for b in beta_cova:\n",
        "  conf_intervals[parm_list[i]] = [(b - norm.ppf(0.975, 0, 1)*eps_sigma*c[i][i], b + norm.ppf(0.975, 0, 1)*eps_sigma*c[i][i])]\n",
        "  print('Confidence Interval For The ', '\"', parm_list[i], '\"', 'Coefficient ', ': [', b - norm.ppf(0.975, 0, 1)*eps_sigma*c[i][i], ', ',  b + norm.ppf(0.975, 0, 1)*eps_sigma*c[i][i], ']')\n",
        "  i += 1"
      ],
      "metadata": {
        "colab": {
          "base_uri": "https://localhost:8080/",
          "height": 0
        },
        "id": "Ru6bLaiGa14G",
        "outputId": "4a68b8b6-497f-427c-d48c-3530a928b95b"
      },
      "execution_count": 9,
      "outputs": [
        {
          "output_type": "stream",
          "name": "stdout",
          "text": [
            "Confidence Interval For The  \" Bias \" Coefficient  : [ 4.566896852468495 ,  4.592361456034083 ]\n",
            "Confidence Interval For The  \" Recntly Updated \" Coefficient  : [ 0.10674771597653754 ,  0.11115628899991195 ]\n",
            "Confidence Interval For The  \" IsFree \" Coefficient  : [ -0.029348996409481364 ,  -0.009751695004374134 ]\n",
            "Confidence Interval For The  \" Installs \" Coefficient  : [ -0.3088275891351994 ,  -0.30432696549719446 ]\n",
            "Confidence Interval For The  \" Reviews \" Coefficient  : [ 0.3348728882102534 ,  0.3392440439113743 ]\n"
          ]
        }
      ]
    },
    {
      "cell_type": "markdown",
      "source": [
        "<div dir=rtl>\n",
        "<h4>\n",
        "ניתן לראות כי אורכי רווחי הסמך הם יחסית קטנים (בין 0.02 ל - 0.17) עד כדי כך שההשפעה של בחירת ערכים שונים מהם על ערך התחזית אינה משמעותית. הסיבה לכך היא כנראה העובדה (שהצגנו למעלה) שהשונות בנתונים היא יחסית קטנה.\n",
        "</h4>\n",
        "</div>"
      ],
      "metadata": {
        "id": "2RTUWhDudAKx"
      }
    },
    {
      "cell_type": "markdown",
      "source": [
        "<div dir=rtl>\n",
        "<h4>\n",
        "3. נמחוק 500 ערכים מערכי ה - Rating באופן הבא:\n",
        "</br>\n",
        "נמיין את ערכי ה  - Rating בסדר יורד וניתן לכל רשומה מספר סידורי בין - 0 ל - 999. \n",
        "לאחר מכן נבחר רשומה באופן רנדומאלי ונמחוק את ערך ה - Rating שלה בהסתברות $\\frac{1}{2 + \\frac{i}{100}}$ כאשר i הוא המספר הסידורי של הרשומה.\n",
        "נבצע זאת עד שנמחוק 500 רשומות.\n",
        "</br>\n",
        "</br>\n",
        "נציין כי חילוק i ב- 100 נעשה מכיוון שכאשר לא חילקנו ב - 100 קיבלנו כי כל הרשומות בעלי ערכים הגדולים מ - 4.5 נמחקו ורצינו ליצור מחיקה פחות ממוקדת).\n",
        "</h4>\n",
        "</div>"
      ],
      "metadata": {
        "id": "HauvorjAk3Kk"
      }
    },
    {
      "cell_type": "code",
      "source": [
        "sample_with_missing_data = sample.copy()\n",
        "\n",
        "sample_with_missing_data.sort_values(by=\"Rating\", ascending=False, inplace=True)\n",
        "sample_with_missing_data.reset_index(inplace=True, drop=True)\n",
        "np.random.seed(0)\n",
        "counts = 0\n",
        "null_indexes = []\n",
        "while(counts != 500):\n",
        "  index = np.random.choice(sample_with_missing_data.index)\n",
        "  if index in null_indexes:\n",
        "    continue\n",
        "  prob = np.random.binomial(size=1, n=1, p=1/(2 + index/100))[0]\n",
        "  if prob == 1:\n",
        "    sample_with_missing_data.at[index, 'Rating'] = np.nan\n",
        "    null_indexes.append(index)\n",
        "    counts += 1\n",
        "    if counts == 500:\n",
        "      break \n",
        "sample_with_missing_data.head()"
      ],
      "metadata": {
        "colab": {
          "base_uri": "https://localhost:8080/",
          "height": 206
        },
        "id": "9MSdmPB0nWcD",
        "outputId": "0deaee7f-8ee3-4a87-f8a3-734205c66d8a"
      },
      "execution_count": 10,
      "outputs": [
        {
          "output_type": "execute_result",
          "data": {
            "text/html": [
              "\n",
              "  <div id=\"df-a50ee476-f360-4e55-a28c-afe5f392568c\">\n",
              "    <div class=\"colab-df-container\">\n",
              "      <div>\n",
              "<style scoped>\n",
              "    .dataframe tbody tr th:only-of-type {\n",
              "        vertical-align: middle;\n",
              "    }\n",
              "\n",
              "    .dataframe tbody tr th {\n",
              "        vertical-align: top;\n",
              "    }\n",
              "\n",
              "    .dataframe thead th {\n",
              "        text-align: right;\n",
              "    }\n",
              "</style>\n",
              "<table border=\"1\" class=\"dataframe\">\n",
              "  <thead>\n",
              "    <tr style=\"text-align: right;\">\n",
              "      <th></th>\n",
              "      <th>Rating</th>\n",
              "      <th>Recntly Updated</th>\n",
              "      <th>Installs</th>\n",
              "      <th>IsFree</th>\n",
              "      <th>Reviews</th>\n",
              "    </tr>\n",
              "  </thead>\n",
              "  <tbody>\n",
              "    <tr>\n",
              "      <th>0</th>\n",
              "      <td>NaN</td>\n",
              "      <td>1</td>\n",
              "      <td>1.00000</td>\n",
              "      <td>1</td>\n",
              "      <td>0.90309</td>\n",
              "    </tr>\n",
              "    <tr>\n",
              "      <th>1</th>\n",
              "      <td>5.0</td>\n",
              "      <td>1</td>\n",
              "      <td>2.00000</td>\n",
              "      <td>1</td>\n",
              "      <td>1.00000</td>\n",
              "    </tr>\n",
              "    <tr>\n",
              "      <th>2</th>\n",
              "      <td>NaN</td>\n",
              "      <td>0</td>\n",
              "      <td>1.00000</td>\n",
              "      <td>0</td>\n",
              "      <td>0.00000</td>\n",
              "    </tr>\n",
              "    <tr>\n",
              "      <th>3</th>\n",
              "      <td>NaN</td>\n",
              "      <td>0</td>\n",
              "      <td>1.69897</td>\n",
              "      <td>1</td>\n",
              "      <td>0.69897</td>\n",
              "    </tr>\n",
              "    <tr>\n",
              "      <th>4</th>\n",
              "      <td>NaN</td>\n",
              "      <td>1</td>\n",
              "      <td>2.00000</td>\n",
              "      <td>1</td>\n",
              "      <td>0.69897</td>\n",
              "    </tr>\n",
              "  </tbody>\n",
              "</table>\n",
              "</div>\n",
              "      <button class=\"colab-df-convert\" onclick=\"convertToInteractive('df-a50ee476-f360-4e55-a28c-afe5f392568c')\"\n",
              "              title=\"Convert this dataframe to an interactive table.\"\n",
              "              style=\"display:none;\">\n",
              "        \n",
              "  <svg xmlns=\"http://www.w3.org/2000/svg\" height=\"24px\"viewBox=\"0 0 24 24\"\n",
              "       width=\"24px\">\n",
              "    <path d=\"M0 0h24v24H0V0z\" fill=\"none\"/>\n",
              "    <path d=\"M18.56 5.44l.94 2.06.94-2.06 2.06-.94-2.06-.94-.94-2.06-.94 2.06-2.06.94zm-11 1L8.5 8.5l.94-2.06 2.06-.94-2.06-.94L8.5 2.5l-.94 2.06-2.06.94zm10 10l.94 2.06.94-2.06 2.06-.94-2.06-.94-.94-2.06-.94 2.06-2.06.94z\"/><path d=\"M17.41 7.96l-1.37-1.37c-.4-.4-.92-.59-1.43-.59-.52 0-1.04.2-1.43.59L10.3 9.45l-7.72 7.72c-.78.78-.78 2.05 0 2.83L4 21.41c.39.39.9.59 1.41.59.51 0 1.02-.2 1.41-.59l7.78-7.78 2.81-2.81c.8-.78.8-2.07 0-2.86zM5.41 20L4 18.59l7.72-7.72 1.47 1.35L5.41 20z\"/>\n",
              "  </svg>\n",
              "      </button>\n",
              "      \n",
              "  <style>\n",
              "    .colab-df-container {\n",
              "      display:flex;\n",
              "      flex-wrap:wrap;\n",
              "      gap: 12px;\n",
              "    }\n",
              "\n",
              "    .colab-df-convert {\n",
              "      background-color: #E8F0FE;\n",
              "      border: none;\n",
              "      border-radius: 50%;\n",
              "      cursor: pointer;\n",
              "      display: none;\n",
              "      fill: #1967D2;\n",
              "      height: 32px;\n",
              "      padding: 0 0 0 0;\n",
              "      width: 32px;\n",
              "    }\n",
              "\n",
              "    .colab-df-convert:hover {\n",
              "      background-color: #E2EBFA;\n",
              "      box-shadow: 0px 1px 2px rgba(60, 64, 67, 0.3), 0px 1px 3px 1px rgba(60, 64, 67, 0.15);\n",
              "      fill: #174EA6;\n",
              "    }\n",
              "\n",
              "    [theme=dark] .colab-df-convert {\n",
              "      background-color: #3B4455;\n",
              "      fill: #D2E3FC;\n",
              "    }\n",
              "\n",
              "    [theme=dark] .colab-df-convert:hover {\n",
              "      background-color: #434B5C;\n",
              "      box-shadow: 0px 1px 3px 1px rgba(0, 0, 0, 0.15);\n",
              "      filter: drop-shadow(0px 1px 2px rgba(0, 0, 0, 0.3));\n",
              "      fill: #FFFFFF;\n",
              "    }\n",
              "  </style>\n",
              "\n",
              "      <script>\n",
              "        const buttonEl =\n",
              "          document.querySelector('#df-a50ee476-f360-4e55-a28c-afe5f392568c button.colab-df-convert');\n",
              "        buttonEl.style.display =\n",
              "          google.colab.kernel.accessAllowed ? 'block' : 'none';\n",
              "\n",
              "        async function convertToInteractive(key) {\n",
              "          const element = document.querySelector('#df-a50ee476-f360-4e55-a28c-afe5f392568c');\n",
              "          const dataTable =\n",
              "            await google.colab.kernel.invokeFunction('convertToInteractive',\n",
              "                                                     [key], {});\n",
              "          if (!dataTable) return;\n",
              "\n",
              "          const docLinkHtml = 'Like what you see? Visit the ' +\n",
              "            '<a target=\"_blank\" href=https://colab.research.google.com/notebooks/data_table.ipynb>data table notebook</a>'\n",
              "            + ' to learn more about interactive tables.';\n",
              "          element.innerHTML = '';\n",
              "          dataTable['output_type'] = 'display_data';\n",
              "          await google.colab.output.renderOutput(dataTable, element);\n",
              "          const docLink = document.createElement('div');\n",
              "          docLink.innerHTML = docLinkHtml;\n",
              "          element.appendChild(docLink);\n",
              "        }\n",
              "      </script>\n",
              "    </div>\n",
              "  </div>\n",
              "  "
            ],
            "text/plain": [
              "   Rating  Recntly Updated  Installs  IsFree  Reviews\n",
              "0     NaN                1   1.00000       1  0.90309\n",
              "1     5.0                1   2.00000       1  1.00000\n",
              "2     NaN                0   1.00000       0  0.00000\n",
              "3     NaN                0   1.69897       1  0.69897\n",
              "4     NaN                1   2.00000       1  0.69897"
            ]
          },
          "metadata": {},
          "execution_count": 10
        }
      ]
    },
    {
      "cell_type": "markdown",
      "source": [
        "<div dir=rtl>\n",
        "<h4>\n",
        "בגרף ה - boxplot הבא, ניתן לראות כי יש הבדל בין סט הנתונים המקורי לסט הנתונים בו יש נתונים חסרים וכי אכן נראה כי הערכי ה - Rating נוטים להיות   יותר נמוכים בסט בו יש נתונים חסרים אך ההבד אינו גדול במיוחד.\n",
        "</h4>\n",
        "</div>"
      ],
      "metadata": {
        "id": "k6sLBq5zert9"
      }
    },
    {
      "cell_type": "code",
      "source": [
        "temp1 = sample_with_missing_data.copy()\n",
        "temp1['Data Sample'] = 'Missing Data'\n",
        "temp2 = sample.copy()\n",
        "temp2['Data Sample'] = 'All Data'\n",
        "df_to_plot = pd.concat([temp1, temp2])\n",
        "sns.set_theme(style=\"whitegrid\")\n",
        "sns.boxplot(x='Data Sample', y = 'Rating', data=df_to_plot)\n",
        "plt.show()"
      ],
      "metadata": {
        "colab": {
          "base_uri": "https://localhost:8080/",
          "height": 354
        },
        "id": "ggMScBwG6d_Y",
        "outputId": "8f9f4f2e-4ad7-422a-bda5-67eb312c90e4"
      },
      "execution_count": 11,
      "outputs": [
        {
          "output_type": "display_data",
          "data": {
            "image/png": "[encoded data removed]",
            "text/plain": [
              "<Figure size 626.4x379.44 with 1 Axes>"
            ]
          },
          "metadata": {}
        }
      ]
    },
    {
      "cell_type": "markdown",
      "source": [
        "<div dir=rtl>\n",
        "<h4>\n",
        "4.\n",
        "<br>\n",
        "א. נבצע רגרסיה לינארית על סמך הנתונים השלמים בלבד:\n",
        "</h4>\n",
        "</div>"
      ],
      "metadata": {
        "id": "F2q84w-Muq3C"
      }
    },
    {
      "cell_type": "code",
      "source": [
        "comp_data = sample_with_missing_data.dropna()\n",
        "reg = LinearRegression()\n",
        "reg.fit(comp_data[['Recntly Updated', 'Installs', 'IsFree',  'Reviews']], comp_data['Rating'])\n",
        "print('The Coefficient Are:')\n",
        "beta_cova = [reg.intercept_] + list(reg.coef_)\n",
        "\n",
        "print(tabulate([['Coefficient'] + list([round(x, 2) for x in beta_cova])], headers=[' ', 'Bias', 'Recntly Updated', 'Installs', 'IsFree',  'Reviews']))"
      ],
      "metadata": {
        "colab": {
          "base_uri": "https://localhost:8080/",
          "height": 0
        },
        "id": "7cWoRcUovGmy",
        "outputId": "aecd219f-c64d-4f46-9d1b-0150a69cc166"
      },
      "execution_count": 12,
      "outputs": [
        {
          "output_type": "stream",
          "name": "stdout",
          "text": [
            "The Coefficient Are:\n",
            "               Bias    Recntly Updated    Installs    IsFree    Reviews\n",
            "-----------  ------  -----------------  ----------  --------  ---------\n",
            "Coefficient    4.22               0.07       -0.22     -0.13       0.31\n"
          ]
        }
      ]
    },
    {
      "cell_type": "markdown",
      "source": [
        "<div dir=rtl>\n",
        "<h4>\n",
        "נשים לב כי ערך ה - Bias קטן יותר מהערך שהתקבל כאשר ביצענו רגרסיה על כל הנתונים. הסיבה לכך היא שמחיקת הנתונים עם הסתברות גבוהה יותר עבור ערכים גבוהים גרמה לכך שתוחלת ה - Rating קטנה.\n",
        "</h4>\n",
        "</div>"
      ],
      "metadata": {
        "id": "XazW2rde7V0I"
      }
    },
    {
      "cell_type": "code",
      "source": [
        "y = comp_data['Rating'].to_numpy()\n",
        "y_cova = reg.predict(comp_data[['Recntly Updated', 'Installs', 'IsFree',  'Reviews']])\n",
        "\n",
        "x_vals = comp_data[['Recntly Updated', 'Installs', 'IsFree',  'Reviews']].to_numpy()\n",
        "x_vals = np.c_[np.ones(len(x_vals)), x_vals] \n",
        "c = np.dot(x_vals.T, x_vals)\n",
        "c = np.linalg.pinv(c)\n",
        "\n",
        "eps_sigma =  sum([x**2 for x in y - y_cova])/(len(y))\n",
        "\n",
        "parm_list = ['Bias', 'Recntly Updated', 'Installs', 'IsFree',  'Reviews']\n",
        "i = 0\n",
        "for b in beta_cova:\n",
        "  conf_intervals[parm_list[i]].append((b - norm.ppf(0.975, 0, 1)*eps_sigma*c[i][i], b + norm.ppf(0.975, 0, 1)*eps_sigma*c[i][i]))\n",
        "  print('Confidence Interval For The ', '\"', parm_list[i], '\"', 'Coefficient ', ': [', b - norm.ppf(0.975, 0, 1)*eps_sigma*c[i][i], ', ',  b + norm.ppf(0.975, 0, 1)*eps_sigma*c[i][i], ']')\n",
        "  i += 1"
      ],
      "metadata": {
        "colab": {
          "base_uri": "https://localhost:8080/",
          "height": 0
        },
        "id": "yPFWgbLYvaYC",
        "outputId": "041da3d2-18b4-499a-b4a0-f26d333b7bb1"
      },
      "execution_count": 13,
      "outputs": [
        {
          "output_type": "stream",
          "name": "stdout",
          "text": [
            "Confidence Interval For The  \" Bias \" Coefficient  : [ 4.194075351238382 ,  4.248437719094774 ]\n",
            "Confidence Interval For The  \" Recntly Updated \" Coefficient  : [ 0.065423441761677 ,  0.07380109260682063 ]\n",
            "Confidence Interval For The  \" Installs \" Coefficient  : [ -0.22243050036187376 ,  -0.2133895938065775 ]\n",
            "Confidence Interval For The  \" IsFree \" Coefficient  : [ -0.14565716261779124 ,  -0.10587947586356757 ]\n",
            "Confidence Interval For The  \" Reviews \" Coefficient  : [ 0.30709906719111885 ,  0.31566510263700115 ]\n"
          ]
        }
      ]
    },
    {
      "cell_type": "markdown",
      "source": [
        "<div dir=rtl>\n",
        "<h4>\n",
        "קיבלנו אורכי רווחי סמך מעט גדולים יותר (אך עדיין קטנים). סיבה אפשרית לכך היא שכעט השתמשנו בהרבה בפחות נתונים (ובפרט השונות גדלה) ולכן קיבלו רווחי סמך יותר גדולים.\n",
        "</h4>\n",
        "</div>"
      ],
      "metadata": {
        "id": "Qq5ArGEruFio"
      }
    },
    {
      "cell_type": "markdown",
      "source": [
        "<div dir=rtl>\n",
        "<h4>\n",
        "4.\n",
        "<br>\n",
        "ב. נשלים את הנתונים החסרים באמצעות regression imputation ונבצע רגרסיה לינארית:\n",
        "</h4>\n",
        "</div>"
      ],
      "metadata": {
        "id": "zPJI6XwNFe9Y"
      }
    },
    {
      "cell_type": "code",
      "source": [
        "comp_data = sample_with_missing_data.dropna()\n",
        "reg_imp_df = sample_with_missing_data.copy()\n",
        "reg = LinearRegression()\n",
        "reg.fit(comp_data[['Recntly Updated', 'Installs', 'IsFree',  'Reviews']], comp_data['Rating'])\n",
        "\n",
        "reg_imp_df.loc[sample_with_missing_data['Rating'].isnull(), 'Rating'] = reg.predict(sample_with_missing_data[sample_with_missing_data['Rating'].isnull()][['Recntly Updated', 'Installs', 'IsFree',  'Reviews']])\n",
        "\n",
        "reg = LinearRegression()\n",
        "reg.fit(reg_imp_df[['Recntly Updated', 'Installs', 'IsFree',  'Reviews']], reg_imp_df['Rating'])\n",
        "\n",
        "print('The Coefficient Are:')\n",
        "beta_cova = [reg.intercept_] + list(reg.coef_)\n",
        "\n",
        "print(tabulate([['Coefficient'] + list([round(x, 2) for x in beta_cova])], headers=[' ', 'Bias', 'Recntly Updated', 'Installs', 'IsFree',  'Reviews']))\n"
      ],
      "metadata": {
        "colab": {
          "base_uri": "https://localhost:8080/",
          "height": 0
        },
        "id": "7H12O0TmFNKo",
        "outputId": "3c325051-a5d5-43b6-a96f-69f4935c7981"
      },
      "execution_count": 28,
      "outputs": [
        {
          "output_type": "stream",
          "name": "stdout",
          "text": [
            "The Coefficient Are:\n",
            "               Bias    Recntly Updated    Installs    IsFree    Reviews\n",
            "-----------  ------  -----------------  ----------  --------  ---------\n",
            "Coefficient    4.22               0.07       -0.22     -0.13       0.31\n"
          ]
        }
      ]
    },
    {
      "cell_type": "markdown",
      "source": [
        "<div dir=rtl>\n",
        "<h4>\n",
        "המקדמים שקיבלנו לאחר השלמת הנתונים באמצעות regression imputation זהים למקדמים שקיבלנו כאשר בצענו רגרסיה אך ורק לפי הנתונים השלמים. הסיבה לכך היא \"שביצענו רגרסיה על מנת לבצע רגרסיה\", כלומר השלמנו את הנתונים החסרים באמצעות רגרסיה ולכן כאשר התאמנו מודל רגרסיה עבור כל הנתונים (כולל הנתונים שהשלמנו) המודל שמתאים לנתונים השלמים מתאים בצורה מדויקת לנתונים שהשלמנו (הנתונים שהשלמנו \"באמת\" באים מהמודל הלינארי שמצאנו) ואין צורך לשנותו.\n",
        "</h4>\n",
        "</div>"
      ],
      "metadata": {
        "id": "NCxXx8ecuw37"
      }
    },
    {
      "cell_type": "code",
      "source": [
        "y = reg_imp_df['Rating'].to_numpy()\n",
        "y_cova = reg.predict(reg_imp_df[['Recntly Updated', 'Installs', 'IsFree',  'Reviews']])\n",
        "\n",
        "x_vals = reg_imp_df[['Recntly Updated', 'Installs', 'IsFree',  'Reviews']].to_numpy()\n",
        "x_vals = np.c_[np.ones(len(x_vals)), x_vals] \n",
        "c = np.dot(x_vals.T, x_vals)\n",
        "c = np.linalg.pinv(c)\n",
        "\n",
        "eps_sigma =  sum([x**2 for x in y - y_cova])/(len(y))\n",
        "\n",
        "parm_list = ['Bias', 'Recntly Updated', 'Installs', 'IsFree',  'Reviews']\n",
        "i = 0\n",
        "for b in beta_cova:\n",
        "  conf_intervals[parm_list[i]].append((b - norm.ppf(0.975, 0, 1)*eps_sigma*c[i][i], b + norm.ppf(0.975, 0, 1)*eps_sigma*c[i][i]))\n",
        "  print('Confidence Interval For The ', '\"', parm_list[i], '\"', 'Coefficient ', ': [', b - norm.ppf(0.975, 0, 1)*eps_sigma*c[i][i], ', ',  b + norm.ppf(0.975, 0, 1)*eps_sigma*c[i][i], ']')\n",
        "  i += 1"
      ],
      "metadata": {
        "colab": {
          "base_uri": "https://localhost:8080/",
          "height": 0
        },
        "id": "vYhlbUzZHxcY",
        "outputId": "f2e73284-5c38-43e2-f7d1-f71fcd3ae503"
      },
      "execution_count": 29,
      "outputs": [
        {
          "output_type": "stream",
          "name": "stdout",
          "text": [
            "Confidence Interval For The  \" Bias \" Coefficient  : [ 4.215206112705456 ,  4.2273069576277 ]\n",
            "Confidence Interval For The  \" Recntly Updated \" Coefficient  : [ 0.06856478458066514 ,  0.0706597497878334 ]\n",
            "Confidence Interval For The  \" Installs \" Coefficient  : [ -0.21897940103188476 ,  -0.21684069313656626 ]\n",
            "Confidence Interval For The  \" IsFree \" Coefficient  : [ -0.13042466318467325 ,  -0.12111197529668537 ]\n",
            "Confidence Interval For The  \" Reviews \" Coefficient  : [ 0.3103434927142243 ,  0.31242067711389515 ]\n"
          ]
        }
      ]
    },
    {
      "cell_type": "markdown",
      "source": [
        "<div dir=rtl>\n",
        "<h4>\n",
        "רווחי הסמך שקיבלנו קטנים משמעותית מרווחי הסמך שקיבלנו כאשר בצענו רגרסיה רק על הנתונים השלמים (בין 0.006 ל - 0.02). הסיבה לכך היא ש - 500 מתוך הרשומות בסט הנתונים \"באמת\" הגיעו מהמודל הלינארי שמצאנו (כפי שציינו קודם) ולכן המודל \"יותר בטוח בעצמו\".\n",
        "</h4>\n",
        "</div>"
      ],
      "metadata": {
        "id": "mpAzazYutAjw"
      }
    },
    {
      "cell_type": "markdown",
      "source": [
        "<div dir=rtl>\n",
        "<h4>\n",
        "4.\n",
        "<br>\n",
        "ג. נשלים את הנתונים החסרים באמצעות multiple imputation ונבצע רגרסיה לינארית:\n",
        "</h4>\n",
        "</div>"
      ],
      "metadata": {
        "id": "ZVuVGASjHj9R"
      }
    },
    {
      "cell_type": "code",
      "source": [
        "comp_data = sample_with_missing_data.dropna()\n",
        "reg = LinearRegression()\n",
        "reg.fit(comp_data[['Recntly Updated', 'Installs', 'IsFree',  'Reviews']], comp_data['Rating'])\n",
        "\n",
        "sigma = 1\n",
        "M = 1000\n",
        "y_reg = reg.predict(sample_with_missing_data[sample_with_missing_data['Rating'].isnull()][['Recntly Updated', 'Installs', 'IsFree',  'Reviews']])\n",
        "vars = [0, 0, 0, 0, 0]\n",
        "beta_M = []\n",
        "for m in range(M):\n",
        "  reg_imp_df = sample_with_missing_data.copy()\n",
        "  y_m = []\n",
        "  for i in range(len(y_reg)):\n",
        "    y_m.append(np.random.normal(y_reg[i], sigma, 1)[0])\n",
        "\n",
        "  reg_imp_df.loc[sample_with_missing_data['Rating'].isnull(), 'Rating'] = y_m\n",
        "  reg = LinearRegression()\n",
        "  reg.fit(reg_imp_df[['Recntly Updated', 'Installs', 'IsFree',  'Reviews']], reg_imp_df['Rating'])\n",
        "  beta_M.append([reg.intercept_] + list(reg.coef_))\n",
        "\n",
        "  y = reg_imp_df['Rating'].to_numpy()\n",
        "  y_cova = reg.predict(reg_imp_df[['Recntly Updated', 'Installs', 'IsFree',  'Reviews']])\n",
        "  x_vals = reg_imp_df[['Recntly Updated', 'Installs', 'IsFree',  'Reviews']].to_numpy()\n",
        "  x_vals = np.c_[np.ones(len(x_vals)), x_vals]\n",
        "  c = np.dot(x_vals.T, x_vals)\n",
        "  c = np.linalg.pinv(c)\n",
        "  eps_sigma =  sum([x**2 for x in y - y_cova])/(len(y))\n",
        "  for i in range(len(beta_M[0])):\n",
        "    vars[i] += eps_sigma*c[i][i]\n",
        "\n",
        "beta_M = np.array(beta_M).T\n",
        "beta_cova = [np.mean(beta_M[0]), np.mean(beta_M[1]), np.mean(beta_M[2]), np.mean(beta_M[3]), np.mean(beta_M[4])]\n",
        "\n",
        "\n",
        "print('The Coefficient Are:')\n",
        "print(tabulate([['Coefficient'] + list([round(x, 2) for x in beta_cova])], headers=[' ', 'Bias', 'Recntly Updated', 'Installs', 'IsFree',  'Reviews']))"
      ],
      "metadata": {
        "colab": {
          "base_uri": "https://localhost:8080/",
          "height": 0
        },
        "id": "k2pXyJy1TpDC",
        "outputId": "09fbf70a-da5a-4222-c446-93f447b791b2"
      },
      "execution_count": 16,
      "outputs": [
        {
          "output_type": "stream",
          "name": "stdout",
          "text": [
            "The Coefficient Are:\n",
            "               Bias    Recntly Updated    Installs    IsFree    Reviews\n",
            "-----------  ------  -----------------  ----------  --------  ---------\n",
            "Coefficient    4.22               0.07       -0.22     -0.13       0.31\n"
          ]
        }
      ]
    },
    {
      "cell_type": "markdown",
      "source": [
        "<div dir=rtl>\n",
        "<h4>\n",
        "בהרצאה ראינו כי האומדים המתקבלים כאשר משתמשים ב - multiple imputation זהים לאומדים המתקבלים מ - regression imputation, ואכן קיבלנו מקדמי רגרסיה זהים  לאלו שקיבלנו קודם.\n",
        "</h4>\n",
        "</div>"
      ],
      "metadata": {
        "id": "t910UOFWxfOW"
      }
    },
    {
      "cell_type": "markdown",
      "source": [
        "<div dir=rtl>\n",
        "<h4>\n",
        "4.\n",
        "<br>\n",
        "ד. נשתמש באומד של רובין ונחשב רווחי סמך:\n",
        "</h4>\n",
        "</div>"
      ],
      "metadata": {
        "id": "auwRmJFZWox_"
      }
    },
    {
      "cell_type": "code",
      "source": [
        "parm_list = ['Bias', 'Recntly Updated', 'Installs', 'IsFree',  'Reviews']\n",
        "i = 0\n",
        "for b in beta_cova:\n",
        "  vars[i] /= M\n",
        "  vars[i] += ((M + 1)/(M*(M - 1)))*sum([x**2 for x in beta_M[i] - b])\n",
        "  conf_intervals[parm_list[i]].append((b - norm.ppf(0.975, 0, 1)*vars[i], b + norm.ppf(0.975, 0, 1)*vars[i]))\n",
        "  print('Confidence Interval For The ', '\"', parm_list[i], '\"', 'Coefficient ', ': [', b - norm.ppf(0.975, 0, 1)*vars[i], ', ',  b + norm.ppf(0.975, 0, 1)*vars[i], ']')\n",
        "  i += 1"
      ],
      "metadata": {
        "colab": {
          "base_uri": "https://localhost:8080/",
          "height": 0
        },
        "id": "FBpLZ6tNW1uv",
        "outputId": "d803fb6a-207b-4173-8c6e-77e71998cb66"
      },
      "execution_count": 17,
      "outputs": [
        {
          "output_type": "stream",
          "name": "stdout",
          "text": [
            "Confidence Interval For The  \" Bias \" Coefficient  : [ 4.153906223276284 ,  4.2804599806212185 ]\n",
            "Confidence Interval For The  \" Recntly Updated \" Coefficient  : [ 0.059319153913024864 ,  0.07985372097418036 ]\n",
            "Confidence Interval For The  \" Installs \" Coefficient  : [ -0.22588075011730993 ,  -0.20507229701754728 ]\n",
            "Confidence Interval For The  \" IsFree \" Coefficient  : [ -0.1731321399859038 ,  -0.08203562484872143 ]\n",
            "Confidence Interval For The  \" Reviews \" Coefficient  : [ 0.2994595521174938 ,  0.31929963884438645 ]\n"
          ]
        }
      ]
    },
    {
      "cell_type": "markdown",
      "source": [
        "<div dir=rtl>\n",
        "<h4>\n",
        "כצפוי,\n",
        "אורכי רווחי הסמך שקיבלנו גדולים יותר מאורכי רווחי הסמך שקיבלנו כאשר השלמנו באמצאות regrassion imputation שכן שיטת multiple imputation  מגדילה את השונות.\n",
        "</h4>\n",
        "</div>"
      ],
      "metadata": {
        "id": "Tt--7SMxzPKU"
      }
    },
    {
      "cell_type": "markdown",
      "source": [
        "<div dir=rtl>\n",
        "<h4>\n",
        "4.\n",
        "<br>\n",
        "ה. נשתמש ברגרסיה לוגיסטית על מנת לחשב את $P(R = 1|X_1,...X_k)$:\n",
        "</h4>\n",
        "</div>"
      ],
      "metadata": {
        "id": "DrtKahKEpxJa"
      }
    },
    {
      "cell_type": "code",
      "source": [
        "sample_with_missing_data['R'] = sample_with_missing_data.Rating.apply(lambda x: 1 if not math.isnan(x) else 0)\n",
        "\n",
        "log_reg = LogisticRegression()\n",
        "log_reg.fit(sample_with_missing_data[['Recntly Updated', 'Installs', 'IsFree',  'Reviews']], sample_with_missing_data['R'])\n",
        "\n",
        "proba = log_reg.predict_proba(comp_data[['Recntly Updated', 'Installs', 'IsFree', 'Reviews']]).T[0]"
      ],
      "metadata": {
        "id": "S-_sVuIwp3Q2"
      },
      "execution_count": 18,
      "outputs": []
    },
    {
      "cell_type": "markdown",
      "source": [
        "<div dir=rtl>\n",
        "<h4>\n",
        "4.\n",
        "<br>\n",
        "ו. נמצא אומד PWI למקדמי הרגרסיה:\n",
        "</br>\n",
        "נסמן ב - $X_i$ את המשתנים המסבירים ברשומה ה - i ונסמן $\\hatπ(X_i) ≡ \\hat{P}(R = 1|X_{i,1},...,X_{i,k})$.\n",
        "</br>\n",
        "\n",
        "<br>\n",
        "אומד PWI ל - $β$ יהיה:\n",
        "<br>  \n",
        "</h4>\n",
        "<h2>\n",
        "\\begin{align}\n",
        "\\hatβ = arg\\min_{β} \\sum_{i=1}^n\\frac{R_i}{\\hatπ(X_i)}\\cdot (X_i^T\\beta - Y_i)^2 = \n",
        "arg\\min_{β} \\sum_{i:not\\space missing}\\left( \\frac{X_i^T\\beta - Y_i}{\\sqrt{\\hatπ(X_i)}}\\right)^2\n",
        "\\end{align}\n",
        "</h2>\n",
        "<h4>\n",
        "</br>\n",
        "נסמן : $\\tilde{Y} =\\begin{pmatrix}\n",
        "           \\frac{Y_{1}}{\\sqrt{\\hatπ(X_1)}} \\\\\n",
        "           \\frac{Y_{2}}{\\sqrt{\\hatπ(X_2)}} \\\\\n",
        "           \\vdots \\\\\n",
        "           \\frac{Y_{n}}{\\sqrt{\\hatπ(X_n)}}\n",
        "         \\end{pmatrix}\n",
        ",  \n",
        "\\tilde{X} =\\begin{pmatrix}\n",
        "           -\\frac{X_{1}^T}{\\sqrt{\\hatπ(X_1)}}- \\\\\n",
        "           -\\frac{X_{2}^T}{\\sqrt{\\hatπ(X_2)}}-\\\\\n",
        "           \\vdots \\\\\n",
        "           -\\frac{X_{n}^T}{\\sqrt{\\hatπ(X_n)}}-\n",
        "         \\end{pmatrix}$   \n",
        "ונקבל:\n",
        "<h2>\n",
        "\\begin{align}\n",
        "\\hatβ = arg\\min_{β} ||\\tilde{X}β - \\tilde{Y}||^2_2\n",
        "\\end{align}\n",
        "</h2>    \n",
        "</h4>\n",
        "</div>"
      ],
      "metadata": {
        "id": "zDO9bYoZwj-B"
      }
    },
    {
      "cell_type": "markdown",
      "source": [
        "<div dir=rtl>\n",
        "<h4>\n",
        "מקדמי הרגירסיה הם:\n",
        "</h4>\n",
        "</div>"
      ],
      "metadata": {
        "id": "h-dpWHgBz1_m"
      }
    },
    {
      "cell_type": "code",
      "source": [
        "x_mat = comp_data[['Recntly Updated', 'Installs', 'IsFree', 'Reviews']].to_numpy()\n",
        "x_mat = np.c_[np.ones(len(x_mat)), x_mat]\n",
        "y = comp_data['Rating'].to_numpy()\n",
        "\n",
        "x_mat = np.array([1/np.sqrt(proba[i]) * x_mat[i] for i in range(len(x_mat))])\n",
        "y = np.array([1/np.sqrt(proba[i]) * y[i] for i in range(len(x_mat))])\n",
        "\n",
        "beta_ipw = np.linalg.inv(x_mat.T@x_mat) @ x_mat.T@y\n",
        "\n",
        "print('The Coefficient Are:')\n",
        "print(tabulate([['Coefficient'] + list([round(x, 2) for x in beta_ipw])], headers=[' ', 'Bias', 'Recntly Updated', 'Installs', 'IsFree',  'Reviews']))"
      ],
      "metadata": {
        "colab": {
          "base_uri": "https://localhost:8080/",
          "height": 0
        },
        "id": "4VfhftEOSpm-",
        "outputId": "5dc124c2-cad5-48e0-909f-c461cf02541e"
      },
      "execution_count": 19,
      "outputs": [
        {
          "output_type": "stream",
          "name": "stdout",
          "text": [
            "The Coefficient Are:\n",
            "               Bias    Recntly Updated    Installs    IsFree    Reviews\n",
            "-----------  ------  -----------------  ----------  --------  ---------\n",
            "Coefficient    4.22               0.07        -0.2     -0.16        0.3\n"
          ]
        }
      ]
    },
    {
      "cell_type": "markdown",
      "source": [
        "<div dir=rtl>\n",
        "<h4>\n",
        "קיבלנו מקדמי רגרסיה דומים למקדמים שקיבלנו בסיעיפים הקודמים.\n",
        "</h4>\n",
        "</div>"
      ],
      "metadata": {
        "id": "ZzqKO4X27Fyk"
      }
    },
    {
      "cell_type": "markdown",
      "source": [
        "<div dir=rtl>\n",
        "<h4>\n",
        "4.\n",
        "<br>\n",
        "ז. נמצא רווחי סמך למקדמים באמצעות בוטסראפ:\n",
        "</h4>\n",
        "</div>"
      ],
      "metadata": {
        "id": "Q9p1P-zM8S4A"
      }
    },
    {
      "cell_type": "code",
      "source": [
        "B = 500\n",
        "M = 100\n",
        "betas_bootstrap = [[] for _ in range(5)]\n",
        "for i in range(B):\n",
        "    sample_all = comp_data.sample(M, replace = True).reset_index(inplace = False)\n",
        "    sample_x = sample_all[['Recntly Updated', 'Installs', 'IsFree', 'Reviews']].to_numpy()\n",
        "    sample_x = np.c_[np.ones(len(sample_x)), sample_x]\n",
        "    sample_y = sample_all['Rating'].to_numpy()\n",
        "    \n",
        "    sample_x = np.array([1/np.sqrt(proba[i]) * sample_x[i] for i in range(len(sample_x))])\n",
        "    sample_y = np.array([1/np.sqrt(proba[i]) * sample_y[i] for i in range(len(sample_x))])\n",
        "    curr_beta_ipw = np.linalg.pinv(sample_x.T@sample_x) @ sample_x.T@sample_y\n",
        "\n",
        "    for i in range(len(curr_beta_ipw)):\n",
        "        betas_bootstrap[i].append(curr_beta_ipw[i])\n",
        "vars = []\n",
        "for i in range(5):\n",
        "    vars.append(np.var(np.array(betas_bootstrap[i])))\n",
        "for i,b in enumerate(beta_ipw):\n",
        "  conf_intervals[parm_list[i]].append((b - norm.ppf(0.975, 0, 1)*vars[i],b + norm.ppf(0.975, 0, 1)*vars[i]))\n",
        "  print('Confidence Interval For Coefficient Number ', i, ': [', b - norm.ppf(0.975, 0, 1)*vars[i], ', ',  b + norm.ppf(0.975, 0, 1)*vars[i], ']')\n"
      ],
      "metadata": {
        "colab": {
          "base_uri": "https://localhost:8080/",
          "height": 0
        },
        "id": "dunIkijLklYe",
        "outputId": "6a902f9e-66d6-4cfe-f8ee-f6e46325bc43"
      },
      "execution_count": 20,
      "outputs": [
        {
          "output_type": "stream",
          "name": "stdout",
          "text": [
            "Confidence Interval For Coefficient Number  0 : [ 3.9256337797077583 ,  4.508520220632662 ]\n",
            "Confidence Interval For Coefficient Number  1 : [ 0.048702208993783414 ,  0.09139509266079715 ]\n",
            "Confidence Interval For Coefficient Number  2 : [ -0.24726265717244358 ,  -0.16098921638512473 ]\n",
            "Confidence Interval For Coefficient Number  3 : [ -0.3321905611741665 ,  0.016462627124625484 ]\n",
            "Confidence Interval For Coefficient Number  4 : [ 0.2670216689982886 ,  0.33381898845046376 ]\n"
          ]
        }
      ]
    },
    {
      "cell_type": "markdown",
      "source": [
        "<div dir=rtl>\n",
        "<h4>\n",
        "בניגוד לסעיפים הקודמים, רווחי הסמך שקיבלנו הם יחסית ארוכים (ואף חלקם מכילים את האומד שהתקבל מהרגרסיה על כל הנתונים). אנו משערים שתוצאה זו נובעת מהשיטה לבניית רווחי הסמך, בוטסטראפ, \"שמכניסה\" יותר שונות.\n",
        "</h4>\n",
        "</div>"
      ],
      "metadata": {
        "id": "sni3XwRY7SUP"
      }
    },
    {
      "cell_type": "markdown",
      "source": [
        "<div dir=rtl>\n",
        "<h4>\n",
        "4.\n",
        "<br>\n",
        "ח. לכל מקדם, נציג את רווחי הסמך שהתקבלו מכל שיטה:\n",
        "</h4>\n",
        "</div>"
      ],
      "metadata": {
        "id": "NBCFhpkYw3k4"
      }
    },
    {
      "cell_type": "code",
      "source": [
        "def plot_ci(parm, color):\n",
        "  plt.yticks(np.arange(5), ['All Data', 'Only Complete Data', 'Regression Imputation', 'Mulitple Imputation', 'IPW'])\n",
        "  i = 0\n",
        "  for c in conf_intervals[parm]: \n",
        "    plt.plot(c, [i, i], linewidth=10, color=color, alpha =0.8)\n",
        "    plt.scatter([c[0]/2 + c[1]/2], [i], color='black', linewidths=0.01)\n",
        "    i += 1\n",
        "  plt.title('CI For Confidence \"' + parm + '\"')\n",
        "  plt.show()"
      ],
      "metadata": {
        "id": "BCUyvxeP9RWb"
      },
      "execution_count": 21,
      "outputs": []
    },
    {
      "cell_type": "code",
      "source": [
        "sns.set(rc={'figure.figsize':(5.7,5.27)})\n",
        "\n",
        "color_list = ['b', 'r', 'y', 'g', 'pink']\n",
        "j = 0\n",
        "\n",
        "plot_ci(parm_list[j], color_list[j])\n",
        "j += 1"
      ],
      "metadata": {
        "colab": {
          "base_uri": "https://localhost:8080/",
          "height": 353
        },
        "id": "MuMRh1BT9dDa",
        "outputId": "9c374c8d-d210-44e1-c13e-ec5807a0c04e"
      },
      "execution_count": 22,
      "outputs": [
        {
          "output_type": "display_data",
          "data": {
            "image/png": "[encoded data removed]",
            "text/plain": [
              "<Figure size 410.4x379.44 with 1 Axes>"
            ]
          },
          "metadata": {}
        }
      ]
    },
    {
      "cell_type": "code",
      "source": [
        "sns.set(rc={'figure.figsize':(5.7,5.27)})\n",
        "\n",
        "plot_ci(parm_list[j], color_list[j])\n",
        "j += 1"
      ],
      "metadata": {
        "colab": {
          "base_uri": "https://localhost:8080/",
          "height": 353
        },
        "id": "U_oe073292u5",
        "outputId": "c1863ab5-8959-437f-accb-8db2fcb93a5e"
      },
      "execution_count": 23,
      "outputs": [
        {
          "output_type": "display_data",
          "data": {
            "image/png": "[encoded data removed]",
            "text/plain": [
              "<Figure size 410.4x379.44 with 1 Axes>"
            ]
          },
          "metadata": {}
        }
      ]
    },
    {
      "cell_type": "code",
      "source": [
        "sns.set(rc={'figure.figsize':(5.7,5.27)})\n",
        "\n",
        "plot_ci(parm_list[j], color_list[j])\n",
        "j += 1"
      ],
      "metadata": {
        "colab": {
          "base_uri": "https://localhost:8080/",
          "height": 353
        },
        "id": "szJ60p0T98kx",
        "outputId": "fc1c111f-be31-430f-d212-8050421a369d"
      },
      "execution_count": 24,
      "outputs": [
        {
          "output_type": "display_data",
          "data": {
            "image/png": "[encoded data removed]",
            "text/plain": [
              "<Figure size 410.4x379.44 with 1 Axes>"
            ]
          },
          "metadata": {}
        }
      ]
    },
    {
      "cell_type": "code",
      "source": [
        "sns.set(rc={'figure.figsize':(5.7,5.27)})\n",
        "\n",
        "plot_ci(parm_list[j], color_list[j])\n",
        "j += 1"
      ],
      "metadata": {
        "colab": {
          "base_uri": "https://localhost:8080/",
          "height": 353
        },
        "id": "CPj4C-GW9_WT",
        "outputId": "be77216d-a81c-4d78-ddd0-69ccd54a4cd0"
      },
      "execution_count": 25,
      "outputs": [
        {
          "output_type": "display_data",
          "data": {
            "image/png": "[encoded data removed]",
            "text/plain": [
              "<Figure size 410.4x379.44 with 1 Axes>"
            ]
          },
          "metadata": {}
        }
      ]
    },
    {
      "cell_type": "code",
      "source": [
        "sns.set(rc={'figure.figsize':(5.7,5.27)})\n",
        "\n",
        "plot_ci(parm_list[j], color_list[j])\n",
        "j += 1"
      ],
      "metadata": {
        "colab": {
          "base_uri": "https://localhost:8080/",
          "height": 353
        },
        "id": "1H_-4cY4-A-x",
        "outputId": "3650f098-3106-4d33-f4a6-ab4642353d7e"
      },
      "execution_count": 26,
      "outputs": [
        {
          "output_type": "display_data",
          "data": {
            "image/png": "[encoded data removed]",
            "text/plain": [
              "<Figure size 410.4x379.44 with 1 Axes>"
            ]
          },
          "metadata": {}
        }
      ]
    },
    {
      "cell_type": "markdown",
      "source": [
        "<div dir=rtl>\n",
        "<h4>\n",
        " נשים לב כי באופן כללי ערכי האומדים המתקבלים דומים בכל שיטות השלמת הנתונים. בהשוואה  לערכים המתקבלים משאלה 2 (שהתבססו על כל המידע). הערכים מעט רחוקים מהערך האמיתי (מרחק שנע בין - 0.2 ל - 0.5 יחידות). לכן, נסיק כי בעוד שהשיטות לא מצליחות לתפוס את הנתונים החסרים.\n",
        "</br>\n",
        "הסבר אפשרי לכישלון השיטות הוא שהנתונים שהחסרנו הם אינם missing at random, אלא missing not at random ולכן השיטות להשלמת הנתונים (המסתמכים על הנחת MAR) נכשלות. משמעות הסבר זה היא שאין קשר משמעותי בין המשתנה המוסבר למשתנים המסבירים, אפשרות מעט פחות סבירה שכן מתוצאות שקיבלנו בחלקים קודמים של הפרוייקט מצאנו קשר כזה.\n",
        "</br>\n",
        "אפשרות נוספת היא שאין מספיק רשומות \"שהיינו אמורים למחוק\" בסט הנתונים ולכן לא מצאנו את הקשר שמסביר גם את הנתונים החסרים.\n",
        "</div>"
      ],
      "metadata": {
        "id": "YLaHPoUOFvYD"
      }
    },
    {
      "cell_type": "markdown",
      "source": [
        "<div dir=rtl>\n",
        "<h4>\n",
        "נציג גרף המתאר את אורכי רווחי הסמך כתלות בשיטת השלמת הנתונים:\n",
        "</h4>\n",
        "</div>"
      ],
      "metadata": {
        "id": "AjEaD1vy0agc"
      }
    },
    {
      "cell_type": "code",
      "source": [
        "sns.set(rc={'figure.figsize':(9.7,7.27)})\n",
        "\n",
        "color_list = ['b', 'r', 'y', 'g', 'pink']\n",
        "m_list = ['All Data', 'Only Complete Data', 'Regression Imputation', 'Mulitple Imputation', 'IPW']\n",
        "j = 0\n",
        "for parm in parm_list:\n",
        "  color = color_list[j]\n",
        "  plt.xticks(np.arange(5), m_list)\n",
        "  i = 0\n",
        "  for c in conf_intervals[parm]: \n",
        "    if i == 0:\n",
        "      plt.scatter([i], [c[1] - c[0]], color=color, linewidths=5, alpha=0.5, label=parm)\n",
        "    else:   \n",
        "      plt.scatter([i], [c[1] - c[0]], color=color, linewidths=5, alpha=0.5)\n",
        "    i += 1\n",
        "  j += 1  \n",
        "\n",
        "plt.plot(range(len(parm_list)), [np.mean([conf_intervals[parm][m][1] - conf_intervals[parm][m][0] for parm in parm_list])\\\n",
        "                                 for m in range(len(m_list))], color='black', label='Avg')\n",
        "\n",
        "plt.title('CI Length By Missing Data Handling Method')\n",
        "plt.xlabel('Method')  \n",
        "plt.ylabel('CI Length')  \n",
        "plt.legend(title=\"Coefficient:\")\n",
        "plt.show()"
      ],
      "metadata": {
        "colab": {
          "base_uri": "https://localhost:8080/",
          "height": 479
        },
        "id": "dnspSf8EUCfx",
        "outputId": "8e2ce85a-89e8-49a1-c6d5-78bdfc9029fa"
      },
      "execution_count": 27,
      "outputs": [
        {
          "output_type": "display_data",
          "data": {
            "image/png": "[encoded data removed]",
            "text/plain": [
              "<Figure size 698.4x523.44 with 1 Axes>"
            ]
          },
          "metadata": {}
        }
      ]
    },
    {
      "cell_type": "markdown",
      "source": [
        "<div dir=rtl>\n",
        "<h4>\n",
        "בגרף, ניתן לראות בצורה טובה את התופעות שמצאנו קודם:\n",
        "<br>\n",
        "1. ללא נתונים חסרים - רווחי סמך קצרים הנובעים משונות נמוכה בנתונים.\n",
        "</br>\n",
        "2. רק נתונים שלמים - רווחי סמך מעט יותר רחבים הנובעים ממספר קטן יותר של רשומות.\n",
        "</br>\n",
        "3. השלמת נתונים חסרים באמצעות regression imputation - רווחי סמך מאוד קצרים בנובעים מכך ש - 50% מהרשומות באמת נוצרו מהמודל הלינארי שמצאנו.\n",
        "</br>\n",
        "4. השלמת נתונים חסרים באמצעות multiple imputation - קיבלנו רווחי סמך רחבים יותר. זאת מפני שמטרת השלמה זו היא להגדיל את השונות ביחס לregression imputation והיא השלימה את מטרתה בהצלחה.\n",
        "</br>\n",
        "5. השלמת נתונים חסרים באמצעות IPW - אורכי רווחי הסמך ארוכים יחסית לשאר רווחי הסמך, הבדל שכנראה נובע משיטת בניית רווח הסמך (בוטסטרפ).\n",
        "</h4>\n",
        "</div>"
      ],
      "metadata": {
        "id": "XL5kqiGC04Vp"
      }
    }
  ]
}