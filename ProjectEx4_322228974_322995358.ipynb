{
  "nbformat": 4,
  "nbformat_minor": 0,
  "metadata": {
    "colab": {
      "name": "ProjectEx4_322228974_322995358.ipynb",
      "provenance": [],
      "collapsed_sections": []
    },
    "kernelspec": {
      "name": "python3",
      "display_name": "Python 3"
    },
    "language_info": {
      "name": "python"
    }
  },
  "cells": [
    {
      "cell_type": "markdown",
      "metadata": {
        "id": "DNd4Dn8iDRVk"
      },
      "source": [
        "<div dir=rtl><h1>\n",
        "&emsp;\n",
        "&emsp;\n",
        "&emsp;\n",
        "&emsp;\n",
        "&emsp;\n",
        "<b>\n",
        "פרוייקט חלק 4\n",
        "</b>\n",
        "</h1>\n",
        "\n",
        "<h4>\n",
        "שמות: אריאל נובומינסקי, אילי ששון\n",
        "</br>\n",
        "ת.ז. : 322228974, 322995358\n",
        "</h4>\n",
        "\n",
        "\n",
        "</div>"
      ]
    },
    {
      "cell_type": "markdown",
      "metadata": {
        "id": "1HWN-3x5Dby6"
      },
      "source": [
        "<div dir=rtl>\n",
        "<h4>\n",
        "<br>\n",
        "<br>\n",
        "\n",
        "נטען את סט הנתונים ונבצע את הטרנספורמציות שביצענו בחלק הראשון:\n",
        "</h4>\n",
        "\n",
        "\n",
        "</div>"
      ]
    },
    {
      "cell_type": "code",
      "metadata": {
        "id": "ObEA8-etDPYP"
      },
      "source": [
        "import datetime\n",
        "import statsmodels.api as sm\n",
        "import scipy.stats as dist\n",
        "import pandas as pd\n",
        "import matplotlib.pyplot as plt\n",
        "import seaborn as sns\n",
        "import numpy as np, scipy.stats as st\n",
        "import math\n",
        "import matplotlib.patches as mpatches\n",
        "from tabulate import tabulate\n",
        "from sklearn import linear_model\n",
        "from sklearn.linear_model import LogisticRegression\n",
        "from scipy.linalg import fractional_matrix_power\n",
        "import itertools\n",
        "from scipy.linalg import fractional_matrix_power\n"
      ],
      "execution_count": null,
      "outputs": []
    },
    {
      "cell_type": "code",
      "metadata": {
        "colab": {
          "base_uri": "https://localhost:8080/",
          "height": 441
        },
        "id": "GBvZR0VoEmC0",
        "outputId": "eb004f37-e38e-414e-eb64-e3d27a6a28ae"
      },
      "source": [
        "df = pd.read_csv(\"/content/googleplaystore.csv\")\n",
        "df = df.drop(df[(df.Type !='Paid') & (df.Type !='Free')].index)\n",
        "df = df.dropna()\n",
        "isFree_Data = df.Type.apply(lambda x: True if x=='Free' else False)\n",
        "df.insert(7,'IsFree',isFree_Data)\n",
        "df = df.drop('Type', 1)\n",
        "df['Last Updated'] = df['Last Updated'].str.replace(',', '')\n",
        "Last_Updated=pd.to_datetime(df['Last Updated'], format='%B %d %Y')\n",
        "df = df.drop('Last Updated',axis=1)\n",
        "df.insert(9,'Last Updated',Last_Updated)\n",
        "recntly = df['Last Updated'].map(lambda x: True if x > datetime.date(2018,6,1) else False)\n",
        "df.insert(9,'Recntly Updated',recntly)\n",
        "df['Installs'] = df['Installs'].map(lambda s: int(s[:-1].replace(',', '')))\n",
        "df['Reviews'] = df['Reviews'].map(lambda s: int(s))\n",
        "df.head()"
      ],
      "execution_count": null,
      "outputs": [
        {
          "output_type": "execute_result",
          "data": {
            "text/html": [
              "\n",
              "  <div id=\"df-3347940d-5872-4426-a8ac-ea6044ac6162\">\n",
              "    <div class=\"colab-df-container\">\n",
              "      <div>\n",
              "<style scoped>\n",
              "    .dataframe tbody tr th:only-of-type {\n",
              "        vertical-align: middle;\n",
              "    }\n",
              "\n",
              "    .dataframe tbody tr th {\n",
              "        vertical-align: top;\n",
              "    }\n",
              "\n",
              "    .dataframe thead th {\n",
              "        text-align: right;\n",
              "    }\n",
              "</style>\n",
              "<table border=\"1\" class=\"dataframe\">\n",
              "  <thead>\n",
              "    <tr style=\"text-align: right;\">\n",
              "      <th></th>\n",
              "      <th>App</th>\n",
              "      <th>Category</th>\n",
              "      <th>Rating</th>\n",
              "      <th>Reviews</th>\n",
              "      <th>Size</th>\n",
              "      <th>Installs</th>\n",
              "      <th>IsFree</th>\n",
              "      <th>Price</th>\n",
              "      <th>Content Rating</th>\n",
              "      <th>Recntly Updated</th>\n",
              "      <th>Last Updated</th>\n",
              "      <th>Genres</th>\n",
              "      <th>Current Ver</th>\n",
              "      <th>Android Ver</th>\n",
              "    </tr>\n",
              "  </thead>\n",
              "  <tbody>\n",
              "    <tr>\n",
              "      <th>0</th>\n",
              "      <td>Photo Editor &amp; Candy Camera &amp; Grid &amp; ScrapBook</td>\n",
              "      <td>ART_AND_DESIGN</td>\n",
              "      <td>4.1</td>\n",
              "      <td>159</td>\n",
              "      <td>19M</td>\n",
              "      <td>10000</td>\n",
              "      <td>True</td>\n",
              "      <td>0</td>\n",
              "      <td>Everyone</td>\n",
              "      <td>False</td>\n",
              "      <td>2018-01-07</td>\n",
              "      <td>Art &amp; Design</td>\n",
              "      <td>1.0.0</td>\n",
              "      <td>4.0.3 and up</td>\n",
              "    </tr>\n",
              "    <tr>\n",
              "      <th>1</th>\n",
              "      <td>Coloring book moana</td>\n",
              "      <td>ART_AND_DESIGN</td>\n",
              "      <td>3.9</td>\n",
              "      <td>967</td>\n",
              "      <td>14M</td>\n",
              "      <td>500000</td>\n",
              "      <td>True</td>\n",
              "      <td>0</td>\n",
              "      <td>Everyone</td>\n",
              "      <td>False</td>\n",
              "      <td>2018-01-15</td>\n",
              "      <td>Art &amp; Design;Pretend Play</td>\n",
              "      <td>2.0.0</td>\n",
              "      <td>4.0.3 and up</td>\n",
              "    </tr>\n",
              "    <tr>\n",
              "      <th>2</th>\n",
              "      <td>U Launcher Lite – FREE Live Cool Themes, Hide ...</td>\n",
              "      <td>ART_AND_DESIGN</td>\n",
              "      <td>4.7</td>\n",
              "      <td>87510</td>\n",
              "      <td>8.7M</td>\n",
              "      <td>5000000</td>\n",
              "      <td>True</td>\n",
              "      <td>0</td>\n",
              "      <td>Everyone</td>\n",
              "      <td>True</td>\n",
              "      <td>2018-08-01</td>\n",
              "      <td>Art &amp; Design</td>\n",
              "      <td>1.2.4</td>\n",
              "      <td>4.0.3 and up</td>\n",
              "    </tr>\n",
              "    <tr>\n",
              "      <th>3</th>\n",
              "      <td>Sketch - Draw &amp; Paint</td>\n",
              "      <td>ART_AND_DESIGN</td>\n",
              "      <td>4.5</td>\n",
              "      <td>215644</td>\n",
              "      <td>25M</td>\n",
              "      <td>50000000</td>\n",
              "      <td>True</td>\n",
              "      <td>0</td>\n",
              "      <td>Teen</td>\n",
              "      <td>True</td>\n",
              "      <td>2018-06-08</td>\n",
              "      <td>Art &amp; Design</td>\n",
              "      <td>Varies with device</td>\n",
              "      <td>4.2 and up</td>\n",
              "    </tr>\n",
              "    <tr>\n",
              "      <th>4</th>\n",
              "      <td>Pixel Draw - Number Art Coloring Book</td>\n",
              "      <td>ART_AND_DESIGN</td>\n",
              "      <td>4.3</td>\n",
              "      <td>967</td>\n",
              "      <td>2.8M</td>\n",
              "      <td>100000</td>\n",
              "      <td>True</td>\n",
              "      <td>0</td>\n",
              "      <td>Everyone</td>\n",
              "      <td>True</td>\n",
              "      <td>2018-06-20</td>\n",
              "      <td>Art &amp; Design;Creativity</td>\n",
              "      <td>1.1</td>\n",
              "      <td>4.4 and up</td>\n",
              "    </tr>\n",
              "  </tbody>\n",
              "</table>\n",
              "</div>\n",
              "      <button class=\"colab-df-convert\" onclick=\"convertToInteractive('df-3347940d-5872-4426-a8ac-ea6044ac6162')\"\n",
              "              title=\"Convert this dataframe to an interactive table.\"\n",
              "              style=\"display:none;\">\n",
              "        \n",
              "  <svg xmlns=\"http://www.w3.org/2000/svg\" height=\"24px\"viewBox=\"0 0 24 24\"\n",
              "       width=\"24px\">\n",
              "    <path d=\"M0 0h24v24H0V0z\" fill=\"none\"/>\n",
              "    <path d=\"M18.56 5.44l.94 2.06.94-2.06 2.06-.94-2.06-.94-.94-2.06-.94 2.06-2.06.94zm-11 1L8.5 8.5l.94-2.06 2.06-.94-2.06-.94L8.5 2.5l-.94 2.06-2.06.94zm10 10l.94 2.06.94-2.06 2.06-.94-2.06-.94-.94-2.06-.94 2.06-2.06.94z\"/><path d=\"M17.41 7.96l-1.37-1.37c-.4-.4-.92-.59-1.43-.59-.52 0-1.04.2-1.43.59L10.3 9.45l-7.72 7.72c-.78.78-.78 2.05 0 2.83L4 21.41c.39.39.9.59 1.41.59.51 0 1.02-.2 1.41-.59l7.78-7.78 2.81-2.81c.8-.78.8-2.07 0-2.86zM5.41 20L4 18.59l7.72-7.72 1.47 1.35L5.41 20z\"/>\n",
              "  </svg>\n",
              "      </button>\n",
              "      \n",
              "  <style>\n",
              "    .colab-df-container {\n",
              "      display:flex;\n",
              "      flex-wrap:wrap;\n",
              "      gap: 12px;\n",
              "    }\n",
              "\n",
              "    .colab-df-convert {\n",
              "      background-color: #E8F0FE;\n",
              "      border: none;\n",
              "      border-radius: 50%;\n",
              "      cursor: pointer;\n",
              "      display: none;\n",
              "      fill: #1967D2;\n",
              "      height: 32px;\n",
              "      padding: 0 0 0 0;\n",
              "      width: 32px;\n",
              "    }\n",
              "\n",
              "    .colab-df-convert:hover {\n",
              "      background-color: #E2EBFA;\n",
              "      box-shadow: 0px 1px 2px rgba(60, 64, 67, 0.3), 0px 1px 3px 1px rgba(60, 64, 67, 0.15);\n",
              "      fill: #174EA6;\n",
              "    }\n",
              "\n",
              "    [theme=dark] .colab-df-convert {\n",
              "      background-color: #3B4455;\n",
              "      fill: #D2E3FC;\n",
              "    }\n",
              "\n",
              "    [theme=dark] .colab-df-convert:hover {\n",
              "      background-color: #434B5C;\n",
              "      box-shadow: 0px 1px 3px 1px rgba(0, 0, 0, 0.15);\n",
              "      filter: drop-shadow(0px 1px 2px rgba(0, 0, 0, 0.3));\n",
              "      fill: #FFFFFF;\n",
              "    }\n",
              "  </style>\n",
              "\n",
              "      <script>\n",
              "        const buttonEl =\n",
              "          document.querySelector('#df-3347940d-5872-4426-a8ac-ea6044ac6162 button.colab-df-convert');\n",
              "        buttonEl.style.display =\n",
              "          google.colab.kernel.accessAllowed ? 'block' : 'none';\n",
              "\n",
              "        async function convertToInteractive(key) {\n",
              "          const element = document.querySelector('#df-3347940d-5872-4426-a8ac-ea6044ac6162');\n",
              "          const dataTable =\n",
              "            await google.colab.kernel.invokeFunction('convertToInteractive',\n",
              "                                                     [key], {});\n",
              "          if (!dataTable) return;\n",
              "\n",
              "          const docLinkHtml = 'Like what you see? Visit the ' +\n",
              "            '<a target=\"_blank\" href=https://colab.research.google.com/notebooks/data_table.ipynb>data table notebook</a>'\n",
              "            + ' to learn more about interactive tables.';\n",
              "          element.innerHTML = '';\n",
              "          dataTable['output_type'] = 'display_data';\n",
              "          await google.colab.output.renderOutput(dataTable, element);\n",
              "          const docLink = document.createElement('div');\n",
              "          docLink.innerHTML = docLinkHtml;\n",
              "          element.appendChild(docLink);\n",
              "        }\n",
              "      </script>\n",
              "    </div>\n",
              "  </div>\n",
              "  "
            ],
            "text/plain": [
              "                                                 App  ...   Android Ver\n",
              "0     Photo Editor & Candy Camera & Grid & ScrapBook  ...  4.0.3 and up\n",
              "1                                Coloring book moana  ...  4.0.3 and up\n",
              "2  U Launcher Lite – FREE Live Cool Themes, Hide ...  ...  4.0.3 and up\n",
              "3                              Sketch - Draw & Paint  ...    4.2 and up\n",
              "4              Pixel Draw - Number Art Coloring Book  ...    4.4 and up\n",
              "\n",
              "[5 rows x 14 columns]"
            ]
          },
          "metadata": {},
          "execution_count": 6
        }
      ]
    },
    {
      "cell_type": "code",
      "source": [
        "ln_reg_df = df[['Rating', 'Reviews', 'Content Rating', 'Installs']]\n",
        "con_rat_vals = ln_reg_df['Content Rating'].unique()\n",
        "\n",
        "for v in con_rat_vals:\n",
        "  ln_reg_df[v] = np.where(ln_reg_df['Content Rating'] == v, 1, 0)\n",
        "\n",
        "ln_reg_df['Installs'] = ln_reg_df['Installs'].map(lambda x: np.log10(x))\n",
        "ln_reg_df['Reviews'] = ln_reg_df['Reviews'].map(lambda x: np.log10(x))\n",
        "B = 400\n",
        "confidence_intervals = {}\n",
        "for i in range(8):\n",
        "  confidence_intervals[i] = []\n"
      ],
      "metadata": {
        "colab": {
          "base_uri": "https://localhost:8080/"
        },
        "id": "a7xa8iNkW6rx",
        "outputId": "fb222d7b-13cf-4d13-bb78-4d63204d5f29"
      },
      "execution_count": null,
      "outputs": [
        {
          "output_type": "stream",
          "name": "stderr",
          "text": [
            "/usr/local/lib/python3.7/dist-packages/ipykernel_launcher.py:5: SettingWithCopyWarning: \n",
            "A value is trying to be set on a copy of a slice from a DataFrame.\n",
            "Try using .loc[row_indexer,col_indexer] = value instead\n",
            "\n",
            "See the caveats in the documentation: https://pandas.pydata.org/pandas-docs/stable/user_guide/indexing.html#returning-a-view-versus-a-copy\n",
            "  \"\"\"\n",
            "/usr/local/lib/python3.7/dist-packages/ipykernel_launcher.py:7: SettingWithCopyWarning: \n",
            "A value is trying to be set on a copy of a slice from a DataFrame.\n",
            "Try using .loc[row_indexer,col_indexer] = value instead\n",
            "\n",
            "See the caveats in the documentation: https://pandas.pydata.org/pandas-docs/stable/user_guide/indexing.html#returning-a-view-versus-a-copy\n",
            "  import sys\n",
            "/usr/local/lib/python3.7/dist-packages/ipykernel_launcher.py:8: SettingWithCopyWarning: \n",
            "A value is trying to be set on a copy of a slice from a DataFrame.\n",
            "Try using .loc[row_indexer,col_indexer] = value instead\n",
            "\n",
            "See the caveats in the documentation: https://pandas.pydata.org/pandas-docs/stable/user_guide/indexing.html#returning-a-view-versus-a-copy\n",
            "  \n"
          ]
        }
      ]
    },
    {
      "cell_type": "markdown",
      "source": [
        "<div dir=rtl>\n",
        "<h3>\n",
        "<b>\n",
        "חלק א'\n",
        "<b>\n",
        "</h3>\n",
        "</div>"
      ],
      "metadata": {
        "id": "2qNSSDD4VO1X"
      }
    },
    {
      "cell_type": "markdown",
      "source": [
        "<div dir=rtl>\n",
        "<h4>\n",
        "1. נדגום תת מדגם בגודל 200:\n",
        "</h4>\n",
        "</div>"
      ],
      "metadata": {
        "id": "V3nsGcU6Vw4d"
      }
    },
    {
      "cell_type": "code",
      "source": [
        "sub_set = ln_reg_df.sample(200, random_state=18)"
      ],
      "metadata": {
        "id": "dl2yzzKaVzD2"
      },
      "execution_count": null,
      "outputs": []
    },
    {
      "cell_type": "markdown",
      "source": [
        "<div dir=rtl>\n",
        "<h4>\n",
        "א.\n",
        "נמצא רווח סמך למקדמים בטא באמצעות קירוב נורמלי כאשר האומד לסטיית התקן מבוסס על מטריצת השונויות:\n",
        "</h4>\n",
        "</div>"
      ],
      "metadata": {
        "id": "2HAkDSKuV2OI"
      }
    },
    {
      "cell_type": "code",
      "source": [
        "y = sub_set['Installs'].to_numpy()\n",
        "x_vals = sub_set.drop(['Content Rating', 'Installs'], 1).to_numpy()\n",
        "reg_sub = linear_model.LinearRegression()\n",
        "reg_sub.fit(x_vals, sub_set['Installs'].to_numpy())\n",
        "beta_cova = reg_sub.intercept_ + reg_sub.coef_\n",
        "p = len(beta_cova) + 1\n",
        "\n",
        "con_rat_vals = ln_reg_df['Content Rating'].unique()\n",
        "y_cova = reg_sub.predict(x_vals)\n",
        "x_vals = sub_set.drop(['Content Rating', 'Installs'], 1).to_numpy()\n",
        "x_vals = np.array([np.insert(x, 1, 0) for x in x_vals])\n",
        "c = np.dot(x_vals.T, x_vals)\n",
        "c = np.linalg.pinv(c)\n",
        "\n",
        "eps_sigma =  sum([x**2 for x in y - y_cova])/(len(y) - p)\n",
        "normal_intervals = []\n",
        "for i,b in enumerate(beta_cova):\n",
        "  confidence_intervals[i].append([b - dist.norm.ppf(0.95, 0, 1)*eps_sigma*c[i][i],b + dist.norm.ppf(0.95, 0, 1)*eps_sigma*c[i][i]])\n",
        "  print('Confidence Interval For Coefficient Number ', i, ': [', b - dist.norm.ppf(0.95, 0, 1)*eps_sigma*c[i][i], ', ',  b + dist.norm.ppf(0.95, 0, 1)*c[i][i], ']')\n",
        "  i += 1"
      ],
      "metadata": {
        "colab": {
          "base_uri": "https://localhost:8080/"
        },
        "id": "C9KNAoDlV5Fi",
        "outputId": "c23c1d7f-382c-451f-970f-1acdc92b8c29"
      },
      "execution_count": null,
      "outputs": [
        {
          "output_type": "stream",
          "name": "stdout",
          "text": [
            "Confidence Interval For Coefficient Number  0 : [ 2.465110722221054 ,  2.5033890074317413 ]\n",
            "Confidence Interval For Coefficient Number  1 : [ 3.6479610966437144 ,  3.6479610966437144 ]\n",
            "Confidence Interval For Coefficient Number  2 : [ 2.8447588483981443 ,  2.849144982227141 ]\n",
            "Confidence Interval For Coefficient Number  3 : [ 2.7358085451872123 ,  3.3833101079861696 ]\n",
            "Confidence Interval For Coefficient Number  4 : [ 2.2750292042363016 ,  3.0966161604748907 ]\n",
            "Confidence Interval For Coefficient Number  5 : [ 2.4702166706667485 ,  3.6928613636679906 ]\n",
            "Confidence Interval For Coefficient Number  6 : [ 2.5727263824946744 ,  3.29978192469056 ]\n",
            "Confidence Interval For Coefficient Number  7 : [ 2.69238468972564 ,  2.69238468972564 ]\n"
          ]
        }
      ]
    },
    {
      "cell_type": "markdown",
      "source": [
        "<div dir=rtl>\n",
        "<h4>\n",
        "נמצא רווח סמך למקדמים בטא באמצעות קירוב נורמלי כאשר האומד לסטיית התקן מבוסס \n",
        "על Bootstrap:\n",
        "</h4>\n",
        "</div>"
      ],
      "metadata": {
        "id": "8guFbdY9V7mS"
      }
    },
    {
      "cell_type": "code",
      "source": [
        "beta_covas = []\n",
        "for i in range(B):\n",
        "  sample = sub_set.sample(n=50)\n",
        "  y = sample['Installs'].to_numpy()\n",
        "  x_vals = sample.drop(['Content Rating', 'Installs'], 1).to_numpy()\n",
        "  reg = linear_model.LinearRegression()\n",
        "  reg.fit(x_vals, sample['Installs'].to_numpy())\n",
        "  beta_cova_cur = reg.intercept_ + reg.coef_\n",
        "  beta_covas.append(beta_cova_cur)\n",
        "vars = []\n",
        "for i in range(len(beta_covas[0])):\n",
        "  betas = [sample[i] for sample in beta_covas]\n",
        "  vars.append(np.var(betas))\n",
        "for i,b in enumerate(beta_cova):\n",
        "  confidence_intervals[i].append([b - dist.norm.ppf(0.95, 0, 1)*vars[i],b + dist.norm.ppf(0.95, 0, 1)*vars[i]])\n",
        "  print('Confidence Interval For Coefficient Number ', i, ': [', b - dist.norm.ppf(0.95, 0, 1)*vars[i], ', ',  b + dist.norm.ppf(0.95, 0, 1)*vars[i], ']')\n"
      ],
      "metadata": {
        "colab": {
          "base_uri": "https://localhost:8080/"
        },
        "id": "yMRzWwPYV-OU",
        "outputId": "07d3f71f-093a-46a7-9453-c7c3557a8304"
      },
      "execution_count": null,
      "outputs": [
        {
          "output_type": "stream",
          "name": "stdout",
          "text": [
            "Confidence Interval For Coefficient Number  0 : [ 1.9853437916995507 ,  2.9574772810960708 ]\n",
            "Confidence Interval For Coefficient Number  1 : [ 2.8730960903527456 ,  4.422826102934684 ]\n",
            "Confidence Interval For Coefficient Number  2 : [ 2.101956886277944 ,  3.589004544370317 ]\n",
            "Confidence Interval For Coefficient Number  3 : [ 1.9120683854232936 ,  3.7726794396400445 ]\n",
            "Confidence Interval For Coefficient Number  4 : [ 1.3884795240769248 ,  3.432011330669677 ]\n",
            "Confidence Interval For Coefficient Number  5 : [ 1.9478894752171003 ,  3.3949879321298173 ]\n",
            "Confidence Interval For Coefficient Number  6 : [ 1.9068461212702803 ,  3.4779232581809993 ]\n",
            "Confidence Interval For Coefficient Number  7 : [ 1.9068461212702803 ,  3.4779232581809993 ]\n"
          ]
        }
      ]
    },
    {
      "cell_type": "markdown",
      "source": [
        "<div dir=rtl>\n",
        "<h4>\n",
        "ג. בהרצאה ראינו כי רווח סמך כאשר ההתפגלות לא ידוע הוא: \n",
        "</h4>\n",
        "</div>"
      ],
      "metadata": {
        "id": "d05x7O6oWEfa"
      }
    },
    {
      "cell_type": "markdown",
      "source": [
        "![צילום מסך 2022-01-11 165116.png](data:image/png;base64,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)"
      ],
      "metadata": {
        "id": "i2YKNzVzWGrR"
      }
    },
    {
      "cell_type": "markdown",
      "source": [
        "<div dir=rtl>\n",
        "<h4>\n",
        "נמצא רווח סמך בשיטת ה - Pivot: \n",
        "</h4>\n",
        "</div>"
      ],
      "metadata": {
        "id": "vWegPJWYWKRC"
      }
    },
    {
      "cell_type": "code",
      "source": [
        "beta_covas = []\n",
        "for i in range(B):\n",
        "  sample = sub_set.sample(n=50)\n",
        "  y = sample['Installs'].to_numpy()\n",
        "  x_vals = sample.drop(['Content Rating', 'Installs'], 1).to_numpy()\n",
        "  reg = linear_model.LinearRegression()\n",
        "  reg.fit(x_vals, sample['Installs'].to_numpy())\n",
        "  beta_cova_cur = reg.intercept_ + reg.coef_\n",
        "  beta_covas.append(beta_cova_cur)\n",
        "perci = []\n",
        "for i in range(len(beta_covas[0])):\n",
        "  betas = [sample[i] for sample in beta_covas]\n",
        "  betas.sort()\n",
        "  perci.append([betas[int((1-(0.05/2))*B)],betas[int((0.05/2)*B)]])\n",
        "for i,b in enumerate(beta_cova):\n",
        "  confidence_intervals[i].append([2*b - perci[i][0],2*b - perci[i][1]])\n",
        "  print('Confidence Interval For Coefficient Number ', i, ': [', 2*b - perci[i][0], ', ',  2*b - perci[i][1], ']')"
      ],
      "metadata": {
        "colab": {
          "base_uri": "https://localhost:8080/"
        },
        "id": "VGPMKQkYWLJc",
        "outputId": "4ec4d42e-924a-44b9-8796-5027d8c7220f"
      },
      "execution_count": null,
      "outputs": [
        {
          "output_type": "stream",
          "name": "stdout",
          "text": [
            "Confidence Interval For Coefficient Number  0 : [ 1.0570175242502957 ,  3.1545658992881878 ]\n",
            "Confidence Interval For Coefficient Number  1 : [ 1.8886131152807888 ,  4.573298001833749 ]\n",
            "Confidence Interval For Coefficient Number  2 : [ 1.1287343891689083 ,  3.8041264773347967 ]\n",
            "Confidence Interval For Coefficient Number  3 : [ 0.9592783250502581 ,  3.9442409552191773 ]\n",
            "Confidence Interval For Coefficient Number  4 : [ 0.3921403165203001 ,  3.346493078404789 ]\n",
            "Confidence Interval For Coefficient Number  5 : [ 1.0094370286646868 ,  3.6279681009459726 ]\n",
            "Confidence Interval For Coefficient Number  6 : [ 0.9177824339256144 ,  3.5955339342449273 ]\n",
            "Confidence Interval For Coefficient Number  7 : [ 0.9177824339256144 ,  3.5955339342449273 ]\n"
          ]
        }
      ]
    },
    {
      "cell_type": "markdown",
      "source": [
        "<div dir=rtl>\n",
        "<h4>\n",
        "2. \n",
        "נמצא רווח סמך בשיטת האחוזונים: \n",
        "</h4>\n",
        "</div>"
      ],
      "metadata": {
        "id": "6sMUv1IiWOie"
      }
    },
    {
      "cell_type": "code",
      "source": [
        "for i in range(len(beta_covas[0])):\n",
        "  betas = [sample[i] for sample in beta_covas]\n",
        "  confidence_intervals[i].append([np.quantile(betas, .025),np.quantile(betas, .975)])\n",
        "  print('Confidence Interval For Coefficient Number ', i, ': [',   np.quantile(betas, .025), ', ',    np.quantile(betas, .975), ']')"
      ],
      "metadata": {
        "colab": {
          "base_uri": "https://localhost:8080/"
        },
        "id": "5BXpXSNcWQp-",
        "outputId": "61ff856d-abe4-4736-aaca-8961ef426a90"
      },
      "execution_count": null,
      "outputs": [
        {
          "output_type": "stream",
          "name": "stdout",
          "text": [
            "Confidence Interval For Coefficient Number  0 : [ 1.787665851585841 ,  3.824730279310141 ]\n",
            "Confidence Interval For Coefficient Number  1 : [ 2.7226233489546963 ,  5.387219304798712 ]\n",
            "Confidence Interval For Coefficient Number  2 : [ 1.8867657474994317 ,  4.549336680343807 ]\n",
            "Confidence Interval For Coefficient Number  3 : [ 1.7402300811143878 ,  4.680748996263595 ]\n",
            "Confidence Interval For Coefficient Number  4 : [ 1.4739190758695315 ,  4.425520624129794 ]\n",
            "Confidence Interval For Coefficient Number  5 : [ 1.7147555510069128 ,  4.285743913349424 ]\n",
            "Confidence Interval For Coefficient Number  6 : [ 1.7879818764071822 ,  4.4455832281261305 ]\n",
            "Confidence Interval For Coefficient Number  7 : [ 1.7879818764071822 ,  4.4455832281261305 ]\n"
          ]
        }
      ]
    },
    {
      "cell_type": "markdown",
      "source": [
        "<div dir=rtl>\n",
        "<h4>\n",
        "נציג השוואה בין רווחי הסמך השונים (בהמשך נציג השוואה יותר \"קומפקטית\"):\n",
        "</h4>\n",
        "</div>"
      ],
      "metadata": {
        "id": "PWhA5tL3WS-o"
      }
    },
    {
      "cell_type": "code",
      "source": [
        "names = ['se based on varience matrix of beta^','se based on bootstrap','the pivot method','the percinailes method' ]\n",
        "y = ln_reg_df['Installs'].to_numpy()\n",
        "x_vals = ln_reg_df.drop(['Content Rating', 'Installs'], 1).to_numpy()\n",
        "full_reg = linear_model.LinearRegression()\n",
        "full_reg.fit(x_vals, y)\n",
        "beta_cova_full = full_reg.intercept_ + full_reg.coef_\n",
        "for i,beta_i in enumerate(confidence_intervals):\n",
        "  print('The cofidence interval for Coefficient Number '+str(i+1)+' is:')\n",
        "  print('The estimitaion of beta ', i,'based on the whole data is ',beta_cova_full[i])\n",
        "  for j in range(4):\n",
        "    in_range = \"n't\" \n",
        "    if beta_cova_full[i] <= confidence_intervals[i][j][1] and beta_cova_full[i] >= confidence_intervals[i][j][0]:\n",
        "      in_range = '' \n",
        "    print('[',   confidence_intervals[i][j][0], ', ',    confidence_intervals[i][j][1], ']',' with',names[j],'.It has a length of ',confidence_intervals[i][j][1]-confidence_intervals[i][j][0], 'and the whole data enstimatior is'+in_range+'in the cofidence interval')\n",
        "  print('- - - - - - - - - - - - - - - - - - - - - - - - - - - - - - - - - - - - - - - - - - - - -')"
      ],
      "metadata": {
        "colab": {
          "base_uri": "https://localhost:8080/"
        },
        "id": "oWXNf5N_WU4l",
        "outputId": "a69911ee-59ff-458a-d161-ae107e420732"
      },
      "execution_count": null,
      "outputs": [
        {
          "output_type": "stream",
          "name": "stdout",
          "text": [
            "The cofidence interval for Coefficient Number 1 is:\n",
            "The estimitaion of beta  0 based on the whole data is  2.6071099559937427\n",
            "[ 2.465110722221054 ,  2.4777103505745672 ]  with se based on varience matrix of beta^ .It has a length of  0.012599628353513026 and the whole data enstimatior isn'tin the cofidence interval\n",
            "[ 1.9853437916995507 ,  2.9574772810960708 ]  with se based on bootstrap .It has a length of  0.9721334893965201 and the whole data enstimatior isin the cofidence interval\n",
            "[ 1.0570175242502957 ,  3.1545658992881878 ]  with the pivot method .It has a length of  2.097548375037892 and the whole data enstimatior isin the cofidence interval\n",
            "[ 1.787665851585841 ,  3.824730279310141 ]  with the percinailes method .It has a length of  2.0370644277243 and the whole data enstimatior isin the cofidence interval\n",
            "- - - - - - - - - - - - - - - - - - - - - - - - - - - - - - - - - - - - - - - - - - - - -\n",
            "The cofidence interval for Coefficient Number 2 is:\n",
            "The estimitaion of beta  1 based on the whole data is  3.855461697096807\n",
            "[ 3.6479610966437144 ,  3.6479610966437144 ]  with se based on varience matrix of beta^ .It has a length of  0.0 and the whole data enstimatior isn'tin the cofidence interval\n",
            "[ 2.8730960903527456 ,  4.422826102934684 ]  with se based on bootstrap .It has a length of  1.549730012581938 and the whole data enstimatior isin the cofidence interval\n",
            "[ 1.8886131152807888 ,  4.573298001833749 ]  with the pivot method .It has a length of  2.68468488655296 and the whole data enstimatior isin the cofidence interval\n",
            "[ 2.7226233489546963 ,  5.387219304798712 ]  with the percinailes method .It has a length of  2.6645959558440153 and the whole data enstimatior isin the cofidence interval\n",
            "- - - - - - - - - - - - - - - - - - - - - - - - - - - - - - - - - - - - - - - - - - - - -\n",
            "The cofidence interval for Coefficient Number 3 is:\n",
            "The estimitaion of beta  2 based on the whole data is  3.0060913484123484\n",
            "[ 2.8447588483981443 ,  2.8462025822501165 ]  with se based on varience matrix of beta^ .It has a length of  0.001443733851972162 and the whole data enstimatior isn'tin the cofidence interval\n",
            "[ 2.101956886277944 ,  3.589004544370317 ]  with se based on bootstrap .It has a length of  1.487047658092373 and the whole data enstimatior isin the cofidence interval\n",
            "[ 1.1287343891689083 ,  3.8041264773347967 ]  with the pivot method .It has a length of  2.6753920881658884 and the whole data enstimatior isin the cofidence interval\n",
            "[ 1.8867657474994317 ,  4.549336680343807 ]  with the percinailes method .It has a length of  2.6625709328443756 and the whole data enstimatior isin the cofidence interval\n",
            "- - - - - - - - - - - - - - - - - - - - - - - - - - - - - - - - - - - - - - - - - - - - -\n",
            "The cofidence interval for Coefficient Number 4 is:\n",
            "The estimitaion of beta  3 based on the whole data is  2.8873816828231975\n",
            "[ 2.7358085451872123 ,  2.948939279876126 ]  with se based on varience matrix of beta^ .It has a length of  0.21313073468891375 and the whole data enstimatior isin the cofidence interval\n",
            "[ 1.9120683854232936 ,  3.7726794396400445 ]  with se based on bootstrap .It has a length of  1.8606110542167509 and the whole data enstimatior isin the cofidence interval\n",
            "[ 0.9592783250502581 ,  3.9442409552191773 ]  with the pivot method .It has a length of  2.984962630168919 and the whole data enstimatior isin the cofidence interval\n",
            "[ 1.7402300811143878 ,  4.680748996263595 ]  with the percinailes method .It has a length of  2.940518915149207 and the whole data enstimatior isin the cofidence interval\n",
            "- - - - - - - - - - - - - - - - - - - - - - - - - - - - - - - - - - - - - - - - - - - - -\n",
            "The cofidence interval for Coefficient Number 5 is:\n",
            "The estimitaion of beta  4 based on the whole data is  2.8556841040209027\n",
            "[ 2.2750292042363016 ,  2.5454616505103003 ]  with se based on varience matrix of beta^ .It has a length of  0.27043244627399865 and the whole data enstimatior isn'tin the cofidence interval\n",
            "[ 1.3884795240769248 ,  3.432011330669677 ]  with se based on bootstrap .It has a length of  2.0435318065927524 and the whole data enstimatior isin the cofidence interval\n",
            "[ 0.3921403165203001 ,  3.346493078404789 ]  with the pivot method .It has a length of  2.954352761884489 and the whole data enstimatior isin the cofidence interval\n",
            "[ 1.4739190758695315 ,  4.425520624129794 ]  with the percinailes method .It has a length of  2.951601548260262 and the whole data enstimatior isin the cofidence interval\n",
            "- - - - - - - - - - - - - - - - - - - - - - - - - - - - - - - - - - - - - - - - - - - - -\n",
            "The cofidence interval for Coefficient Number 6 is:\n",
            "The estimitaion of beta  5 based on the whole data is  2.9025814848231484\n",
            "[ 2.4702166706667485 ,  2.872660736680169 ]  with se based on varience matrix of beta^ .It has a length of  0.40244406601342053 and the whole data enstimatior isn'tin the cofidence interval\n",
            "[ 1.9478894752171003 ,  3.3949879321298173 ]  with se based on bootstrap .It has a length of  1.447098456912717 and the whole data enstimatior isin the cofidence interval\n",
            "[ 1.0094370286646868 ,  3.6279681009459726 ]  with the pivot method .It has a length of  2.618531072281286 and the whole data enstimatior isin the cofidence interval\n",
            "[ 1.7147555510069128 ,  4.285743913349424 ]  with the percinailes method .It has a length of  2.570988362342511 and the whole data enstimatior isin the cofidence interval\n",
            "- - - - - - - - - - - - - - - - - - - - - - - - - - - - - - - - - - - - - - - - - - - - -\n",
            "The cofidence interval for Coefficient Number 7 is:\n",
            "The estimitaion of beta  6 based on the whole data is  2.8036680867953376\n",
            "[ 2.5727263824946744 ,  2.812042996956605 ]  with se based on varience matrix of beta^ .It has a length of  0.23931661446193075 and the whole data enstimatior isin the cofidence interval\n",
            "[ 1.9068461212702803 ,  3.4779232581809993 ]  with se based on bootstrap .It has a length of  1.571077136910719 and the whole data enstimatior isin the cofidence interval\n",
            "[ 0.9177824339256144 ,  3.5955339342449273 ]  with the pivot method .It has a length of  2.677751500319313 and the whole data enstimatior isin the cofidence interval\n",
            "[ 1.7879818764071822 ,  4.4455832281261305 ]  with the percinailes method .It has a length of  2.6576013517189483 and the whole data enstimatior isin the cofidence interval\n",
            "- - - - - - - - - - - - - - - - - - - - - - - - - - - - - - - - - - - - - - - - - - - - -\n",
            "The cofidence interval for Coefficient Number 8 is:\n",
            "The estimitaion of beta  7 based on the whole data is  2.8523220056765317\n",
            "[ 2.69238468972564 ,  2.69238468972564 ]  with se based on varience matrix of beta^ .It has a length of  0.0 and the whole data enstimatior isn'tin the cofidence interval\n",
            "[ 1.9068461212702803 ,  3.4779232581809993 ]  with se based on bootstrap .It has a length of  1.571077136910719 and the whole data enstimatior isin the cofidence interval\n",
            "[ 0.9177824339256144 ,  3.5955339342449273 ]  with the pivot method .It has a length of  2.677751500319313 and the whole data enstimatior isin the cofidence interval\n",
            "[ 1.7879818764071822 ,  4.4455832281261305 ]  with the percinailes method .It has a length of  2.6576013517189483 and the whole data enstimatior isin the cofidence interval\n",
            "- - - - - - - - - - - - - - - - - - - - - - - - - - - - - - - - - - - - - - - - - - - - -\n"
          ]
        }
      ]
    },
    {
      "cell_type": "markdown",
      "source": [
        "<div dir=rtl>\n",
        "<h4>\n",
        "את ההשואה הנ\"ל ניתן לראות בצורה פשוטה בתרשים הבא:\n",
        "</h4>\n",
        "</div>"
      ],
      "metadata": {
        "id": "2YHJ4bwDWX6P"
      }
    },
    {
      "cell_type": "code",
      "source": [
        "sns.set(rc={'figure.figsize':(11.7,8.27)})\n",
        "\n",
        "full_reg = linear_model.LinearRegression()\n",
        "full_reg.fit(x_vals, y)\n",
        "beta_cova_full = full_reg.intercept_ + full_reg.coef_\n",
        "\n",
        "colors = ['red', 'pink', 'y', 'cyan']\n",
        "w_list = [6, 7, 15, 20]\n",
        "ep_list = [0.2, 0.4, 0.6, 0.8]\n",
        "\n",
        "j = 0\n",
        "for i in range(8):\n",
        "  for j in range(4):\n",
        "    if i == 0:\n",
        "      plt.scatter([i + ep_list[j]], [beta_cova_full[i]], color='black')\n",
        "      plt.vlines(x = i + ep_list[j], ymin = confidence_intervals[i][j][0], ymax = confidence_intervals[i][j][1], alpha=0.3, color=colors[j], linewidths=5)\n",
        "      plt.scatter([[i + ep_list[j], i+ ep_list[j]]], [confidence_intervals[i][j]],linewidths=5, color=colors[j], alpha=0.9, label=names[j])\n",
        "    else:\n",
        "      plt.scatter([i + ep_list[j]], [beta_cova_full[i]], color='black')\n",
        "      plt.vlines(x = i + ep_list[j], ymin = confidence_intervals[i][j][0], ymax = confidence_intervals[i][j][1], alpha=0.3, color=colors[j], linewidths=5)\n",
        "      plt.scatter([[i + ep_list[j], i+ ep_list[j]]], [confidence_intervals[i][j]],linewidths=5, color=colors[j], alpha=0.9)  \n",
        "plt.legend()\n",
        "plt.show()    "
      ],
      "metadata": {
        "colab": {
          "base_uri": "https://localhost:8080/",
          "height": 500
        },
        "id": "bk-WTZ0YWZxk",
        "outputId": "dd81c411-01a0-43c3-f925-96dc031ac561"
      },
      "execution_count": null,
      "outputs": [
        {
          "output_type": "display_data",
          "data": {
            "image/png": "[encoded data removed]",
            "text/plain": [
              "<Figure size 842.4x595.44 with 1 Axes>"
            ]
          },
          "metadata": {}
        }
      ]
    },
    {
      "cell_type": "markdown",
      "source": [
        "<div dir=rtl>\n",
        "<h4>\n",
        "נשים לב כי אורכי רווחי הסמך המבוסס על הקירוב הנורמלי עם השונות של מטריצת השונויות הוא מאוד קטן ולרוב לא מכיל את הערך שנחזה על ידי כל המדגם. הדבר מעיד על כך שהנחת הנורמליות היא הנחה חזקה מידי במקרה זה.\n",
        "</h4>\n",
        "</div>"
      ],
      "metadata": {
        "id": "Lqsdtvo_WcAS"
      }
    },
    {
      "cell_type": "markdown",
      "source": [
        "<div dir=rtl>\n",
        "<h4>\n",
        "3. \n",
        "<br>\n",
        "א.\n",
        "נחזה את הערכים y_new:\n",
        "</h4>\n",
        "</div>"
      ],
      "metadata": {
        "id": "z4814JrmWfdd"
      }
    },
    {
      "cell_type": "code",
      "source": [
        "without_subset = pd.concat([ln_reg_df, sub_set, sub_set]).drop_duplicates(keep=False)\n",
        "without_subset_sample_one = without_subset.sample(n=100)\n",
        "y_cova_without_one = reg_sub.predict(without_subset_sample_one.drop(['Content Rating', 'Installs'], 1))\n",
        "print('Predictions: ')\n",
        "print( y_cova_without_one)"
      ],
      "metadata": {
        "colab": {
          "base_uri": "https://localhost:8080/"
        },
        "id": "gXUTOrWcWhyJ",
        "outputId": "daef7e45-54a0-47bf-f9fa-320234afe4b1"
      },
      "execution_count": null,
      "outputs": [
        {
          "output_type": "stream",
          "name": "stdout",
          "text": [
            "Predictions: \n",
            "[5.55871303 3.57664923 2.65246158 6.47000423 3.85569525 7.08815419\n",
            " 5.99734802 7.5364927  6.13183695 2.46251335 4.74200793 5.56810661\n",
            " 4.8757357  4.8332814  5.08545185 7.15293934 5.08690699 5.54678957\n",
            " 7.70394543 2.54111369 3.0927251  8.01666849 6.15337074 3.02029059\n",
            " 4.48582425 4.02420783 4.87666521 4.38579622 5.87139928 8.14790051\n",
            " 7.07980747 5.49889911 4.27719421 3.83020074 6.6440621  7.83276195\n",
            " 7.20016316 6.03655208 7.28759693 3.48062489 3.34161742 6.78735571\n",
            " 6.70532034 5.21719181 3.83093859 5.7044499  7.34052432 5.7182561\n",
            " 6.1427724  4.53439915 3.42660244 8.00486835 7.90173746 4.02244096\n",
            " 5.88729738 3.65420875 4.96226074 3.02604209 4.66145483 6.36701443\n",
            " 6.08960655 2.62950335 4.94268513 3.87475721 4.22251944 4.61812982\n",
            " 5.85785712 4.39442093 5.66558564 6.50482155 5.82889448 5.02377905\n",
            " 6.66725497 4.97474097 4.52298546 5.23077382 4.71704472 3.75638359\n",
            " 7.43712249 2.92653199 4.15622719 6.6777928  6.14034227 4.8406024\n",
            " 6.0697019  2.92764045 5.01666768 6.78925583 7.47801683 6.32196414\n",
            " 4.31082579 2.96255672 7.91915305 3.05950725 7.07752148 4.50711349\n",
            " 4.04147648 4.29950425 6.79648063 5.60831758]\n"
          ]
        },
        {
          "output_type": "stream",
          "name": "stderr",
          "text": [
            "/usr/local/lib/python3.7/dist-packages/sklearn/base.py:444: UserWarning: X has feature names, but LinearRegression was fitted without feature names\n",
            "  f\"X has feature names, but {self.__class__.__name__} was fitted without\"\n"
          ]
        }
      ]
    },
    {
      "cell_type": "markdown",
      "source": [
        "<div dir=rtl>\n",
        "<h4>\n",
        "ב.\n",
        "נחשב רווחי סמך לתוחלת התחזית לפי שיטת האחוזונים:\n",
        "</h4>\n",
        "</div>"
      ],
      "metadata": {
        "id": "SXWZgSMkWjko"
      }
    },
    {
      "cell_type": "code",
      "source": [
        "vals = []\n",
        "\n",
        "c = 0\n",
        "\n",
        "for i in range(B):\n",
        "  sample = sub_set.sample(n=50, random_state=i)\n",
        "  reg = linear_model.LinearRegression()\n",
        "  reg.fit(sample.drop(['Content Rating', 'Installs'], 1), sample['Installs'].to_numpy())\n",
        "  y_cova_without = reg.predict(without_subset_sample_one.drop(['Content Rating', 'Installs'], 1))\n",
        "  vals.append(y_cova_without)\n",
        "quantiles = []\n",
        "for i in range(len(vals[0])):\n",
        "  cur_vals = [sample[i] for sample in vals]\n",
        "  if c < 5 or c > 95:\n",
        "    print('Confidence Interval For E[Ynew|Xnew] is', i, ': [',   np.quantile(cur_vals,.025), ', ',    np.quantile(cur_vals, .975), ']')\n",
        "  if c == 5:\n",
        "    print('.')  \n",
        "    print('.')  \n",
        "    print('.')  \n",
        "\n",
        "  c += 1  \n",
        "  quantiles.append([np.quantile(cur_vals,.025),np.quantile(cur_vals,.975)])\n",
        "count = 0\n",
        "for i,ynew in enumerate(without_subset_sample_one['Installs']):\n",
        "  if ynew <= quantiles[i][1] and ynew >=  quantiles[i][0]:\n",
        "    count += 1\n",
        "print()    \n",
        "print('Percentage Of Confidence Intervals that Contain The True Value: ', count, '%')"
      ],
      "metadata": {
        "colab": {
          "base_uri": "https://localhost:8080/"
        },
        "id": "_fdt8jQ6WlKt",
        "outputId": "a9f6fadd-c1c0-4f08-de97-98596575ad5b"
      },
      "execution_count": null,
      "outputs": [
        {
          "output_type": "stream",
          "name": "stdout",
          "text": [
            "Confidence Interval For E[Ynew|Xnew] is 0 : [ 5.418309065182985 ,  5.733767092200368 ]\n",
            "Confidence Interval For E[Ynew|Xnew] is 1 : [ 3.32226069372322 ,  4.061084905332692 ]\n",
            "Confidence Interval For E[Ynew|Xnew] is 2 : [ 2.30985804974927 ,  3.0334232461031876 ]\n",
            "Confidence Interval For E[Ynew|Xnew] is 3 : [ 6.3109723928092425 ,  6.622786499530787 ]\n",
            "Confidence Interval For E[Ynew|Xnew] is 4 : [ 3.6770887593387385 ,  4.086168751348349 ]\n",
            ".\n",
            ".\n",
            ".\n",
            "Confidence Interval For E[Ynew|Xnew] is 96 : [ 3.8614971847900637 ,  4.325944105380476 ]\n",
            "Confidence Interval For E[Ynew|Xnew] is 97 : [ 4.119697067106713 ,  4.626923635764012 ]\n",
            "Confidence Interval For E[Ynew|Xnew] is 98 : [ 6.611703272265734 ,  6.983396031752885 ]\n",
            "Confidence Interval For E[Ynew|Xnew] is 99 : [ 5.438136970452163 ,  5.777123654503621 ]\n",
            "\n",
            "Percentage Of Confidence Intervals that Contain The True Value:  53 %\n"
          ]
        }
      ]
    },
    {
      "cell_type": "markdown",
      "source": [
        "<div dir=rtl>\n",
        "<h4>\n",
        "אחוז רווחי הסמך שמכילים את הערך האמיתי הוא 41%, ערך רחוק מאוד מ - 95%. התוצאה לא מפתיע מכיוון שבחישוב רווחי הסמך לתוחלת אנו לא מתחשבים בשונות הרעש ולכן הגיוני שרווח הסמך לא יהיה מדויק.\n",
        "</h4>\n",
        "</div>"
      ],
      "metadata": {
        "id": "WWc7Uuq5WnXP"
      }
    },
    {
      "cell_type": "markdown",
      "source": [
        "<div dir=rtl>\n",
        "<h4>\n",
        "ד. על מנת לחשב רווחי תחזית נצטרך להתחשב בשונות הרעש. נבצע את החישוב באופן הבא:\n",
        "<br>\n",
        "לכל b בין 1 ל - B נדגום מדגם אקראי מתוך המדגם המקורי (בגודל 200) מדגם בגודל 50.\n",
        "<br>\n",
        "נבצע רגרסיה לינארית על המדגם הנ\"ל ונחשב לכל X_new את ערך הפרדיקציה Y_new, נכניס ערכים אלו למערך Y_new_preds\n",
        "<br>\n",
        "לאחר שביציענו את הפעולות הנ\"ל נחשב לכל Y_new את השונות באופן הבא:\n",
        "<br>\n",
        "s.e.(Y_new) = sqrt(sqwer_mean(Y_new_preds) - sqwer(mean(Y_new_preds) + mean(sigma_epsilon_sqwer)\n",
        "<br>\n",
        "כאשר sigma_epsilon_sqwer הוא מערך המכיל השונויות האמפיריות של כל ה -  Y_new\n",
        "<br>\n",
        "כעת, נחשב קירוב נורמלי לרווח הסמך כאשר נשתמש ב - s.e.  שחישבנו קודם.\n",
        "</h4>\n",
        "</div>"
      ],
      "metadata": {
        "id": "eBEET71mWpoE"
      }
    },
    {
      "cell_type": "markdown",
      "source": [
        "<div dir=rtl>\n",
        "<h3>\n",
        "<b>\n",
        "חלק ב'\n",
        "<b>\n",
        "</h3>\n",
        "</div>"
      ],
      "metadata": {
        "id": "CiiWWA1rVfuI"
      }
    },
    {
      "cell_type": "markdown",
      "source": [
        "<div dir=rtl>\n",
        "<h4>\n",
        "נזכר כי בחלק השני של הפרוייקט בדקנו אם הדירגו של האפליקציה שונה בין אפליקציות שעודכנו לאחרונה לבין אפליקציות שלא עודכנו לאחרונה.\n",
        "<br>\n",
        "1. שאלת המחקר שלנו:\n",
        "<br>\n",
        "האם התפלגות ערכי הדירוגים של אפליקציות שעודכנו לאחרונה גדולים מהתפלגות ערכי הדירוגים של האפליקציות שלא עודכנו לאחרונה.\n",
        "<br>\n",
        "<br> \n",
        "2. נבחר תת מדגם בגודל 200 באופן אקראי:\n",
        "</h4>\n",
        "</div>"
      ],
      "metadata": {
        "id": "H_7K9rMSs8op"
      }
    },
    {
      "cell_type": "code",
      "source": [
        "sample = df.sample(n=200, random_state=2)"
      ],
      "metadata": {
        "id": "IBzpvs9C3nsK"
      },
      "execution_count": null,
      "outputs": []
    },
    {
      "cell_type": "markdown",
      "source": [
        "<div dir=rtl>\n",
        "<h4>\n",
        "נחלק את המדגם לשני מדגמים לפי המשתנה הבינארי \"עודכנו לאחרונה\":\n",
        "</h4>\n",
        "\n",
        "\n",
        "</div>"
      ],
      "metadata": {
        "id": "SWjBYDjl4Tqh"
      }
    },
    {
      "cell_type": "code",
      "source": [
        "updated_sample = sample[sample['Recntly Updated']]\n",
        "not_updated_sample = sample[sample['Recntly Updated'] == False]\n",
        "\n",
        "print('Size Of The First Sample: ', len(updated_sample))\n",
        "print('Size Of The Second Sample: ', len(not_updated_sample))"
      ],
      "metadata": {
        "colab": {
          "base_uri": "https://localhost:8080/"
        },
        "id": "iolJZgrq4Phi",
        "outputId": "68557c2d-1823-4b8a-d2a1-160f3bf454e5"
      },
      "execution_count": null,
      "outputs": [
        {
          "output_type": "stream",
          "name": "stdout",
          "text": [
            "Size Of The First Sample:  107\n",
            "Size Of The Second Sample:  93\n"
          ]
        }
      ]
    },
    {
      "cell_type": "markdown",
      "source": [
        "<div dir=rtl>\n",
        "<h4>\n",
        "נשים לב כי גודלי המדגמים מאוד קרובים זה לזה.\n",
        "<br>\n",
        "<br>\n",
        "נסתכל על ההיסטוגרמה של הדירוגים בקבוצת השונות:\n",
        "</h4>\n",
        "</div>"
      ],
      "metadata": {
        "id": "w-zfOOSv5h65"
      }
    },
    {
      "cell_type": "code",
      "source": [
        "sns.set(rc={'figure.figsize':(11.7,8.27)})\n",
        "\n",
        "sns.histplot(updated_sample['Rating'], binwidth=0.1, color='red', label = 'Recntly Updated')\n",
        "sns.histplot(not_updated_sample['Rating'], binwidth=0.1, label = 'Not Recntly Updated')\n",
        "plt.legend()\n",
        "plt.show()"
      ],
      "metadata": {
        "colab": {
          "base_uri": "https://localhost:8080/",
          "height": 517
        },
        "id": "JJjM6eLaEM4K",
        "outputId": "005f93f2-74e1-494b-f647-7e4b125f137f"
      },
      "execution_count": null,
      "outputs": [
        {
          "output_type": "display_data",
          "data": {
            "image/png": "[encoded data removed]",
            "text/plain": [
              "<Figure size 842.4x595.44 with 1 Axes>"
            ]
          },
          "metadata": {}
        }
      ]
    },
    {
      "cell_type": "markdown",
      "source": [
        "<div dir=rtl>\n",
        "<h4>\n",
        "מהיסטוגרמה אנו מקבלים רמז לקח שההתפלגויות אכן שונות. נראה כי שני מדגמי הדירוגים מתפלגות נורמלית עם זנב שמאלי כבד אך פרמטרי ההתפלגות שונים.\n",
        "התפלגות הדירוגים באפליקציות שעודכנו לאחרונה אכן נראים גדולים מהערכים בקטגוריה השנייה.\n",
        "</h4>\n",
        "</div>"
      ],
      "metadata": {
        "id": "dJRiSjVJG8do"
      }
    },
    {
      "cell_type": "markdown",
      "source": [
        "<div dir=rtl>\n",
        "<h4>\n",
        "3.\n",
        "<br>\n",
        "א. נאמוד את התוחלות ואת דלתא באמצעות הממוצע:\n",
        "</h4>\n",
        "</div>"
      ],
      "metadata": {
        "id": "88C3gGzeIaTv"
      }
    },
    {
      "cell_type": "code",
      "source": [
        "print('Estimation For mu1 : ', np.mean(updated_sample['Rating']))\n",
        "print('Estimation For mu2 : ', np.mean(not_updated_sample['Rating']))\n",
        "print('Estimation For Delta : ', np.mean(updated_sample['Rating']) - np.mean(not_updated_sample['Rating']))"
      ],
      "metadata": {
        "colab": {
          "base_uri": "https://localhost:8080/"
        },
        "id": "vatHNmDIS3LC",
        "outputId": "1729d99c-c9c4-45f6-b557-c12a2e01babd"
      },
      "execution_count": null,
      "outputs": [
        {
          "output_type": "stream",
          "name": "stdout",
          "text": [
            "Estimation For mu1 :  4.356074766355138\n",
            "Estimation For mu2 :  4.18494623655914\n",
            "Estimation For Delta :  0.17112852979599769\n"
          ]
        }
      ]
    },
    {
      "cell_type": "markdown",
      "source": [
        "<div dir=rtl>\n",
        "<h4>\n",
        "האומד שקיבלנו הוא אומד נראות מירבית. כפי שראינו קודם, הנתונים שלנו הם בקירוב נורמליים, עד כדי זנב שמאלי, ולכן הממוצע יהיה אנ\"מ לתוחלת. \n",
        "</h4>\n",
        "</div>"
      ],
      "metadata": {
        "id": "wuZtqEXvfKwV"
      }
    },
    {
      "cell_type": "markdown",
      "source": [
        "<div dir=rtl>\n",
        "<h4>\n",
        "ב. נמצא רווח סמך לדלתא:\n",
        "</h4>\n",
        "</div>"
      ],
      "metadata": {
        "id": "qZRbj--7h6NU"
      }
    },
    {
      "cell_type": "code",
      "source": [
        "n1 = len(updated_sample['Rating'])\n",
        "n2 = len(not_updated_sample['Rating'])\n",
        "s1_sq = (np.var(updated_sample['Rating'])*n1)/(n1 - 1)\n",
        "s2_sq = (np.var(not_updated_sample['Rating'])*n2)/(n2 - 1)\n",
        "se = np.sqrt((((n1 - 1)*s1_sq + (n2 - 1)*s2_sq)/(n1 + n2 - 2))*((n1 + n2)/(n1*n2)))\n",
        "ex = np.mean(updated_sample['Rating']) - np.mean(not_updated_sample['Rating'])\n",
        "print('Confidence Interval For Delta: [', ex - dist.norm.ppf(0.975)*se, ',', ex + dist.norm.ppf(0.975)*se, ']')"
      ],
      "metadata": {
        "colab": {
          "base_uri": "https://localhost:8080/"
        },
        "id": "QmXCSV6ticlE",
        "outputId": "d19c64ae-c36f-4a3d-89e0-a97036e7459a"
      },
      "execution_count": null,
      "outputs": [
        {
          "output_type": "stream",
          "name": "stdout",
          "text": [
            "Confidence Interval For Delta: [ 0.05221648189505139 , 0.29004057769694397 ]\n"
          ]
        }
      ]
    },
    {
      "cell_type": "markdown",
      "source": [
        "<div dir=rtl>\n",
        "<h4>\n",
        "ג. נאמוד את דלתא לפי כל המדגם:\n",
        "</h4>\n",
        "</div>"
      ],
      "metadata": {
        "id": "zU5XyeaVlIiC"
      }
    },
    {
      "cell_type": "code",
      "source": [
        "print('Estimation For Delta Based On All The Data: ', np.mean(df[df['Recntly Updated']]['Rating']) - \\\n",
        "      np.mean(df[df['Recntly Updated'] == False]['Rating']))"
      ],
      "metadata": {
        "colab": {
          "base_uri": "https://localhost:8080/"
        },
        "id": "JxB9MW8ElV1n",
        "outputId": "5d808481-2200-46a8-8a7d-5c015fd4f2d0"
      },
      "execution_count": null,
      "outputs": [
        {
          "output_type": "stream",
          "name": "stdout",
          "text": [
            "Estimation For Delta Based On All The Data:  0.15767504665588827\n"
          ]
        }
      ]
    },
    {
      "cell_type": "markdown",
      "source": [
        "<div dir=rtl>\n",
        "<h4>\n",
        "האומד לדלתא לפי כל המדגם אכן נמצא ברווח סמך מהסעיף הקודם.\n",
        "</h4>\n",
        "</div>"
      ],
      "metadata": {
        "id": "VLk6Imo-l5uD"
      }
    },
    {
      "cell_type": "markdown",
      "source": [
        "<div dir=rtl>\n",
        "<h4>\n",
        "ד. נבחן את השערתינו באמצעות מבחן וולד:\n",
        "<br>\n",
        "H0: δ = 0\n",
        "<br>\n",
        "H1: δ != 0\n",
        "</h4>\n",
        "</div>"
      ],
      "metadata": {
        "id": "tG42VWqGqpZK"
      }
    },
    {
      "cell_type": "code",
      "source": [
        "n1 = len(updated_sample['Rating'])\n",
        "n2 = len(not_updated_sample['Rating'])\n",
        "m1 = np.mean(updated_sample['Rating'])\n",
        "m2 = np.mean(not_updated_sample['Rating'])\n",
        "\n",
        "se = np.sqrt(np.var(not_updated_sample['Rating'])/n2 + np.var(updated_sample['Rating'])/n1)\n",
        "w_val = (abs(m1 - m2) - 0)/se\n",
        "\n",
        "print('w =', w_val, '>', 'R.R. = ', dist.norm.ppf(0.975), ',')\n",
        "print('Therefore We Reject H0')"
      ],
      "metadata": {
        "colab": {
          "base_uri": "https://localhost:8080/"
        },
        "id": "9WzIx5G5yIR8",
        "outputId": "287ca261-efab-4b7e-9439-a0f02be91488"
      },
      "execution_count": null,
      "outputs": [
        {
          "output_type": "stream",
          "name": "stdout",
          "text": [
            "w = 2.8195905787581017 > R.R. =  1.959963984540054 ,\n",
            "Therefore We Reject H0\n"
          ]
        }
      ]
    },
    {
      "cell_type": "markdown",
      "source": [
        "<div dir=rtl>\n",
        "<h4>\n",
        "תוצאת המבחן היא שנדחה את השערת האפס. תוצאת המבחן קובעת כי תוחלת דירוגי האפליקציות שעודכנו לאחרונה גדולה מתוחלת דירוגי האפליקציות שלא עודכנו לאחרונה.  \n",
        "</h4>\n",
        "</div>"
      ],
      "metadata": {
        "id": "wSwIRTbx2A40"
      }
    },
    {
      "cell_type": "markdown",
      "source": [
        "<div dir=rtl>\n",
        "<h4>\n",
        "נבחן את השערתינו באמצעות מבחן פרמוטציות:\n",
        "<br>\n",
        "נסמן ב - Fy ו - Fx את הפלגות דירוגי האפליקציות שעודכנו לאחרונה ואת התפלגות דירוגי האפליקציות שלא עודכנו לאחרונה בהתאמה.\n",
        "<br>\n",
        "H0: Fx = Fy\n",
        "<br>\n",
        "H1: Fx ≺ Fy\n",
        "<br>\n",
        "הסטטיסטי שנבחר להשוואה יהיה הפרש הממוצעים.\n",
        "</h4>\n",
        "</div>"
      ],
      "metadata": {
        "id": "vDA81op63Li5"
      }
    },
    {
      "cell_type": "code",
      "source": [
        "n = len(updated_sample['Rating'])\n",
        "all_data = sample['Rating'].to_numpy()\n",
        "B = 400\n",
        "ws = np.mean(updated_sample['Rating']) - np.mean(not_updated_sample['Rating'])\n",
        "print('Ws = ', ws)\n",
        "\n",
        "\n",
        "counts = 0\n",
        "for i in range(B):\n",
        "  np.random.seed(i)\n",
        "  rand_per = np.random.permutation(all_data)\n",
        "  if ws <= np.mean(rand_per[:n]) - np.mean(rand_per[n:]):\n",
        "    counts += 1\n",
        "\n",
        "print('Approximate Pvalue = ', counts/B)\n",
        "\n",
        "print('Pvalue Is Very Small (Smaller Then 0.05) And Therefore We Reject H0')\n"
      ],
      "metadata": {
        "colab": {
          "base_uri": "https://localhost:8080/"
        },
        "id": "APCzp6EW9y4F",
        "outputId": "33db2d75-f0c6-4d2b-ad2a-c34d3edda1da"
      },
      "execution_count": null,
      "outputs": [
        {
          "output_type": "stream",
          "name": "stdout",
          "text": [
            "Ws =  0.17112852979599769\n",
            "Approximate Pvalue =  0.005\n",
            "Pvalue Is Very Small (Smaller Then 0.05) And Therefore We Reject H0\n"
          ]
        }
      ]
    },
    {
      "cell_type": "markdown",
      "source": [
        "<div dir=rtl>\n",
        "<h4>\n",
        "גם במקרה זה, תוצאת המבחן היא דחיית השערת האפס. תוצאות המבחן קובעות כי התפלגות האפליקציות שעודכנו לאחרונה גדולה סטוכסטית מהתפלגות האפליקציות שלא עודכנו לאחרונה.\n",
        "</h4>\n",
        "</div>"
      ],
      "metadata": {
        "id": "s5g3MxmGYbnj"
      }
    },
    {
      "cell_type": "markdown",
      "source": [
        "<div dir=rtl>\n",
        "<h4>\n",
        "4.\n",
        "<br>\n",
        "א. נאמוד את החציונים ואת דלתא באמצעות השברונים האמפיריים:\n",
        "</h4>\n",
        "</div>"
      ],
      "metadata": {
        "id": "iboB-smaZW2w"
      }
    },
    {
      "cell_type": "code",
      "source": [
        "print('Estimation For m1 : ', np.median(updated_sample['Rating']))\n",
        "print('Estimation For m2 : ', np.median(not_updated_sample['Rating']))\n",
        "print('Estimation For Delta : ', np.median(updated_sample['Rating']) - np.median(not_updated_sample['Rating']))"
      ],
      "metadata": {
        "colab": {
          "base_uri": "https://localhost:8080/"
        },
        "id": "SV0IP6jqZuBl",
        "outputId": "44c03b6a-b7d4-432c-c6e9-d049f86137e1"
      },
      "execution_count": null,
      "outputs": [
        {
          "output_type": "stream",
          "name": "stdout",
          "text": [
            "Estimation For m1 :  4.4\n",
            "Estimation For m2 :  4.2\n",
            "Estimation For Delta :  0.20000000000000018\n"
          ]
        }
      ]
    },
    {
      "cell_type": "markdown",
      "source": [
        "<div dir=rtl>\n",
        "<h4>\n",
        "האומד שקיבלנו אינו אומד נראות מירבי ולכן לא נוכל להתחשב בכך בבנית רווח סמך.\n",
        "</h4>\n",
        "</div>"
      ],
      "metadata": {
        "id": "KLOTTr53aCDO"
      }
    },
    {
      "cell_type": "markdown",
      "source": [
        "<div dir=rtl>\n",
        "<h4>\n",
        "ב. נבנה רווח סמך לדלתא באמצעות שברונים (bootstrap):\n",
        "</h4>\n",
        "</div>"
      ],
      "metadata": {
        "id": "ucU6-W5Sa7w6"
      }
    },
    {
      "cell_type": "code",
      "source": [
        "B = 400\n",
        "delta_list = []\n",
        "\n",
        "for i in range(B):\n",
        "  boot_sample = sample.sample(100, random_state=i)\n",
        "  delta_list.append(np.median(boot_sample[boot_sample['Recntly Updated']]['Rating']) - np.median(boot_sample[boot_sample['Recntly Updated'] == False]['Rating']))\n",
        "\n",
        "print('Confidence Interval For Delta: [', sorted(delta_list)[round(400*(0.025))], ',', sorted(delta_list)[round(400*(0.975))], ']')"
      ],
      "metadata": {
        "colab": {
          "base_uri": "https://localhost:8080/"
        },
        "id": "NEjS6JR9cQAe",
        "outputId": "2fb5a29a-fe07-4d72-9938-574d8bdaa695"
      },
      "execution_count": null,
      "outputs": [
        {
          "output_type": "stream",
          "name": "stdout",
          "text": [
            "Confidence Interval For Delta: [ 0.10000000000000053 , 0.3000000000000007 ]\n"
          ]
        }
      ]
    },
    {
      "cell_type": "markdown",
      "source": [
        "<div dir=rtl>\n",
        "<h4>\n",
        "ג. נאמוד את דלתא לפי כל המדגם:\n",
        "</h4>\n",
        "</div>"
      ],
      "metadata": {
        "id": "oNLWQvLcf93I"
      }
    },
    {
      "cell_type": "code",
      "source": [
        "print('Estimation For Delta Based On All The Data: ', np.median(df[df['Recntly Updated']]['Rating']) - \\\n",
        "      np.median(df[df['Recntly Updated'] == False]['Rating']))"
      ],
      "metadata": {
        "colab": {
          "base_uri": "https://localhost:8080/"
        },
        "id": "zOXt4rNpgBR4",
        "outputId": "32bf0f2a-68d7-4017-9360-0ce29ac03969"
      },
      "execution_count": null,
      "outputs": [
        {
          "output_type": "stream",
          "name": "stdout",
          "text": [
            "Estimation For Delta Based On All The Data:  0.20000000000000018\n"
          ]
        }
      ]
    },
    {
      "cell_type": "markdown",
      "source": [
        "<div dir=rtl>\n",
        "<h4>\n",
        "האומד לדלתא לפי כל המדגם אכן נמצא ברווח סמך מהסעיף הקודם. בנוסף, קיבלנו אומד זהה לאומד שקיבלנו על בסיס המדגם הקטן.\n",
        "</h4>\n",
        "</div>"
      ],
      "metadata": {
        "id": "lchCbtn6gJk1"
      }
    },
    {
      "cell_type": "markdown",
      "source": [
        "<div dir=rtl>\n",
        "<h4>\n",
        "ד. נבחן את השערתינו באמצעות מבחן פרמוטציות:\n",
        "<br>\n",
        "נסמן ב - Fy ו - Fx את הפלגות דירוגי האפליקציות שעודכנו לאחרונה ואת התפלגות דירוגי האפליקציות שלא עודכנו לאחרונה בהתאמה.\n",
        "<br>\n",
        "H0: Fx = Fy\n",
        "<br>\n",
        "H1: Fx ≺ Fy\n",
        "<br>\n",
        "הסטטיסטי שנבחר להשוואה יהיה הפרש החציונים.\n",
        "</h4>\n",
        "</div>"
      ],
      "metadata": {
        "id": "IpQe6jpzgZ5x"
      }
    },
    {
      "cell_type": "code",
      "source": [
        "n = len(updated_sample['Rating'])\n",
        "all_data = sample['Rating'].to_numpy()\n",
        "B = 400\n",
        "ws = np.median(updated_sample['Rating']) - np.median(not_updated_sample['Rating'])\n",
        "print('Ws = ', ws)\n",
        "\n",
        "\n",
        "counts = 0\n",
        "for i in range(B):\n",
        "  np.random.seed(i)\n",
        "  rand_per = np.random.permutation(all_data)\n",
        "  if ws <= np.median(rand_per[:n]) - np.median(rand_per[n:]):\n",
        "    counts += 1\n",
        "\n",
        "print('Approximate Pvalue = ', counts/B)\n",
        "\n",
        "print('Pvalue Is Small (Smaller Then 0.05) And Therefore We Reject H0')"
      ],
      "metadata": {
        "colab": {
          "base_uri": "https://localhost:8080/"
        },
        "id": "gaaHpSwGgZNB",
        "outputId": "ea9009b2-9bbb-46b1-9d76-55768859c208"
      },
      "execution_count": null,
      "outputs": [
        {
          "output_type": "stream",
          "name": "stdout",
          "text": [
            "Ws =  0.20000000000000018\n",
            "Approximate Pvalue =  0.035\n",
            "Pvalue Is Small (Smaller Then 0.05) And Therefore We Reject H0\n"
          ]
        }
      ]
    },
    {
      "cell_type": "markdown",
      "source": [
        "<div dir=rtl>\n",
        "<h4>\n",
        "תוצאת המבחן היא דחיית השערת האפס. תוצאות המבחן קובעות כי התפלגות האפליקציות שעודכנו לאחרונה גדולה סטוכסטית מהתפלגות האפליקציות שלא עודכנו לאחרונה.\n",
        "</h4>\n",
        "</div>"
      ],
      "metadata": {
        "id": "YQDOhsO1gxBH"
      }
    },
    {
      "cell_type": "markdown",
      "source": [
        "<div dir=rtl>\n",
        "<h4>\n",
        "ה. גם מבחן ואלד וגם מבחן t משתמשים בהנחה כי האומד הוא אסימפטוטי נורמלי. במקרה שלנו, האומד לדלתא אינו אנ\"מ ולכן אם נרצה להשתמש במבחנים אלו נצטרך להוכיח כי האומדים הם אסימפטוטים נורמלים, תכונה שלא בהכרח תתקים. לכן, לא נוכל להשתמש במבחנים אלו במקרה שלנו.\n",
        "</h4>\n",
        "</div>"
      ],
      "metadata": {
        "id": "ppyx2zvqhDIJ"
      }
    },
    {
      "cell_type": "markdown",
      "source": [
        "<div dir=rtl>\n",
        "<h4>\n",
        "5. ממבט ראשוני בנתונים, נראה כי יש לנו הרבה כפיליות, על מנת שנוכל לבצע קירוב נורמלי למבחן וילקוקסון, נבדוק אם יש להתחשב בהם באמצעות בדיקת היחס בין השוניות כאשר אנו מתחשבים בכפילויות וכאשר אנו לא מתחשבים בכפילויות:\n",
        "</h4>\n",
        "</div>"
      ],
      "metadata": {
        "id": "KgRgDb3eiobu"
      }
    },
    {
      "cell_type": "code",
      "source": [
        "n = len(updated_sample['Rating'])\n",
        "m = len(sample) - len(updated_sample['Rating'])\n",
        "all_data = list(sample[['Rating', 'App']].to_numpy())\n",
        "all_data = [list(x) for x in all_data]\n",
        "all_data = sorted(all_data)\n",
        "\n",
        "i = 1\n",
        "for x in all_data:\n",
        "  x.append(i)\n",
        "  i += 1\n",
        "\n",
        "tr_list = []\n",
        "\n",
        "for u in sample['Rating'].unique():\n",
        "  i = 0\n",
        "  to_change_list = []\n",
        "  for x in all_data:\n",
        "    if x[0] == u:\n",
        "        to_change_list.append(i)\n",
        "    i += 1    \n",
        "\n",
        "  if len(to_change_list) > 1:\n",
        "    tr_list.append(len(to_change_list))\n",
        "  new_rank = np.mean([all_data[y][2] for y in to_change_list])\n",
        "  for j in to_change_list:\n",
        "    all_data[j][2] = new_rank\n",
        "\n",
        "\n",
        "\n",
        "var_ws = n*m*(n + m + 1)/12\n",
        "var_ws_gal = var_ws - (n*m/(12*(n+m)*(n+m-1)))*sum([t*(t**2 - 1) for t in tr_list])\n",
        "print('The Variance Retio', (var_ws - var_ws_gal)/var_ws)\n",
        "\n"
      ],
      "metadata": {
        "colab": {
          "base_uri": "https://localhost:8080/"
        },
        "id": "7dZb-aBGkO-W",
        "outputId": "af6a0d14-e1da-41a2-ad47-0c631d0877a4"
      },
      "execution_count": null,
      "outputs": [
        {
          "output_type": "stream",
          "name": "stdout",
          "text": [
            "The Variance Retio 0.008921473036825922\n"
          ]
        }
      ]
    },
    {
      "cell_type": "markdown",
      "source": [
        "<div dir=rtl>\n",
        "<h4>\n",
        "ניתן לראות כי היחס הנ\"ל מאוד קטן, ולכן נוכל להתעלם מהכפיליות ולהשתמש במבחן הרגיל.\n",
        "</h4>\n",
        "</div>"
      ],
      "metadata": {
        "id": "b8Z_rN2RclcE"
      }
    },
    {
      "cell_type": "code",
      "source": [
        "n = len(updated_sample['Rating'])\n",
        "m = len(sample) - len(updated_sample['Rating'])\n",
        "all_data = list(sample[['Rating', 'App']].to_numpy())\n",
        "all_data = [list(x) for x in all_data]\n",
        "all_data = sorted(all_data)\n",
        "\n",
        "i = 1\n",
        "for x in all_data:\n",
        "  x.append(i)\n",
        "  i += 1\n",
        "\n",
        "ex_ws = n*(1+n+m)/2\n",
        "var_ws = n*m*(n + m + 1)/12\n",
        "\n",
        "ws = 0\n",
        "\n",
        "for x in updated_sample['App'].unique():\n",
        "  for d in all_data:\n",
        "    if d[1] == x:\n",
        "      ws += d[2]\n",
        "\n",
        "\n",
        "T = (ws - ex_ws)/np.sqrt(var_ws)\n",
        "\n",
        "print('T =', T)\n",
        "print('T >=', dist.norm.ppf(0.975), ',')\n",
        "print('Therefore We Reject H0')"
      ],
      "metadata": {
        "colab": {
          "base_uri": "https://localhost:8080/"
        },
        "id": "ALQ7BZVUvuR8",
        "outputId": "d3295042-45b3-4a0f-8563-b5da03408508"
      },
      "execution_count": null,
      "outputs": [
        {
          "output_type": "stream",
          "name": "stdout",
          "text": [
            "T = 3.8002398795803343\n",
            "T >= 1.959963984540054 ,\n",
            "Therefore We Reject H0\n"
          ]
        }
      ]
    },
    {
      "cell_type": "markdown",
      "source": [
        "<div dir=rtl>\n",
        "<h4>\n",
        "תוצאת המבחן היא דחיית השערת האפס. תוצאות המבחן קובעות כי התפלגות האפליקציות שעודכנו לאחרונה גדולה סטוכסטית מהתפלגות האפליקציות שלא עודכנו לאחרונה.\n",
        "</h4>\n",
        "</div>"
      ],
      "metadata": {
        "id": "Op8mD1N6d3vc"
      }
    },
    {
      "cell_type": "markdown",
      "source": [
        "<div dir=rtl>\n",
        "<h4>\n",
        "6. נזכר כי ההיסטוגרמה שהצגנו קודם רמזה לכך שהתפלגויות הערכים אכן שונות וכי התפלגות הדירוגים של האפליקציות שעודכנו לאחרונה יותר גדולים מהערכים בקטגוריה השנייה.\n",
        "<br>\n",
        "תוצאת כל המבחנים שהצגנו בסעיפים 3 - 5 תומכים בטענה זו. העובדה שבשלושה מבחנים שונים שבוצעו בשיטות אחרות ועל סטטיסטים שונים (שמעידים על שוני בין גדלי הדירוגים) הגענו לאותה מסקנה, מחזקת מאוד את תוצאותינו ואכן יש לנו סיבה להאמין כי יש קורלציה בין אפליקציות שעודכנו לאחרונה לדירוגים שלהם.\n",
        "</h4>\n",
        "</div>"
      ],
      "metadata": {
        "id": "gfYWCRmMd5AA"
      }
    }
  ]
}